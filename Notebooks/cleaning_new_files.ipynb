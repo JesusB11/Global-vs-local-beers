{
 "cells": [
  {
   "cell_type": "code",
   "execution_count": 1,
   "id": "1782aa1f",
   "metadata": {},
   "outputs": [],
   "source": [
    "import pandas as pd\n",
    "import numpy as np\n",
    "import datetime"
   ]
  },
  {
   "cell_type": "code",
   "execution_count": 56,
   "id": "edde5660",
   "metadata": {},
   "outputs": [
    {
     "name": "stdout",
     "output_type": "stream",
     "text": [
      "<class 'pandas.core.frame.DataFrame'>\n",
      "RangeIndex: 100 entries, 0 to 99\n",
      "Data columns (total 5 columns):\n",
      " #   Column          Non-Null Count  Dtype  \n",
      "---  ------          --------------  -----  \n",
      " 0   beer_style      100 non-null    object \n",
      " 1   votes           100 non-null    int64  \n",
      " 2   review_overall  100 non-null    float64\n",
      " 3   year            100 non-null    int64  \n",
      " 4   local_review    100 non-null    object \n",
      "dtypes: float64(1), int64(2), object(2)\n",
      "memory usage: 4.0+ KB\n"
     ]
    }
   ],
   "source": [
    "BADVES=pd.read_csv('../Data/Clean/BADV_ES_clean.csv')\n",
    "BADVES.info()"
   ]
  },
  {
   "cell_type": "code",
   "execution_count": 32,
   "id": "6c22c12e",
   "metadata": {},
   "outputs": [
    {
     "data": {
      "text/plain": [
       "array(['Herb and Spice Beer', 'American Pale Ale',\n",
       "       'Russian Imperial Stout', 'Baltic Porter',\n",
       "       'American Amber / Red Ale', 'Munich Dunkel', 'New England IPA',\n",
       "       'American IPA', 'Imperial IPA', 'American Imperial Stout',\n",
       "       'Foreign / Export Stout', 'English Barleywine', 'Saison',\n",
       "       'American Blonde Ale', 'Imperial Porter', 'English IPA',\n",
       "       'Irish Red Ale', 'Wild Ale', 'American Brown Ale',\n",
       "       'English Pale Ale', 'English Brown Ale', 'American Porter',\n",
       "       'English Stout', 'European Dark Lager',\n",
       "       'European / Dortmunder Export Lager', 'Tripel', 'Berliner Weisse',\n",
       "       'Black IPA', 'Belgian IPA', 'Oatmeal Stout', 'American Lager'],\n",
       "      dtype=object)"
      ]
     },
     "execution_count": 32,
     "metadata": {},
     "output_type": "execute_result"
    }
   ],
   "source": [
    "BADVES['beer_style'].unique()"
   ]
  },
  {
   "cell_type": "code",
   "execution_count": 57,
   "id": "2612f60a",
   "metadata": {},
   "outputs": [],
   "source": [
    "styles_map={'American Blonde Ale': 1, 'American Amber / Red Ale': 2, 'Black IPA': 4, 'American Brown Ale': 5, 'American Porter': 7, 'Imperial Porter': 7, 'American Imperial Stout': 9, 'Russian Imperial Stout': 9, 'American IPA': 10, 'American Lager': 11, 'American Pale Ale': 12, 'Baltic Porter': 16, 'Wild Ale': 21, 'Belgian IPA': 22, 'Saison': 24, 'Tripel': 25, 'Berliner Weisse': 27, 'European Dark Lager': 29, 'English Barleywine': 30, 'English Brown Ale': 36, 'English IPA': 38, 'English Stout': 40, 'Oatmeal Stout': 40, 'English Pale Ale': 42, 'Munich Dunkel': 50, 'European / Dortmunder Export Lager': 56, 'Herb and Spice Beer': 59, 'Imperial IPA': 61, 'Foreign / Export Stout': 62, 'Irish Red Ale': 63, 'New England IPA': 64}\n",
    "BADVES['beer_style']=BADVES['beer_style'].map(styles_map)"
   ]
  },
  {
   "cell_type": "code",
   "execution_count": 58,
   "id": "f97fca5f",
   "metadata": {},
   "outputs": [
    {
     "name": "stdout",
     "output_type": "stream",
     "text": [
      "<class 'pandas.core.frame.DataFrame'>\n",
      "RangeIndex: 100 entries, 0 to 99\n",
      "Data columns (total 5 columns):\n",
      " #   Column          Non-Null Count  Dtype  \n",
      "---  ------          --------------  -----  \n",
      " 0   beer_style      100 non-null    int64  \n",
      " 1   votes           100 non-null    int64  \n",
      " 2   review_overall  100 non-null    float64\n",
      " 3   year            100 non-null    int64  \n",
      " 4   local_review    100 non-null    object \n",
      "dtypes: float64(1), int64(3), object(1)\n",
      "memory usage: 4.0+ KB\n"
     ]
    }
   ],
   "source": [
    "BADVES.info()"
   ]
  },
  {
   "cell_type": "code",
   "execution_count": 59,
   "id": "6a518270",
   "metadata": {},
   "outputs": [],
   "source": [
    "BADVES.to_csv('../Data/Clean/BADV_ES_clean.csv',index=False)"
   ]
  },
  {
   "cell_type": "markdown",
   "id": "1f47e474",
   "metadata": {},
   "source": [
    "Mapping the badv_global file"
   ]
  },
  {
   "cell_type": "code",
   "execution_count": 51,
   "id": "22e65e68",
   "metadata": {},
   "outputs": [
    {
     "name": "stdout",
     "output_type": "stream",
     "text": [
      "<class 'pandas.core.frame.DataFrame'>\n",
      "RangeIndex: 250 entries, 0 to 249\n",
      "Data columns (total 5 columns):\n",
      " #   Column          Non-Null Count  Dtype  \n",
      "---  ------          --------------  -----  \n",
      " 0   beer_style      250 non-null    int64  \n",
      " 1   votes           250 non-null    object \n",
      " 2   review_overall  250 non-null    float64\n",
      " 3   year            250 non-null    int64  \n",
      " 4   local_review    250 non-null    object \n",
      "dtypes: float64(1), int64(2), object(2)\n",
      "memory usage: 9.9+ KB\n"
     ]
    }
   ],
   "source": [
    "BADVG=pd.read_csv('../Data/Clean/BADV_global_clean.csv')\n",
    "BADVG.info()"
   ]
  },
  {
   "cell_type": "code",
   "execution_count": 22,
   "id": "415590ec",
   "metadata": {},
   "outputs": [
    {
     "data": {
      "text/plain": [
       "array(['Fruit Lambic', 'American Imperial Stout', 'American Pale Ale',\n",
       "       'Oatmeal Stout', 'Imperial IPA', 'Quadrupel (Quad)',\n",
       "       'Russian Imperial Stout', 'Wild Ale', 'English Barleywine',\n",
       "       'New England IPA', 'Dubbel', 'American Porter', 'American IPA',\n",
       "       'Gueuze', 'Flanders Red Ale', 'Imperial Porter', 'Saison',\n",
       "       'American Strong Ale', 'Sweet / Milk Stout', 'Berliner Weisse',\n",
       "       'Lambic', 'American Barleywine', 'Milkshake IPA', 'Old Ale',\n",
       "       'Rye Beer', 'Fruited Kettle Sour'], dtype=object)"
      ]
     },
     "execution_count": 22,
     "metadata": {},
     "output_type": "execute_result"
    }
   ],
   "source": [
    "BADVG['beer_style'].unique()"
   ]
  },
  {
   "cell_type": "code",
   "execution_count": 23,
   "id": "1cfb7af7",
   "metadata": {},
   "outputs": [
    {
     "name": "stdout",
     "output_type": "stream",
     "text": [
      "<class 'pandas.core.frame.DataFrame'>\n",
      "RangeIndex: 250 entries, 0 to 249\n",
      "Data columns (total 4 columns):\n",
      " #   Column          Non-Null Count  Dtype  \n",
      "---  ------          --------------  -----  \n",
      " 0   beer_style      250 non-null    int64  \n",
      " 1   votes           250 non-null    object \n",
      " 2   review_overall  250 non-null    float64\n",
      " 3   year            250 non-null    int64  \n",
      "dtypes: float64(1), int64(2), object(1)\n",
      "memory usage: 7.9+ KB\n"
     ]
    }
   ],
   "source": [
    "styles_map_2={'American Barleywine': 3, 'American Imperial Stout': 9, 'American IPA': 10, 'American Pale Ale': 12, 'American Porter': 7, 'American Strong Ale': 2, 'Berliner Weisse': 27, 'Dubbel': 18, 'English Barleywine': 30, 'Flanders Red Ale': 19, 'Fruit Lambic': 21, 'Fruited Kettle Sour': 46, 'Gueuze': 21, 'Imperial IPA': 61, 'Imperial Porter': 7, 'Lambic': 21, 'Milkshake IPA': 64, 'New England IPA': 64, 'Oatmeal Stout': 40, 'Old Ale': 41, 'Quadrupel (Quad)': 23, 'Russian Imperial Stout': 9, 'Rye Beer': 7, 'Saison': 24, 'Sweet / Milk Stout': 43, 'Wild Ale': 21}\n",
    "BADVG['beer_style']=BADVG['beer_style'].map(styles_map_2)\n",
    "BADVG.info()"
   ]
  },
  {
   "cell_type": "code",
   "execution_count": 24,
   "id": "cc304b6f",
   "metadata": {},
   "outputs": [],
   "source": [
    "BADVG.to_csv('../Data/Clean/BADV_global_clean.csv',index=False)"
   ]
  },
  {
   "cell_type": "markdown",
   "id": "0e964c81",
   "metadata": {},
   "source": [
    "Last one"
   ]
  },
  {
   "cell_type": "code",
   "execution_count": 52,
   "id": "9cbcc736",
   "metadata": {},
   "outputs": [
    {
     "name": "stdout",
     "output_type": "stream",
     "text": [
      "<class 'pandas.core.frame.DataFrame'>\n",
      "RangeIndex: 50 entries, 0 to 49\n",
      "Data columns (total 5 columns):\n",
      " #   Column          Non-Null Count  Dtype  \n",
      "---  ------          --------------  -----  \n",
      " 0   beer_style      50 non-null     int64  \n",
      " 1   votes           50 non-null     object \n",
      " 2   review_overall  50 non-null     float64\n",
      " 3   year            50 non-null     int64  \n",
      " 4   local_review    50 non-null     object \n",
      "dtypes: float64(1), int64(2), object(2)\n",
      "memory usage: 2.1+ KB\n"
     ]
    }
   ],
   "source": [
    "unt=pd.read_csv('../Data/Clean/Untappd_ES_clean.csv')\n",
    "unt.info()"
   ]
  },
  {
   "cell_type": "code",
   "execution_count": 29,
   "id": "cb26f7f6",
   "metadata": {},
   "outputs": [
    {
     "data": {
      "text/plain": [
       "array(['Stout - Imperial / Double', 'IPA - Triple New England / Hazy',\n",
       "       'Stout - Russian Imperial',\n",
       "       'IPA - Imperial / Double New England / Hazy',\n",
       "       'Stout - Imperial / Double Pastry', 'Barleywine - Other',\n",
       "       'IPA - Quadruple', 'IPA - Triple',\n",
       "       'Porter - Imperial / Double Baltic', 'IPA - Imperial / Double'],\n",
       "      dtype=object)"
      ]
     },
     "execution_count": 29,
     "metadata": {},
     "output_type": "execute_result"
    }
   ],
   "source": [
    "unt['beer_style'].unique()"
   ]
  },
  {
   "cell_type": "code",
   "execution_count": 30,
   "id": "e767fa98",
   "metadata": {},
   "outputs": [
    {
     "name": "stdout",
     "output_type": "stream",
     "text": [
      "<class 'pandas.core.frame.DataFrame'>\n",
      "RangeIndex: 50 entries, 0 to 49\n",
      "Data columns (total 4 columns):\n",
      " #   Column          Non-Null Count  Dtype  \n",
      "---  ------          --------------  -----  \n",
      " 0   beer_style      50 non-null     int64  \n",
      " 1   votes           50 non-null     object \n",
      " 2   review_overall  50 non-null     float64\n",
      " 3   year            50 non-null     int64  \n",
      "dtypes: float64(1), int64(2), object(1)\n",
      "memory usage: 1.7+ KB\n"
     ]
    }
   ],
   "source": [
    "styles_map_3={'American Barley wine': 3, 'American IPA': 10, 'American Porter': 7, 'American Strong Ale': 1, 'Barleywine - Other': 3, 'Berliner Weisse': 27, 'Dubbel': 18, 'Flanders Red Ale': 19, 'Fruited Kettle Sour': 46, 'Gueuze': 21, 'Imperial Porter': 7, 'IPA - Imperial / Double New England / Hazy': 64, 'IPA - Imperial / Double': 61, 'IPA - Quadruple': 23, 'IPA - Triple New England / Hazy': 64, 'IPA - Triple': 61, 'Lambic': 21, 'Milkshake IPA': 64, 'Old Ale': 41, 'Porter - Imperial / Double Baltic': 7, 'Rye Beer': 7, 'Saison': 24, 'Stout - Imperial / Double Pastry': 9, 'Stout - Imperial / Double': 9, 'Stout - Russian Imperial': 9, 'Sweet / Milk Stout': 43}\n",
    "\n",
    "unt['beer_style']=unt['beer_style'].map(styles_map_3)\n",
    "unt.info()"
   ]
  },
  {
   "cell_type": "code",
   "execution_count": 31,
   "id": "600d778d",
   "metadata": {},
   "outputs": [],
   "source": [
    "unt.to_csv('../Data/Clean/Untappd_ES_clean.csv',index=False)"
   ]
  },
  {
   "cell_type": "markdown",
   "id": "48fae2ad",
   "metadata": {},
   "source": [
    "Untappd global data"
   ]
  },
  {
   "cell_type": "code",
   "execution_count": 53,
   "id": "225396b8",
   "metadata": {},
   "outputs": [
    {
     "name": "stdout",
     "output_type": "stream",
     "text": [
      "<class 'pandas.core.frame.DataFrame'>\n",
      "RangeIndex: 48 entries, 0 to 47\n",
      "Data columns (total 5 columns):\n",
      " #   Column          Non-Null Count  Dtype  \n",
      "---  ------          --------------  -----  \n",
      " 0   beer_style      48 non-null     int64  \n",
      " 1   votes           48 non-null     int64  \n",
      " 2   review_overall  48 non-null     float64\n",
      " 3   year            48 non-null     int64  \n",
      " 4   local_review    48 non-null     object \n",
      "dtypes: float64(1), int64(3), object(1)\n",
      "memory usage: 2.0+ KB\n"
     ]
    }
   ],
   "source": [
    "untG=pd.read_csv('../Data/Clean/Untappd_global_clean.csv')\n",
    "untG.info()"
   ]
  },
  {
   "cell_type": "code",
   "execution_count": 38,
   "id": "ab973330",
   "metadata": {},
   "outputs": [
    {
     "name": "stdout",
     "output_type": "stream",
     "text": [
      "<class 'pandas.core.frame.DataFrame'>\n",
      "RangeIndex: 48 entries, 0 to 47\n",
      "Data columns (total 5 columns):\n",
      " #   Column          Non-Null Count  Dtype  \n",
      "---  ------          --------------  -----  \n",
      " 0   beer_style      48 non-null     int64  \n",
      " 1   votes           48 non-null     object \n",
      " 2   review_overall  48 non-null     float64\n",
      " 3   year            48 non-null     int64  \n",
      " 4   local_review    48 non-null     object \n",
      "dtypes: float64(1), int64(2), object(2)\n",
      "memory usage: 2.0+ KB\n"
     ]
    }
   ],
   "source": [
    "styles_map_4={'Barleywine - English':3, 'Stout - Imperial / Double':9, 'Stout - Imperial / Double Pastry':9, 'Stout - Imperial / Double Milk':43, 'Stout - Imperial / Double Coffee':9, 'Stout - Russian Imperial':9, 'IPA - Imperial / Double':61, 'Lambic - Traditional':21, 'Strong Ale - American':20}\n",
    "untG['beer_style']=untG['beer_style'].map(styles_map_4)\n",
    "untG.info()"
   ]
  },
  {
   "cell_type": "code",
   "execution_count": 42,
   "id": "394a47db",
   "metadata": {},
   "outputs": [],
   "source": [
    "untG['votes']=untG['votes'].str.replace(\",\",\"\")\n"
   ]
  },
  {
   "cell_type": "code",
   "execution_count": null,
   "id": "1c511f2f",
   "metadata": {},
   "outputs": [
    {
     "name": "stdout",
     "output_type": "stream",
     "text": [
      "<class 'pandas.core.frame.DataFrame'>\n",
      "RangeIndex: 48 entries, 0 to 47\n",
      "Data columns (total 5 columns):\n",
      " #   Column          Non-Null Count  Dtype  \n",
      "---  ------          --------------  -----  \n",
      " 0   beer_style      48 non-null     int64  \n",
      " 1   votes           48 non-null     int64  \n",
      " 2   review_overall  48 non-null     float64\n",
      " 3   year            48 non-null     int64  \n",
      " 4   local_review    48 non-null     object \n",
      "dtypes: float64(1), int64(3), object(1)\n",
      "memory usage: 2.0+ KB\n"
     ]
    }
   ],
   "source": [
    "untG['votes']=untG['votes'].astype(int)\n",
    "untG.info()"
   ]
  },
  {
   "cell_type": "code",
   "execution_count": 44,
   "id": "693a95a4",
   "metadata": {},
   "outputs": [],
   "source": [
    "untG.to_csv('../Data/Clean/Untappd_global_clean.csv',index=False)"
   ]
  },
  {
   "cell_type": "markdown",
   "id": "bc18e2c9",
   "metadata": {},
   "source": [
    "Now concat all of them"
   ]
  },
  {
   "cell_type": "code",
   "execution_count": 60,
   "id": "2cadaaa5",
   "metadata": {},
   "outputs": [],
   "source": [
    "pd.concat([untG, unt, BADVG, BADVES]).to_csv('../Data/Clean/New_reviews.csv', index=False)"
   ]
  },
  {
   "cell_type": "code",
   "execution_count": null,
   "id": "39ed6d50",
   "metadata": {},
   "outputs": [],
   "source": [
    "df=pd.read_csv('../Data/Clean/New_reviews.csv')\n"
   ]
  },
  {
   "cell_type": "code",
   "execution_count": 65,
   "id": "d27f290d",
   "metadata": {},
   "outputs": [],
   "source": [
    "df=df.rename(columns={'beer_style':'style_id'})"
   ]
  },
  {
   "cell_type": "code",
   "execution_count": 67,
   "id": "a0b42445",
   "metadata": {},
   "outputs": [],
   "source": [
    "df.to_csv('../Data/Clean/New_reviews.csv', index=False)"
   ]
  },
  {
   "cell_type": "markdown",
   "id": "0cd0ce02",
   "metadata": {},
   "source": [
    "## TESTING BORRAR DE AQUI PA ABAJO!!!!!!!!!!!!!!!"
   ]
  },
  {
   "cell_type": "code",
   "execution_count": 34,
   "id": "dcd25ed5",
   "metadata": {},
   "outputs": [],
   "source": [
    "BADVES=pd.read_csv('../Data/Clean/BADV_ES_clean.csv')\n",
    "BADVG=pd.read_csv('../Data/Clean/BADV_global_clean.csv')\n",
    "unt=pd.read_csv('../Data/Clean/Untappd_ES_clean.csv')\n",
    "untG=pd.read_csv('../Data/Clean/Untappd_global_clean.csv')\n",
    "char=pd.read_csv('../Data/Clean/standard_beer_types_features_clean.csv')\n",
    "beer_reviews=pd.read_csv('../Data/Clean/beer_reviews_all_columns.csv')\n",
    "new=pd.read_csv('../Data/Clean/New_reviews.csv')"
   ]
  },
  {
   "cell_type": "code",
   "execution_count": 53,
   "id": "96def7a5",
   "metadata": {},
   "outputs": [
    {
     "data": {
      "application/vnd.microsoft.datawrangler.viewer.v0+json": {
       "columns": [
        {
         "name": "index",
         "rawType": "int64",
         "type": "integer"
        },
        {
         "name": "style_id",
         "rawType": "int64",
         "type": "integer"
        },
        {
         "name": "votes",
         "rawType": "object",
         "type": "string"
        },
        {
         "name": "review_overall",
         "rawType": "float64",
         "type": "float"
        },
        {
         "name": "year",
         "rawType": "int64",
         "type": "integer"
        },
        {
         "name": "local_review",
         "rawType": "object",
         "type": "string"
        }
       ],
       "ref": "11ee1369-091b-4b10-b574-69de95a9478c",
       "rows": [
        [
         "0",
         "3",
         "2500",
         "4.78",
         "2025",
         "No"
        ],
        [
         "1",
         "9",
         "2055",
         "4.77",
         "2025",
         "No"
        ],
        [
         "2",
         "9",
         "3716",
         "4.76",
         "2025",
         "No"
        ],
        [
         "3",
         "9",
         "3567",
         "4.75",
         "2025",
         "No"
        ],
        [
         "4",
         "9",
         "2057",
         "4.75",
         "2025",
         "No"
        ],
        [
         "5",
         "9",
         "1948",
         "4.74",
         "2025",
         "No"
        ],
        [
         "6",
         "9",
         "8652",
         "4.73",
         "2025",
         "No"
        ],
        [
         "7",
         "9",
         "28197",
         "4.73",
         "2025",
         "No"
        ],
        [
         "8",
         "9",
         "15962",
         "4.73",
         "2025",
         "No"
        ],
        [
         "9",
         "9",
         "1128",
         "4.72",
         "2025",
         "No"
        ],
        [
         "10",
         "9",
         "1783",
         "4.72",
         "2025",
         "No"
        ],
        [
         "11",
         "9",
         "9660",
         "4.72",
         "2025",
         "No"
        ],
        [
         "12",
         "9",
         "2049",
         "4.71",
         "2025",
         "No"
        ],
        [
         "13",
         "9",
         "1460",
         "4.71",
         "2025",
         "No"
        ],
        [
         "14",
         "9",
         "9918",
         "4.71",
         "2025",
         "No"
        ],
        [
         "15",
         "9",
         "1723",
         "4.71",
         "2025",
         "No"
        ],
        [
         "16",
         "9",
         "27468",
         "4.7",
         "2025",
         "No"
        ],
        [
         "17",
         "9",
         "5957",
         "4.7",
         "2025",
         "No"
        ],
        [
         "18",
         "9",
         "1817",
         "4.7",
         "2025",
         "No"
        ],
        [
         "19",
         "43",
         "3804",
         "4.7",
         "2025",
         "No"
        ],
        [
         "20",
         "9",
         "4588",
         "4.69",
         "2025",
         "No"
        ],
        [
         "21",
         "9",
         "8028",
         "4.69",
         "2025",
         "No"
        ],
        [
         "22",
         "3",
         "1913",
         "4.68",
         "2025",
         "No"
        ],
        [
         "23",
         "3",
         "4647",
         "4.68",
         "2025",
         "No"
        ],
        [
         "24",
         "9",
         "4589",
         "4.68",
         "2025",
         "No"
        ],
        [
         "25",
         "9",
         "3387",
         "4.68",
         "2025",
         "No"
        ],
        [
         "26",
         "9",
         "1260",
         "4.68",
         "2025",
         "No"
        ],
        [
         "27",
         "3",
         "6202",
         "4.67",
         "2025",
         "No"
        ],
        [
         "28",
         "9",
         "6831",
         "4.67",
         "2025",
         "No"
        ],
        [
         "29",
         "9",
         "4782",
         "4.67",
         "2025",
         "No"
        ],
        [
         "30",
         "61",
         "43688",
         "4.67",
         "2025",
         "No"
        ],
        [
         "31",
         "9",
         "9355",
         "4.67",
         "2025",
         "No"
        ],
        [
         "32",
         "9",
         "7723",
         "4.67",
         "2025",
         "No"
        ],
        [
         "33",
         "9",
         "1637",
         "4.67",
         "2025",
         "No"
        ],
        [
         "34",
         "9",
         "2168",
         "4.67",
         "2025",
         "No"
        ],
        [
         "35",
         "9",
         "2061",
         "4.66",
         "2025",
         "No"
        ],
        [
         "36",
         "9",
         "1331",
         "4.66",
         "2025",
         "No"
        ],
        [
         "37",
         "9",
         "6473",
         "4.66",
         "2025",
         "No"
        ],
        [
         "38",
         "9",
         "2713",
         "4.66",
         "2025",
         "No"
        ],
        [
         "39",
         "21",
         "3258",
         "4.65",
         "2025",
         "No"
        ],
        [
         "40",
         "9",
         "2017",
         "4.65",
         "2025",
         "No"
        ],
        [
         "41",
         "9",
         "3853",
         "4.65",
         "2025",
         "No"
        ],
        [
         "42",
         "9",
         "1994",
         "4.65",
         "2025",
         "No"
        ],
        [
         "43",
         "9",
         "1352",
         "4.65",
         "2025",
         "No"
        ],
        [
         "44",
         "9",
         "2997",
         "4.64",
         "2025",
         "No"
        ],
        [
         "45",
         "9",
         "1519",
         "4.64",
         "2025",
         "No"
        ],
        [
         "46",
         "9",
         "3716",
         "4.64",
         "2025",
         "No"
        ],
        [
         "47",
         "20",
         "3554",
         "4.64",
         "2025",
         "No"
        ],
        [
         "48",
         "9",
         "1,954",
         "4.27",
         "2025",
         "Yes"
        ],
        [
         "49",
         "9",
         "1,516",
         "4.24",
         "2025",
         "Yes"
        ]
       ],
       "shape": {
        "columns": 5,
        "rows": 448
       }
      },
      "text/html": [
       "<div>\n",
       "<style scoped>\n",
       "    .dataframe tbody tr th:only-of-type {\n",
       "        vertical-align: middle;\n",
       "    }\n",
       "\n",
       "    .dataframe tbody tr th {\n",
       "        vertical-align: top;\n",
       "    }\n",
       "\n",
       "    .dataframe thead th {\n",
       "        text-align: right;\n",
       "    }\n",
       "</style>\n",
       "<table border=\"1\" class=\"dataframe\">\n",
       "  <thead>\n",
       "    <tr style=\"text-align: right;\">\n",
       "      <th></th>\n",
       "      <th>style_id</th>\n",
       "      <th>votes</th>\n",
       "      <th>review_overall</th>\n",
       "      <th>year</th>\n",
       "      <th>local_review</th>\n",
       "    </tr>\n",
       "  </thead>\n",
       "  <tbody>\n",
       "    <tr>\n",
       "      <th>0</th>\n",
       "      <td>3</td>\n",
       "      <td>2500</td>\n",
       "      <td>4.78</td>\n",
       "      <td>2025</td>\n",
       "      <td>No</td>\n",
       "    </tr>\n",
       "    <tr>\n",
       "      <th>1</th>\n",
       "      <td>9</td>\n",
       "      <td>2055</td>\n",
       "      <td>4.77</td>\n",
       "      <td>2025</td>\n",
       "      <td>No</td>\n",
       "    </tr>\n",
       "    <tr>\n",
       "      <th>2</th>\n",
       "      <td>9</td>\n",
       "      <td>3716</td>\n",
       "      <td>4.76</td>\n",
       "      <td>2025</td>\n",
       "      <td>No</td>\n",
       "    </tr>\n",
       "    <tr>\n",
       "      <th>3</th>\n",
       "      <td>9</td>\n",
       "      <td>3567</td>\n",
       "      <td>4.75</td>\n",
       "      <td>2025</td>\n",
       "      <td>No</td>\n",
       "    </tr>\n",
       "    <tr>\n",
       "      <th>4</th>\n",
       "      <td>9</td>\n",
       "      <td>2057</td>\n",
       "      <td>4.75</td>\n",
       "      <td>2025</td>\n",
       "      <td>No</td>\n",
       "    </tr>\n",
       "    <tr>\n",
       "      <th>...</th>\n",
       "      <td>...</td>\n",
       "      <td>...</td>\n",
       "      <td>...</td>\n",
       "      <td>...</td>\n",
       "      <td>...</td>\n",
       "    </tr>\n",
       "    <tr>\n",
       "      <th>443</th>\n",
       "      <td>64</td>\n",
       "      <td>3</td>\n",
       "      <td>4.40</td>\n",
       "      <td>2025</td>\n",
       "      <td>Yes</td>\n",
       "    </tr>\n",
       "    <tr>\n",
       "      <th>444</th>\n",
       "      <td>10</td>\n",
       "      <td>3</td>\n",
       "      <td>4.36</td>\n",
       "      <td>2025</td>\n",
       "      <td>Yes</td>\n",
       "    </tr>\n",
       "    <tr>\n",
       "      <th>445</th>\n",
       "      <td>64</td>\n",
       "      <td>3</td>\n",
       "      <td>4.36</td>\n",
       "      <td>2025</td>\n",
       "      <td>Yes</td>\n",
       "    </tr>\n",
       "    <tr>\n",
       "      <th>446</th>\n",
       "      <td>61</td>\n",
       "      <td>3</td>\n",
       "      <td>4.36</td>\n",
       "      <td>2025</td>\n",
       "      <td>Yes</td>\n",
       "    </tr>\n",
       "    <tr>\n",
       "      <th>447</th>\n",
       "      <td>64</td>\n",
       "      <td>3</td>\n",
       "      <td>4.35</td>\n",
       "      <td>2025</td>\n",
       "      <td>Yes</td>\n",
       "    </tr>\n",
       "  </tbody>\n",
       "</table>\n",
       "<p>448 rows × 5 columns</p>\n",
       "</div>"
      ],
      "text/plain": [
       "     style_id votes  review_overall  year local_review\n",
       "0           3  2500            4.78  2025           No\n",
       "1           9  2055            4.77  2025           No\n",
       "2           9  3716            4.76  2025           No\n",
       "3           9  3567            4.75  2025           No\n",
       "4           9  2057            4.75  2025           No\n",
       "..        ...   ...             ...   ...          ...\n",
       "443        64     3            4.40  2025          Yes\n",
       "444        10     3            4.36  2025          Yes\n",
       "445        64     3            4.36  2025          Yes\n",
       "446        61     3            4.36  2025          Yes\n",
       "447        64     3            4.35  2025          Yes\n",
       "\n",
       "[448 rows x 5 columns]"
      ]
     },
     "execution_count": 53,
     "metadata": {},
     "output_type": "execute_result"
    }
   ],
   "source": [
    "new"
   ]
  },
  {
   "cell_type": "code",
   "execution_count": 25,
   "id": "8afe24e3",
   "metadata": {},
   "outputs": [
    {
     "data": {
      "application/vnd.microsoft.datawrangler.viewer.v0+json": {
       "columns": [
        {
         "name": "index",
         "rawType": "int64",
         "type": "integer"
        },
        {
         "name": "beer_style",
         "rawType": "object",
         "type": "string"
        },
        {
         "name": "color",
         "rawType": "object",
         "type": "string"
        },
        {
         "name": "bitterness",
         "rawType": "object",
         "type": "string"
        },
        {
         "name": "alcohol",
         "rawType": "object",
         "type": "string"
        },
        {
         "name": "style_id",
         "rawType": "int64",
         "type": "integer"
        }
       ],
       "ref": "58556bb3-ee99-4b71-95ee-8fc0132ed75e",
       "rows": [
        [
         "2",
         "American Barley Wine",
         "Light brown",
         "High",
         "Strong",
         "3"
        ]
       ],
       "shape": {
        "columns": 5,
        "rows": 1
       }
      },
      "text/html": [
       "<div>\n",
       "<style scoped>\n",
       "    .dataframe tbody tr th:only-of-type {\n",
       "        vertical-align: middle;\n",
       "    }\n",
       "\n",
       "    .dataframe tbody tr th {\n",
       "        vertical-align: top;\n",
       "    }\n",
       "\n",
       "    .dataframe thead th {\n",
       "        text-align: right;\n",
       "    }\n",
       "</style>\n",
       "<table border=\"1\" class=\"dataframe\">\n",
       "  <thead>\n",
       "    <tr style=\"text-align: right;\">\n",
       "      <th></th>\n",
       "      <th>beer_style</th>\n",
       "      <th>color</th>\n",
       "      <th>bitterness</th>\n",
       "      <th>alcohol</th>\n",
       "      <th>style_id</th>\n",
       "    </tr>\n",
       "  </thead>\n",
       "  <tbody>\n",
       "    <tr>\n",
       "      <th>2</th>\n",
       "      <td>American Barley Wine</td>\n",
       "      <td>Light brown</td>\n",
       "      <td>High</td>\n",
       "      <td>Strong</td>\n",
       "      <td>3</td>\n",
       "    </tr>\n",
       "  </tbody>\n",
       "</table>\n",
       "</div>"
      ],
      "text/plain": [
       "             beer_style        color bitterness alcohol  style_id\n",
       "2  American Barley Wine  Light brown       High  Strong         3"
      ]
     },
     "execution_count": 25,
     "metadata": {},
     "output_type": "execute_result"
    }
   ],
   "source": [
    "char[char['style_id']==3]"
   ]
  },
  {
   "cell_type": "code",
   "execution_count": null,
   "id": "684acd4f",
   "metadata": {},
   "outputs": [
    {
     "ename": "KeyError",
     "evalue": "'local_review'",
     "output_type": "error",
     "traceback": [
      "\u001b[31m---------------------------------------------------------------------------\u001b[39m",
      "\u001b[31mKeyError\u001b[39m                                  Traceback (most recent call last)",
      "\u001b[36mFile \u001b[39m\u001b[32mc:\\Users\\jesus\\AppData\\Local\\Programs\\Python\\Python313\\Lib\\site-packages\\pandas\\core\\indexes\\base.py:3805\u001b[39m, in \u001b[36mIndex.get_loc\u001b[39m\u001b[34m(self, key)\u001b[39m\n\u001b[32m   3804\u001b[39m \u001b[38;5;28;01mtry\u001b[39;00m:\n\u001b[32m-> \u001b[39m\u001b[32m3805\u001b[39m     \u001b[38;5;28;01mreturn\u001b[39;00m \u001b[38;5;28;43mself\u001b[39;49m\u001b[43m.\u001b[49m\u001b[43m_engine\u001b[49m\u001b[43m.\u001b[49m\u001b[43mget_loc\u001b[49m\u001b[43m(\u001b[49m\u001b[43mcasted_key\u001b[49m\u001b[43m)\u001b[49m\n\u001b[32m   3806\u001b[39m \u001b[38;5;28;01mexcept\u001b[39;00m \u001b[38;5;167;01mKeyError\u001b[39;00m \u001b[38;5;28;01mas\u001b[39;00m err:\n",
      "\u001b[36mFile \u001b[39m\u001b[32mindex.pyx:167\u001b[39m, in \u001b[36mpandas._libs.index.IndexEngine.get_loc\u001b[39m\u001b[34m()\u001b[39m\n",
      "\u001b[36mFile \u001b[39m\u001b[32mindex.pyx:196\u001b[39m, in \u001b[36mpandas._libs.index.IndexEngine.get_loc\u001b[39m\u001b[34m()\u001b[39m\n",
      "\u001b[36mFile \u001b[39m\u001b[32mpandas\\\\_libs\\\\hashtable_class_helper.pxi:7081\u001b[39m, in \u001b[36mpandas._libs.hashtable.PyObjectHashTable.get_item\u001b[39m\u001b[34m()\u001b[39m\n",
      "\u001b[36mFile \u001b[39m\u001b[32mpandas\\\\_libs\\\\hashtable_class_helper.pxi:7089\u001b[39m, in \u001b[36mpandas._libs.hashtable.PyObjectHashTable.get_item\u001b[39m\u001b[34m()\u001b[39m\n",
      "\u001b[31mKeyError\u001b[39m: 'local_review'",
      "\nThe above exception was the direct cause of the following exception:\n",
      "\u001b[31mKeyError\u001b[39m                                  Traceback (most recent call last)",
      "\u001b[36mCell\u001b[39m\u001b[36m \u001b[39m\u001b[32mIn[71]\u001b[39m\u001b[32m, line 1\u001b[39m\n\u001b[32m----> \u001b[39m\u001b[32m1\u001b[39m char[\u001b[43mchar\u001b[49m\u001b[43m[\u001b[49m\u001b[33;43m'\u001b[39;49m\u001b[33;43mlocal_review\u001b[39;49m\u001b[33;43m'\u001b[39;49m\u001b[43m]\u001b[49m == \u001b[33m'\u001b[39m\u001b[33mYes\u001b[39m\u001b[33m'\u001b[39m].groupby(\u001b[33m'\u001b[39m\u001b[33mstyle_id\u001b[39m\u001b[33m'\u001b[39m)[\u001b[33m'\u001b[39m\u001b[33mreview_overall\u001b[39m\u001b[33m'\u001b[39m].mean()\n",
      "\u001b[36mFile \u001b[39m\u001b[32mc:\\Users\\jesus\\AppData\\Local\\Programs\\Python\\Python313\\Lib\\site-packages\\pandas\\core\\frame.py:4102\u001b[39m, in \u001b[36mDataFrame.__getitem__\u001b[39m\u001b[34m(self, key)\u001b[39m\n\u001b[32m   4100\u001b[39m \u001b[38;5;28;01mif\u001b[39;00m \u001b[38;5;28mself\u001b[39m.columns.nlevels > \u001b[32m1\u001b[39m:\n\u001b[32m   4101\u001b[39m     \u001b[38;5;28;01mreturn\u001b[39;00m \u001b[38;5;28mself\u001b[39m._getitem_multilevel(key)\n\u001b[32m-> \u001b[39m\u001b[32m4102\u001b[39m indexer = \u001b[38;5;28;43mself\u001b[39;49m\u001b[43m.\u001b[49m\u001b[43mcolumns\u001b[49m\u001b[43m.\u001b[49m\u001b[43mget_loc\u001b[49m\u001b[43m(\u001b[49m\u001b[43mkey\u001b[49m\u001b[43m)\u001b[49m\n\u001b[32m   4103\u001b[39m \u001b[38;5;28;01mif\u001b[39;00m is_integer(indexer):\n\u001b[32m   4104\u001b[39m     indexer = [indexer]\n",
      "\u001b[36mFile \u001b[39m\u001b[32mc:\\Users\\jesus\\AppData\\Local\\Programs\\Python\\Python313\\Lib\\site-packages\\pandas\\core\\indexes\\base.py:3812\u001b[39m, in \u001b[36mIndex.get_loc\u001b[39m\u001b[34m(self, key)\u001b[39m\n\u001b[32m   3807\u001b[39m     \u001b[38;5;28;01mif\u001b[39;00m \u001b[38;5;28misinstance\u001b[39m(casted_key, \u001b[38;5;28mslice\u001b[39m) \u001b[38;5;129;01mor\u001b[39;00m (\n\u001b[32m   3808\u001b[39m         \u001b[38;5;28misinstance\u001b[39m(casted_key, abc.Iterable)\n\u001b[32m   3809\u001b[39m         \u001b[38;5;129;01mand\u001b[39;00m \u001b[38;5;28many\u001b[39m(\u001b[38;5;28misinstance\u001b[39m(x, \u001b[38;5;28mslice\u001b[39m) \u001b[38;5;28;01mfor\u001b[39;00m x \u001b[38;5;129;01min\u001b[39;00m casted_key)\n\u001b[32m   3810\u001b[39m     ):\n\u001b[32m   3811\u001b[39m         \u001b[38;5;28;01mraise\u001b[39;00m InvalidIndexError(key)\n\u001b[32m-> \u001b[39m\u001b[32m3812\u001b[39m     \u001b[38;5;28;01mraise\u001b[39;00m \u001b[38;5;167;01mKeyError\u001b[39;00m(key) \u001b[38;5;28;01mfrom\u001b[39;00m\u001b[38;5;250m \u001b[39m\u001b[34;01merr\u001b[39;00m\n\u001b[32m   3813\u001b[39m \u001b[38;5;28;01mexcept\u001b[39;00m \u001b[38;5;167;01mTypeError\u001b[39;00m:\n\u001b[32m   3814\u001b[39m     \u001b[38;5;66;03m# If we have a listlike key, _check_indexing_error will raise\u001b[39;00m\n\u001b[32m   3815\u001b[39m     \u001b[38;5;66;03m#  InvalidIndexError. Otherwise we fall through and re-raise\u001b[39;00m\n\u001b[32m   3816\u001b[39m     \u001b[38;5;66;03m#  the TypeError.\u001b[39;00m\n\u001b[32m   3817\u001b[39m     \u001b[38;5;28mself\u001b[39m._check_indexing_error(key)\n",
      "\u001b[31mKeyError\u001b[39m: 'local_review'"
     ]
    }
   ],
   "source": [
    "new[new['local_review'] == 'Yes'].groupby('style_id')['review_overall'].mean()"
   ]
  },
  {
   "cell_type": "code",
   "execution_count": 72,
   "id": "a8d22d50",
   "metadata": {},
   "outputs": [
    {
     "data": {
      "application/vnd.microsoft.datawrangler.viewer.v0+json": {
       "columns": [
        {
         "name": "index",
         "rawType": "int64",
         "type": "integer"
        },
        {
         "name": "beer_style",
         "rawType": "object",
         "type": "string"
        },
        {
         "name": "color",
         "rawType": "object",
         "type": "string"
        },
        {
         "name": "bitterness",
         "rawType": "object",
         "type": "string"
        },
        {
         "name": "alcohol",
         "rawType": "object",
         "type": "string"
        },
        {
         "name": "style_id",
         "rawType": "int64",
         "type": "integer"
        }
       ],
       "ref": "8c3e57a5-25bb-4720-94ea-afab15b8aef3",
       "rows": [
        [
         "2",
         "American Barley Wine",
         "Light brown",
         "High",
         "Strong",
         "3"
        ],
        [
         "8",
         "American Imperial Stout",
         "Dark",
         "High",
         "Strong",
         "9"
        ],
        [
         "10",
         "American Lager",
         "Gold",
         "Low",
         "Light",
         "11"
        ],
        [
         "61",
         "Irish Style Dry Stout",
         "Dark",
         "Moderate",
         "Regular",
         "62"
        ],
        [
         "63",
         "New England IPA",
         "Gold",
         "Moderate",
         "Regular",
         "64"
        ]
       ],
       "shape": {
        "columns": 5,
        "rows": 5
       }
      },
      "text/html": [
       "<div>\n",
       "<style scoped>\n",
       "    .dataframe tbody tr th:only-of-type {\n",
       "        vertical-align: middle;\n",
       "    }\n",
       "\n",
       "    .dataframe tbody tr th {\n",
       "        vertical-align: top;\n",
       "    }\n",
       "\n",
       "    .dataframe thead th {\n",
       "        text-align: right;\n",
       "    }\n",
       "</style>\n",
       "<table border=\"1\" class=\"dataframe\">\n",
       "  <thead>\n",
       "    <tr style=\"text-align: right;\">\n",
       "      <th></th>\n",
       "      <th>beer_style</th>\n",
       "      <th>color</th>\n",
       "      <th>bitterness</th>\n",
       "      <th>alcohol</th>\n",
       "      <th>style_id</th>\n",
       "    </tr>\n",
       "  </thead>\n",
       "  <tbody>\n",
       "    <tr>\n",
       "      <th>2</th>\n",
       "      <td>American Barley Wine</td>\n",
       "      <td>Light brown</td>\n",
       "      <td>High</td>\n",
       "      <td>Strong</td>\n",
       "      <td>3</td>\n",
       "    </tr>\n",
       "    <tr>\n",
       "      <th>8</th>\n",
       "      <td>American Imperial Stout</td>\n",
       "      <td>Dark</td>\n",
       "      <td>High</td>\n",
       "      <td>Strong</td>\n",
       "      <td>9</td>\n",
       "    </tr>\n",
       "    <tr>\n",
       "      <th>10</th>\n",
       "      <td>American Lager</td>\n",
       "      <td>Gold</td>\n",
       "      <td>Low</td>\n",
       "      <td>Light</td>\n",
       "      <td>11</td>\n",
       "    </tr>\n",
       "    <tr>\n",
       "      <th>61</th>\n",
       "      <td>Irish Style Dry Stout</td>\n",
       "      <td>Dark</td>\n",
       "      <td>Moderate</td>\n",
       "      <td>Regular</td>\n",
       "      <td>62</td>\n",
       "    </tr>\n",
       "    <tr>\n",
       "      <th>63</th>\n",
       "      <td>New England IPA</td>\n",
       "      <td>Gold</td>\n",
       "      <td>Moderate</td>\n",
       "      <td>Regular</td>\n",
       "      <td>64</td>\n",
       "    </tr>\n",
       "  </tbody>\n",
       "</table>\n",
       "</div>"
      ],
      "text/plain": [
       "                 beer_style        color bitterness  alcohol  style_id\n",
       "2      American Barley Wine  Light brown       High   Strong         3\n",
       "8   American Imperial Stout         Dark       High   Strong         9\n",
       "10           American Lager         Gold        Low    Light        11\n",
       "61    Irish Style Dry Stout         Dark   Moderate  Regular        62\n",
       "63          New England IPA         Gold   Moderate  Regular        64"
      ]
     },
     "execution_count": 72,
     "metadata": {},
     "output_type": "execute_result"
    }
   ],
   "source": [
    "char[char['style_id'].isin([62,64,11,3,9])]"
   ]
  },
  {
   "cell_type": "code",
   "execution_count": 74,
   "id": "d8201421",
   "metadata": {},
   "outputs": [
    {
     "data": {
      "text/plain": [
       "Index(['beer_style', 'color', 'bitterness', 'alcohol', 'style_id'], dtype='object')"
      ]
     },
     "execution_count": 74,
     "metadata": {},
     "output_type": "execute_result"
    }
   ],
   "source": [
    "char.columns"
   ]
  },
  {
   "cell_type": "code",
   "execution_count": 76,
   "id": "fd27bfcf",
   "metadata": {},
   "outputs": [
    {
     "data": {
      "text/plain": [
       "Index(['review_overall', 'review_aroma', 'review_appearance', 'style_id',\n",
       "       'review_palate', 'review_taste', 'year'],\n",
       "      dtype='object')"
      ]
     },
     "execution_count": 76,
     "metadata": {},
     "output_type": "execute_result"
    }
   ],
   "source": [
    "beer_reviews.columns"
   ]
  }
 ],
 "metadata": {
  "kernelspec": {
   "display_name": "Python 3",
   "language": "python",
   "name": "python3"
  },
  "language_info": {
   "codemirror_mode": {
    "name": "ipython",
    "version": 3
   },
   "file_extension": ".py",
   "mimetype": "text/x-python",
   "name": "python",
   "nbconvert_exporter": "python",
   "pygments_lexer": "ipython3",
   "version": "3.13.3"
  }
 },
 "nbformat": 4,
 "nbformat_minor": 5
}
