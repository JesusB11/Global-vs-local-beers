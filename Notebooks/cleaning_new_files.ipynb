{
 "cells": [
  {
   "cell_type": "code",
   "execution_count": 68,
   "id": "1782aa1f",
   "metadata": {},
   "outputs": [],
   "source": [
    "import pandas as pd\n",
    "import numpy as np\n",
    "import datetime"
   ]
  },
  {
   "cell_type": "code",
   "execution_count": 56,
   "id": "edde5660",
   "metadata": {},
   "outputs": [
    {
     "name": "stdout",
     "output_type": "stream",
     "text": [
      "<class 'pandas.core.frame.DataFrame'>\n",
      "RangeIndex: 100 entries, 0 to 99\n",
      "Data columns (total 5 columns):\n",
      " #   Column          Non-Null Count  Dtype  \n",
      "---  ------          --------------  -----  \n",
      " 0   beer_style      100 non-null    object \n",
      " 1   votes           100 non-null    int64  \n",
      " 2   review_overall  100 non-null    float64\n",
      " 3   year            100 non-null    int64  \n",
      " 4   local_review    100 non-null    object \n",
      "dtypes: float64(1), int64(2), object(2)\n",
      "memory usage: 4.0+ KB\n"
     ]
    }
   ],
   "source": [
    "BADVES=pd.read_csv('../Data/Clean/BADV_ES_clean.csv')\n",
    "BADVES.info()"
   ]
  },
  {
   "cell_type": "code",
   "execution_count": 32,
   "id": "6c22c12e",
   "metadata": {},
   "outputs": [
    {
     "data": {
      "text/plain": [
       "array(['Herb and Spice Beer', 'American Pale Ale',\n",
       "       'Russian Imperial Stout', 'Baltic Porter',\n",
       "       'American Amber / Red Ale', 'Munich Dunkel', 'New England IPA',\n",
       "       'American IPA', 'Imperial IPA', 'American Imperial Stout',\n",
       "       'Foreign / Export Stout', 'English Barleywine', 'Saison',\n",
       "       'American Blonde Ale', 'Imperial Porter', 'English IPA',\n",
       "       'Irish Red Ale', 'Wild Ale', 'American Brown Ale',\n",
       "       'English Pale Ale', 'English Brown Ale', 'American Porter',\n",
       "       'English Stout', 'European Dark Lager',\n",
       "       'European / Dortmunder Export Lager', 'Tripel', 'Berliner Weisse',\n",
       "       'Black IPA', 'Belgian IPA', 'Oatmeal Stout', 'American Lager'],\n",
       "      dtype=object)"
      ]
     },
     "execution_count": 32,
     "metadata": {},
     "output_type": "execute_result"
    }
   ],
   "source": [
    "BADVES['beer_style'].unique()"
   ]
  },
  {
   "cell_type": "code",
   "execution_count": 57,
   "id": "2612f60a",
   "metadata": {},
   "outputs": [],
   "source": [
    "styles_map={'American Blonde Ale': 1, 'American Amber / Red Ale': 2, 'Black IPA': 4, 'American Brown Ale': 5, 'American Porter': 7, 'Imperial Porter': 7, 'American Imperial Stout': 9, 'Russian Imperial Stout': 9, 'American IPA': 10, 'American Lager': 11, 'American Pale Ale': 12, 'Baltic Porter': 16, 'Wild Ale': 21, 'Belgian IPA': 22, 'Saison': 24, 'Tripel': 25, 'Berliner Weisse': 27, 'European Dark Lager': 29, 'English Barleywine': 30, 'English Brown Ale': 36, 'English IPA': 38, 'English Stout': 40, 'Oatmeal Stout': 40, 'English Pale Ale': 42, 'Munich Dunkel': 50, 'European / Dortmunder Export Lager': 56, 'Herb and Spice Beer': 59, 'Imperial IPA': 61, 'Foreign / Export Stout': 62, 'Irish Red Ale': 63, 'New England IPA': 64}\n",
    "BADVES['beer_style']=BADVES['beer_style'].map(styles_map)"
   ]
  },
  {
   "cell_type": "code",
   "execution_count": 58,
   "id": "f97fca5f",
   "metadata": {},
   "outputs": [
    {
     "name": "stdout",
     "output_type": "stream",
     "text": [
      "<class 'pandas.core.frame.DataFrame'>\n",
      "RangeIndex: 100 entries, 0 to 99\n",
      "Data columns (total 5 columns):\n",
      " #   Column          Non-Null Count  Dtype  \n",
      "---  ------          --------------  -----  \n",
      " 0   beer_style      100 non-null    int64  \n",
      " 1   votes           100 non-null    int64  \n",
      " 2   review_overall  100 non-null    float64\n",
      " 3   year            100 non-null    int64  \n",
      " 4   local_review    100 non-null    object \n",
      "dtypes: float64(1), int64(3), object(1)\n",
      "memory usage: 4.0+ KB\n"
     ]
    }
   ],
   "source": [
    "BADVES.info()"
   ]
  },
  {
   "cell_type": "code",
   "execution_count": 59,
   "id": "6a518270",
   "metadata": {},
   "outputs": [],
   "source": [
    "BADVES.to_csv('../Data/Clean/BADV_ES_clean.csv',index=False)"
   ]
  },
  {
   "cell_type": "markdown",
   "id": "1f47e474",
   "metadata": {},
   "source": [
    "Mapping the badv_global file"
   ]
  },
  {
   "cell_type": "code",
   "execution_count": 51,
   "id": "22e65e68",
   "metadata": {},
   "outputs": [
    {
     "name": "stdout",
     "output_type": "stream",
     "text": [
      "<class 'pandas.core.frame.DataFrame'>\n",
      "RangeIndex: 250 entries, 0 to 249\n",
      "Data columns (total 5 columns):\n",
      " #   Column          Non-Null Count  Dtype  \n",
      "---  ------          --------------  -----  \n",
      " 0   beer_style      250 non-null    int64  \n",
      " 1   votes           250 non-null    object \n",
      " 2   review_overall  250 non-null    float64\n",
      " 3   year            250 non-null    int64  \n",
      " 4   local_review    250 non-null    object \n",
      "dtypes: float64(1), int64(2), object(2)\n",
      "memory usage: 9.9+ KB\n"
     ]
    }
   ],
   "source": [
    "BADVG=pd.read_csv('../Data/Clean/BADV_global_clean.csv')\n",
    "BADVG.info()"
   ]
  },
  {
   "cell_type": "code",
   "execution_count": 22,
   "id": "415590ec",
   "metadata": {},
   "outputs": [
    {
     "data": {
      "text/plain": [
       "array(['Fruit Lambic', 'American Imperial Stout', 'American Pale Ale',\n",
       "       'Oatmeal Stout', 'Imperial IPA', 'Quadrupel (Quad)',\n",
       "       'Russian Imperial Stout', 'Wild Ale', 'English Barleywine',\n",
       "       'New England IPA', 'Dubbel', 'American Porter', 'American IPA',\n",
       "       'Gueuze', 'Flanders Red Ale', 'Imperial Porter', 'Saison',\n",
       "       'American Strong Ale', 'Sweet / Milk Stout', 'Berliner Weisse',\n",
       "       'Lambic', 'American Barleywine', 'Milkshake IPA', 'Old Ale',\n",
       "       'Rye Beer', 'Fruited Kettle Sour'], dtype=object)"
      ]
     },
     "execution_count": 22,
     "metadata": {},
     "output_type": "execute_result"
    }
   ],
   "source": [
    "BADVG['beer_style'].unique()"
   ]
  },
  {
   "cell_type": "code",
   "execution_count": 23,
   "id": "1cfb7af7",
   "metadata": {},
   "outputs": [
    {
     "name": "stdout",
     "output_type": "stream",
     "text": [
      "<class 'pandas.core.frame.DataFrame'>\n",
      "RangeIndex: 250 entries, 0 to 249\n",
      "Data columns (total 4 columns):\n",
      " #   Column          Non-Null Count  Dtype  \n",
      "---  ------          --------------  -----  \n",
      " 0   beer_style      250 non-null    int64  \n",
      " 1   votes           250 non-null    object \n",
      " 2   review_overall  250 non-null    float64\n",
      " 3   year            250 non-null    int64  \n",
      "dtypes: float64(1), int64(2), object(1)\n",
      "memory usage: 7.9+ KB\n"
     ]
    }
   ],
   "source": [
    "styles_map_2={'American Barleywine': 3, 'American Imperial Stout': 9, 'American IPA': 10, 'American Pale Ale': 12, 'American Porter': 7, 'American Strong Ale': 2, 'Berliner Weisse': 27, 'Dubbel': 18, 'English Barleywine': 30, 'Flanders Red Ale': 19, 'Fruit Lambic': 21, 'Fruited Kettle Sour': 46, 'Gueuze': 21, 'Imperial IPA': 61, 'Imperial Porter': 7, 'Lambic': 21, 'Milkshake IPA': 64, 'New England IPA': 64, 'Oatmeal Stout': 40, 'Old Ale': 41, 'Quadrupel (Quad)': 23, 'Russian Imperial Stout': 9, 'Rye Beer': 7, 'Saison': 24, 'Sweet / Milk Stout': 43, 'Wild Ale': 21}\n",
    "BADVG['beer_style']=BADVG['beer_style'].map(styles_map_2)\n",
    "BADVG.info()"
   ]
  },
  {
   "cell_type": "code",
   "execution_count": 24,
   "id": "cc304b6f",
   "metadata": {},
   "outputs": [],
   "source": [
    "BADVG.to_csv('../Data/Clean/BADV_global_clean.csv',index=False)"
   ]
  },
  {
   "cell_type": "markdown",
   "id": "0e964c81",
   "metadata": {},
   "source": [
    "Last one"
   ]
  },
  {
   "cell_type": "code",
   "execution_count": 52,
   "id": "9cbcc736",
   "metadata": {},
   "outputs": [
    {
     "name": "stdout",
     "output_type": "stream",
     "text": [
      "<class 'pandas.core.frame.DataFrame'>\n",
      "RangeIndex: 50 entries, 0 to 49\n",
      "Data columns (total 5 columns):\n",
      " #   Column          Non-Null Count  Dtype  \n",
      "---  ------          --------------  -----  \n",
      " 0   beer_style      50 non-null     int64  \n",
      " 1   votes           50 non-null     object \n",
      " 2   review_overall  50 non-null     float64\n",
      " 3   year            50 non-null     int64  \n",
      " 4   local_review    50 non-null     object \n",
      "dtypes: float64(1), int64(2), object(2)\n",
      "memory usage: 2.1+ KB\n"
     ]
    }
   ],
   "source": [
    "unt=pd.read_csv('../Data/Clean/Untappd_ES_clean.csv')\n",
    "unt.info()"
   ]
  },
  {
   "cell_type": "code",
   "execution_count": 29,
   "id": "cb26f7f6",
   "metadata": {},
   "outputs": [
    {
     "data": {
      "text/plain": [
       "array(['Stout - Imperial / Double', 'IPA - Triple New England / Hazy',\n",
       "       'Stout - Russian Imperial',\n",
       "       'IPA - Imperial / Double New England / Hazy',\n",
       "       'Stout - Imperial / Double Pastry', 'Barleywine - Other',\n",
       "       'IPA - Quadruple', 'IPA - Triple',\n",
       "       'Porter - Imperial / Double Baltic', 'IPA - Imperial / Double'],\n",
       "      dtype=object)"
      ]
     },
     "execution_count": 29,
     "metadata": {},
     "output_type": "execute_result"
    }
   ],
   "source": [
    "unt['beer_style'].unique()"
   ]
  },
  {
   "cell_type": "code",
   "execution_count": 30,
   "id": "e767fa98",
   "metadata": {},
   "outputs": [
    {
     "name": "stdout",
     "output_type": "stream",
     "text": [
      "<class 'pandas.core.frame.DataFrame'>\n",
      "RangeIndex: 50 entries, 0 to 49\n",
      "Data columns (total 4 columns):\n",
      " #   Column          Non-Null Count  Dtype  \n",
      "---  ------          --------------  -----  \n",
      " 0   beer_style      50 non-null     int64  \n",
      " 1   votes           50 non-null     object \n",
      " 2   review_overall  50 non-null     float64\n",
      " 3   year            50 non-null     int64  \n",
      "dtypes: float64(1), int64(2), object(1)\n",
      "memory usage: 1.7+ KB\n"
     ]
    }
   ],
   "source": [
    "styles_map_3={'American Barley wine': 3, 'American IPA': 10, 'American Porter': 7, 'American Strong Ale': 1, 'Barleywine - Other': 3, 'Berliner Weisse': 27, 'Dubbel': 18, 'Flanders Red Ale': 19, 'Fruited Kettle Sour': 46, 'Gueuze': 21, 'Imperial Porter': 7, 'IPA - Imperial / Double New England / Hazy': 64, 'IPA - Imperial / Double': 61, 'IPA - Quadruple': 23, 'IPA - Triple New England / Hazy': 64, 'IPA - Triple': 61, 'Lambic': 21, 'Milkshake IPA': 64, 'Old Ale': 41, 'Porter - Imperial / Double Baltic': 7, 'Rye Beer': 7, 'Saison': 24, 'Stout - Imperial / Double Pastry': 9, 'Stout - Imperial / Double': 9, 'Stout - Russian Imperial': 9, 'Sweet / Milk Stout': 43}\n",
    "\n",
    "unt['beer_style']=unt['beer_style'].map(styles_map_3)\n",
    "unt.info()"
   ]
  },
  {
   "cell_type": "code",
   "execution_count": 31,
   "id": "600d778d",
   "metadata": {},
   "outputs": [],
   "source": [
    "unt.to_csv('../Data/Clean/Untappd_ES_clean.csv',index=False)"
   ]
  },
  {
   "cell_type": "markdown",
   "id": "48fae2ad",
   "metadata": {},
   "source": [
    "Untappd global data"
   ]
  },
  {
   "cell_type": "code",
   "execution_count": 53,
   "id": "225396b8",
   "metadata": {},
   "outputs": [
    {
     "name": "stdout",
     "output_type": "stream",
     "text": [
      "<class 'pandas.core.frame.DataFrame'>\n",
      "RangeIndex: 48 entries, 0 to 47\n",
      "Data columns (total 5 columns):\n",
      " #   Column          Non-Null Count  Dtype  \n",
      "---  ------          --------------  -----  \n",
      " 0   beer_style      48 non-null     int64  \n",
      " 1   votes           48 non-null     int64  \n",
      " 2   review_overall  48 non-null     float64\n",
      " 3   year            48 non-null     int64  \n",
      " 4   local_review    48 non-null     object \n",
      "dtypes: float64(1), int64(3), object(1)\n",
      "memory usage: 2.0+ KB\n"
     ]
    }
   ],
   "source": [
    "untG=pd.read_csv('../Data/Clean/Untappd_global_clean.csv')\n",
    "untG.info()"
   ]
  },
  {
   "cell_type": "code",
   "execution_count": 38,
   "id": "ab973330",
   "metadata": {},
   "outputs": [
    {
     "name": "stdout",
     "output_type": "stream",
     "text": [
      "<class 'pandas.core.frame.DataFrame'>\n",
      "RangeIndex: 48 entries, 0 to 47\n",
      "Data columns (total 5 columns):\n",
      " #   Column          Non-Null Count  Dtype  \n",
      "---  ------          --------------  -----  \n",
      " 0   beer_style      48 non-null     int64  \n",
      " 1   votes           48 non-null     object \n",
      " 2   review_overall  48 non-null     float64\n",
      " 3   year            48 non-null     int64  \n",
      " 4   local_review    48 non-null     object \n",
      "dtypes: float64(1), int64(2), object(2)\n",
      "memory usage: 2.0+ KB\n"
     ]
    }
   ],
   "source": [
    "styles_map_4={'Barleywine - English':3, 'Stout - Imperial / Double':9, 'Stout - Imperial / Double Pastry':9, 'Stout - Imperial / Double Milk':43, 'Stout - Imperial / Double Coffee':9, 'Stout - Russian Imperial':9, 'IPA - Imperial / Double':61, 'Lambic - Traditional':21, 'Strong Ale - American':20}\n",
    "untG['beer_style']=untG['beer_style'].map(styles_map_4)\n",
    "untG.info()"
   ]
  },
  {
   "cell_type": "code",
   "execution_count": 42,
   "id": "394a47db",
   "metadata": {},
   "outputs": [],
   "source": [
    "untG['votes']=untG['votes'].str.replace(\",\",\"\")\n"
   ]
  },
  {
   "cell_type": "code",
   "execution_count": null,
   "id": "1c511f2f",
   "metadata": {},
   "outputs": [
    {
     "name": "stdout",
     "output_type": "stream",
     "text": [
      "<class 'pandas.core.frame.DataFrame'>\n",
      "RangeIndex: 48 entries, 0 to 47\n",
      "Data columns (total 5 columns):\n",
      " #   Column          Non-Null Count  Dtype  \n",
      "---  ------          --------------  -----  \n",
      " 0   beer_style      48 non-null     int64  \n",
      " 1   votes           48 non-null     int64  \n",
      " 2   review_overall  48 non-null     float64\n",
      " 3   year            48 non-null     int64  \n",
      " 4   local_review    48 non-null     object \n",
      "dtypes: float64(1), int64(3), object(1)\n",
      "memory usage: 2.0+ KB\n"
     ]
    }
   ],
   "source": [
    "untG['votes']=untG['votes'].astype(int)\n",
    "untG.info()"
   ]
  },
  {
   "cell_type": "code",
   "execution_count": 44,
   "id": "693a95a4",
   "metadata": {},
   "outputs": [],
   "source": [
    "untG.to_csv('../Data/Clean/Untappd_global_clean.csv',index=False)"
   ]
  },
  {
   "cell_type": "markdown",
   "id": "bc18e2c9",
   "metadata": {},
   "source": [
    "Now concat all of them"
   ]
  },
  {
   "cell_type": "code",
   "execution_count": 60,
   "id": "2cadaaa5",
   "metadata": {},
   "outputs": [],
   "source": [
    "pd.concat([untG, unt, BADVG, BADVES]).to_csv('../Data/Clean/New_reviews.csv', index=False)"
   ]
  },
  {
   "cell_type": "code",
   "execution_count": null,
   "id": "39ed6d50",
   "metadata": {},
   "outputs": [],
   "source": [
    "df=pd.read_csv('../Data/Clean/New_reviews.csv')\n"
   ]
  },
  {
   "cell_type": "code",
   "execution_count": 65,
   "id": "d27f290d",
   "metadata": {},
   "outputs": [],
   "source": [
    "df=df.rename(columns={'beer_style':'style_id'})"
   ]
  },
  {
   "cell_type": "code",
   "execution_count": 67,
   "id": "a0b42445",
   "metadata": {},
   "outputs": [],
   "source": [
    "df.to_csv('../Data/Clean/New_reviews.csv', index=False)"
   ]
  },
  {
   "cell_type": "markdown",
   "id": "0cd0ce02",
   "metadata": {},
   "source": [
    "## TESTING BORRAR DE AQUI PA ABAJO!!!!!!!!!!!!!!!"
   ]
  },
  {
   "cell_type": "code",
   "execution_count": 75,
   "id": "dcd25ed5",
   "metadata": {},
   "outputs": [],
   "source": [
    "BADVES=pd.read_csv('../Data/Clean/BADV_ES_clean.csv')\n",
    "BADVG=pd.read_csv('../Data/Clean/BADV_global_clean.csv')\n",
    "unt=pd.read_csv('../Data/Clean/Untappd_ES_clean.csv')\n",
    "untG=pd.read_csv('../Data/Clean/Untappd_global_clean.csv')\n",
    "char=pd.read_csv('../Data/Clean/standard_beer_types_features_clean.csv')\n",
    "beer_reviews=pd.read_csv('../Data/Clean/beer_reviews_all_columns.csv')"
   ]
  },
  {
   "cell_type": "code",
   "execution_count": 73,
   "id": "8afe24e3",
   "metadata": {},
   "outputs": [
    {
     "data": {
      "text/plain": [
       "Index(['beer_style', 'votes', 'review_overall', 'year', 'local_review'], dtype='object')"
      ]
     },
     "execution_count": 73,
     "metadata": {},
     "output_type": "execute_result"
    }
   ],
   "source": [
    "BADVES.columns"
   ]
  },
  {
   "cell_type": "code",
   "execution_count": 74,
   "id": "d8201421",
   "metadata": {},
   "outputs": [
    {
     "data": {
      "text/plain": [
       "Index(['beer_style', 'color', 'bitterness', 'alcohol', 'style_id'], dtype='object')"
      ]
     },
     "execution_count": 74,
     "metadata": {},
     "output_type": "execute_result"
    }
   ],
   "source": [
    "char.columns"
   ]
  },
  {
   "cell_type": "code",
   "execution_count": 76,
   "id": "fd27bfcf",
   "metadata": {},
   "outputs": [
    {
     "data": {
      "text/plain": [
       "Index(['review_overall', 'review_aroma', 'review_appearance', 'style_id',\n",
       "       'review_palate', 'review_taste', 'year'],\n",
       "      dtype='object')"
      ]
     },
     "execution_count": 76,
     "metadata": {},
     "output_type": "execute_result"
    }
   ],
   "source": [
    "beer_reviews.columns"
   ]
  }
 ],
 "metadata": {
  "kernelspec": {
   "display_name": "Python 3",
   "language": "python",
   "name": "python3"
  },
  "language_info": {
   "codemirror_mode": {
    "name": "ipython",
    "version": 3
   },
   "file_extension": ".py",
   "mimetype": "text/x-python",
   "name": "python",
   "nbconvert_exporter": "python",
   "pygments_lexer": "ipython3",
   "version": "3.13.3"
  }
 },
 "nbformat": 4,
 "nbformat_minor": 5
}
