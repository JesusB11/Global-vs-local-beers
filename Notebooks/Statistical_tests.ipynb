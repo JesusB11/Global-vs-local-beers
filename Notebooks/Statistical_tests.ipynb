{
 "cells": [
  {
   "cell_type": "markdown",
   "id": "55334fe0",
   "metadata": {},
   "source": [
    "Null Hypothesis (H0): There is no correlation between the two variables.\n",
    "\n",
    "Alternative Hypothesis (H1): There is a correlation between the two variables."
   ]
  },
  {
   "cell_type": "code",
   "execution_count": 24,
   "id": "a466a1e7",
   "metadata": {},
   "outputs": [],
   "source": [
    "from scipy import stats\n",
    "import pandas as pd\n",
    "import numpy as np"
   ]
  },
  {
   "cell_type": "code",
   "execution_count": 21,
   "id": "3cd1286b",
   "metadata": {},
   "outputs": [
    {
     "data": {
      "application/vnd.microsoft.datawrangler.viewer.v0+json": {
       "columns": [
        {
         "name": "index",
         "rawType": "int64",
         "type": "integer"
        },
        {
         "name": "review_overall",
         "rawType": "float64",
         "type": "float"
        },
        {
         "name": "review_aroma",
         "rawType": "float64",
         "type": "float"
        },
        {
         "name": "review_appearance",
         "rawType": "float64",
         "type": "float"
        },
        {
         "name": "style_id",
         "rawType": "int64",
         "type": "integer"
        },
        {
         "name": "review_palate",
         "rawType": "float64",
         "type": "float"
        },
        {
         "name": "review_taste",
         "rawType": "float64",
         "type": "float"
        },
        {
         "name": "year",
         "rawType": "int64",
         "type": "integer"
        }
       ],
       "ref": "e020e3bc-1744-4cf2-8dbc-5b9dadc07afd",
       "rows": [
        [
         "0",
         "4.0",
         "4.5",
         "4.0",
         "10",
         "4.0",
         "4.5",
         "2010"
        ],
        [
         "1",
         "3.0",
         "3.5",
         "3.5",
         "59",
         "3.0",
         "3.5",
         "2012"
        ],
        [
         "2",
         "3.5",
         "3.5",
         "3.5",
         "59",
         "4.0",
         "4.0",
         "2011"
        ],
        [
         "3",
         "3.0",
         "2.5",
         "3.5",
         "59",
         "2.0",
         "3.5",
         "2011"
        ],
        [
         "4",
         "4.0",
         "3.0",
         "3.5",
         "59",
         "3.5",
         "4.0",
         "2010"
        ],
        [
         "5",
         "4.5",
         "3.5",
         "5.0",
         "59",
         "4.0",
         "4.0",
         "2010"
        ],
        [
         "6",
         "5.0",
         "5.0",
         "4.0",
         "59",
         "4.0",
         "4.0",
         "2010"
        ],
        [
         "7",
         "4.0",
         "4.0",
         "4.0",
         "59",
         "3.5",
         "4.0",
         "2010"
        ],
        [
         "8",
         "4.0",
         "4.5",
         "3.0",
         "59",
         "2.5",
         "3.0",
         "2010"
        ],
        [
         "9",
         "3.5",
         "4.0",
         "3.0",
         "59",
         "3.0",
         "4.0",
         "2010"
        ],
        [
         "10",
         "3.0",
         "3.0",
         "2.5",
         "40",
         "3.0",
         "3.0",
         "2011"
        ],
        [
         "11",
         "4.5",
         "4.5",
         "4.5",
         "7",
         "4.5",
         "5.0",
         "2011"
        ],
        [
         "12",
         "4.0",
         "4.0",
         "4.0",
         "12",
         "4.0",
         "3.5",
         "2010"
        ],
        [
         "13",
         "4.0",
         "4.0",
         "4.0",
         "12",
         "3.5",
         "4.0",
         "2010"
        ],
        [
         "14",
         "4.0",
         "4.0",
         "4.5",
         "20",
         "4.0",
         "3.5",
         "2011"
        ],
        [
         "15",
         "4.0",
         "3.5",
         "2.5",
         "12",
         "3.0",
         "4.5",
         "2010"
        ],
        [
         "16",
         "4.0",
         "4.0",
         "4.0",
         "12",
         "4.0",
         "4.0",
         "2012"
        ],
        [
         "17",
         "3.5",
         "4.0",
         "3.5",
         "12",
         "4.0",
         "3.5",
         "2011"
        ],
        [
         "18",
         "4.0",
         "4.5",
         "4.0",
         "12",
         "4.5",
         "4.0",
         "2011"
        ],
        [
         "19",
         "4.0",
         "4.0",
         "3.5",
         "12",
         "4.0",
         "3.5",
         "2010"
        ],
        [
         "20",
         "3.5",
         "3.5",
         "4.5",
         "12",
         "4.0",
         "3.0",
         "2011"
        ],
        [
         "21",
         "4.0",
         "3.5",
         "4.0",
         "12",
         "3.5",
         "4.0",
         "2011"
        ],
        [
         "22",
         "3.0",
         "2.5",
         "3.5",
         "12",
         "3.5",
         "3.0",
         "2011"
        ],
        [
         "23",
         "4.0",
         "3.5",
         "4.5",
         "12",
         "3.5",
         "4.0",
         "2011"
        ],
        [
         "24",
         "4.0",
         "4.0",
         "4.5",
         "12",
         "4.0",
         "4.0",
         "2011"
        ],
        [
         "25",
         "4.0",
         "4.0",
         "4.0",
         "12",
         "4.5",
         "4.0",
         "2011"
        ],
        [
         "26",
         "4.0",
         "3.5",
         "4.0",
         "12",
         "4.0",
         "4.0",
         "2011"
        ],
        [
         "27",
         "3.5",
         "3.5",
         "3.5",
         "12",
         "3.5",
         "4.0",
         "2011"
        ],
        [
         "28",
         "4.0",
         "3.5",
         "4.5",
         "12",
         "4.0",
         "4.0",
         "2011"
        ],
        [
         "29",
         "4.0",
         "4.0",
         "4.0",
         "12",
         "4.0",
         "4.0",
         "2010"
        ],
        [
         "30",
         "3.5",
         "3.5",
         "3.5",
         "12",
         "3.5",
         "4.0",
         "2011"
        ],
        [
         "31",
         "4.0",
         "3.5",
         "3.5",
         "12",
         "4.5",
         "4.0",
         "2011"
        ],
        [
         "32",
         "4.0",
         "4.0",
         "4.0",
         "12",
         "3.5",
         "4.5",
         "2011"
        ],
        [
         "33",
         "3.0",
         "3.0",
         "4.0",
         "12",
         "4.0",
         "3.0",
         "2011"
        ],
        [
         "34",
         "3.5",
         "3.5",
         "4.0",
         "12",
         "3.0",
         "3.5",
         "2011"
        ],
        [
         "35",
         "3.0",
         "3.5",
         "4.0",
         "12",
         "3.5",
         "2.5",
         "2011"
        ],
        [
         "36",
         "4.0",
         "4.0",
         "4.0",
         "12",
         "3.5",
         "3.5",
         "2011"
        ],
        [
         "37",
         "3.0",
         "3.5",
         "4.0",
         "12",
         "3.0",
         "3.0",
         "2011"
        ],
        [
         "38",
         "3.5",
         "3.5",
         "3.5",
         "12",
         "4.0",
         "3.5",
         "2011"
        ],
        [
         "39",
         "3.5",
         "3.5",
         "3.5",
         "12",
         "4.0",
         "4.0",
         "2011"
        ],
        [
         "40",
         "4.0",
         "4.0",
         "4.5",
         "12",
         "4.0",
         "4.0",
         "2011"
        ],
        [
         "41",
         "3.5",
         "3.5",
         "4.0",
         "12",
         "3.5",
         "3.5",
         "2011"
        ],
        [
         "42",
         "4.5",
         "5.0",
         "4.5",
         "12",
         "4.5",
         "4.0",
         "2011"
        ],
        [
         "43",
         "2.5",
         "3.5",
         "4.0",
         "12",
         "2.0",
         "2.5",
         "2011"
        ],
        [
         "44",
         "4.0",
         "3.5",
         "4.0",
         "12",
         "4.0",
         "4.5",
         "2011"
        ],
        [
         "45",
         "4.5",
         "2.0",
         "2.0",
         "12",
         "4.0",
         "4.0",
         "2011"
        ],
        [
         "46",
         "3.5",
         "3.5",
         "3.5",
         "12",
         "3.0",
         "3.5",
         "2011"
        ],
        [
         "47",
         "3.0",
         "3.5",
         "4.0",
         "12",
         "3.0",
         "4.0",
         "2011"
        ],
        [
         "48",
         "3.5",
         "4.0",
         "4.0",
         "12",
         "3.5",
         "4.0",
         "2010"
        ],
        [
         "49",
         "3.5",
         "3.5",
         "4.0",
         "12",
         "3.5",
         "4.0",
         "2011"
        ]
       ],
       "shape": {
        "columns": 7,
        "rows": 503104
       }
      },
      "text/html": [
       "<div>\n",
       "<style scoped>\n",
       "    .dataframe tbody tr th:only-of-type {\n",
       "        vertical-align: middle;\n",
       "    }\n",
       "\n",
       "    .dataframe tbody tr th {\n",
       "        vertical-align: top;\n",
       "    }\n",
       "\n",
       "    .dataframe thead th {\n",
       "        text-align: right;\n",
       "    }\n",
       "</style>\n",
       "<table border=\"1\" class=\"dataframe\">\n",
       "  <thead>\n",
       "    <tr style=\"text-align: right;\">\n",
       "      <th></th>\n",
       "      <th>review_overall</th>\n",
       "      <th>review_aroma</th>\n",
       "      <th>review_appearance</th>\n",
       "      <th>style_id</th>\n",
       "      <th>review_palate</th>\n",
       "      <th>review_taste</th>\n",
       "      <th>year</th>\n",
       "    </tr>\n",
       "  </thead>\n",
       "  <tbody>\n",
       "    <tr>\n",
       "      <th>0</th>\n",
       "      <td>4.0</td>\n",
       "      <td>4.5</td>\n",
       "      <td>4.0</td>\n",
       "      <td>10</td>\n",
       "      <td>4.0</td>\n",
       "      <td>4.5</td>\n",
       "      <td>2010</td>\n",
       "    </tr>\n",
       "    <tr>\n",
       "      <th>1</th>\n",
       "      <td>3.0</td>\n",
       "      <td>3.5</td>\n",
       "      <td>3.5</td>\n",
       "      <td>59</td>\n",
       "      <td>3.0</td>\n",
       "      <td>3.5</td>\n",
       "      <td>2012</td>\n",
       "    </tr>\n",
       "    <tr>\n",
       "      <th>2</th>\n",
       "      <td>3.5</td>\n",
       "      <td>3.5</td>\n",
       "      <td>3.5</td>\n",
       "      <td>59</td>\n",
       "      <td>4.0</td>\n",
       "      <td>4.0</td>\n",
       "      <td>2011</td>\n",
       "    </tr>\n",
       "    <tr>\n",
       "      <th>3</th>\n",
       "      <td>3.0</td>\n",
       "      <td>2.5</td>\n",
       "      <td>3.5</td>\n",
       "      <td>59</td>\n",
       "      <td>2.0</td>\n",
       "      <td>3.5</td>\n",
       "      <td>2011</td>\n",
       "    </tr>\n",
       "    <tr>\n",
       "      <th>4</th>\n",
       "      <td>4.0</td>\n",
       "      <td>3.0</td>\n",
       "      <td>3.5</td>\n",
       "      <td>59</td>\n",
       "      <td>3.5</td>\n",
       "      <td>4.0</td>\n",
       "      <td>2010</td>\n",
       "    </tr>\n",
       "    <tr>\n",
       "      <th>...</th>\n",
       "      <td>...</td>\n",
       "      <td>...</td>\n",
       "      <td>...</td>\n",
       "      <td>...</td>\n",
       "      <td>...</td>\n",
       "      <td>...</td>\n",
       "      <td>...</td>\n",
       "    </tr>\n",
       "    <tr>\n",
       "      <th>503099</th>\n",
       "      <td>3.5</td>\n",
       "      <td>4.0</td>\n",
       "      <td>3.5</td>\n",
       "      <td>65</td>\n",
       "      <td>3.0</td>\n",
       "      <td>3.5</td>\n",
       "      <td>2011</td>\n",
       "    </tr>\n",
       "    <tr>\n",
       "      <th>503100</th>\n",
       "      <td>4.5</td>\n",
       "      <td>4.0</td>\n",
       "      <td>4.0</td>\n",
       "      <td>65</td>\n",
       "      <td>4.5</td>\n",
       "      <td>4.0</td>\n",
       "      <td>2010</td>\n",
       "    </tr>\n",
       "    <tr>\n",
       "      <th>503101</th>\n",
       "      <td>4.0</td>\n",
       "      <td>4.0</td>\n",
       "      <td>4.0</td>\n",
       "      <td>65</td>\n",
       "      <td>4.0</td>\n",
       "      <td>4.0</td>\n",
       "      <td>2010</td>\n",
       "    </tr>\n",
       "    <tr>\n",
       "      <th>503102</th>\n",
       "      <td>4.0</td>\n",
       "      <td>4.5</td>\n",
       "      <td>4.0</td>\n",
       "      <td>65</td>\n",
       "      <td>4.0</td>\n",
       "      <td>4.0</td>\n",
       "      <td>2010</td>\n",
       "    </tr>\n",
       "    <tr>\n",
       "      <th>503103</th>\n",
       "      <td>4.0</td>\n",
       "      <td>4.5</td>\n",
       "      <td>4.5</td>\n",
       "      <td>65</td>\n",
       "      <td>3.5</td>\n",
       "      <td>3.5</td>\n",
       "      <td>2010</td>\n",
       "    </tr>\n",
       "  </tbody>\n",
       "</table>\n",
       "<p>503104 rows × 7 columns</p>\n",
       "</div>"
      ],
      "text/plain": [
       "        review_overall  review_aroma  review_appearance  style_id  \\\n",
       "0                  4.0           4.5                4.0        10   \n",
       "1                  3.0           3.5                3.5        59   \n",
       "2                  3.5           3.5                3.5        59   \n",
       "3                  3.0           2.5                3.5        59   \n",
       "4                  4.0           3.0                3.5        59   \n",
       "...                ...           ...                ...       ...   \n",
       "503099             3.5           4.0                3.5        65   \n",
       "503100             4.5           4.0                4.0        65   \n",
       "503101             4.0           4.0                4.0        65   \n",
       "503102             4.0           4.5                4.0        65   \n",
       "503103             4.0           4.5                4.5        65   \n",
       "\n",
       "        review_palate  review_taste  year  \n",
       "0                 4.0           4.5  2010  \n",
       "1                 3.0           3.5  2012  \n",
       "2                 4.0           4.0  2011  \n",
       "3                 2.0           3.5  2011  \n",
       "4                 3.5           4.0  2010  \n",
       "...               ...           ...   ...  \n",
       "503099            3.0           3.5  2011  \n",
       "503100            4.5           4.0  2010  \n",
       "503101            4.0           4.0  2010  \n",
       "503102            4.0           4.0  2010  \n",
       "503103            3.5           3.5  2010  \n",
       "\n",
       "[503104 rows x 7 columns]"
      ]
     },
     "execution_count": 21,
     "metadata": {},
     "output_type": "execute_result"
    }
   ],
   "source": [
    "df=pd.read_csv('../Data/Clean/beer_reviews_all_columns.csv')\n",
    "df"
   ]
  },
  {
   "cell_type": "markdown",
   "id": "577e3bfe",
   "metadata": {},
   "source": [
    "# Using the pearsons test"
   ]
  },
  {
   "cell_type": "code",
   "execution_count": 22,
   "id": "cea5eb54",
   "metadata": {},
   "outputs": [],
   "source": [
    "alpha = 0.05"
   ]
  },
  {
   "cell_type": "markdown",
   "id": "d6dc6b28",
   "metadata": {},
   "source": [
    "# Correlation between review_palate and review_overall"
   ]
  },
  {
   "cell_type": "code",
   "execution_count": null,
   "id": "a37f7ce0",
   "metadata": {},
   "outputs": [
    {
     "name": "stdout",
     "output_type": "stream",
     "text": [
      "Pearson Correlation Coefficient (r): 0.6815\n",
      "P-value: 0.0000\n",
      "Result: Reject the null hypothesis. There is a statistically significant correlation.\n",
      "\n",
      "------------------------------------------------------------\n",
      "\n"
     ]
    }
   ],
   "source": [
    "correlation_palate, p_value_palate = stats.pearsonr(df['review_palate'], df['review_overall'])\n",
    "print(f\"Pearson Correlation Coefficient (r): {correlation_palate:.4f}\")\n",
    "print(f\"P-value: {p_value_palate:.4f}\")\n",
    "\n",
    "if p_value_palate < alpha:\n",
    "    print(\"Result: Reject the null hypothesis. There is a statistically significant correlation.\")\n",
    "else:\n",
    "    print(\"Result: Fail to reject the null hypothesis. There is no statistically significant correlation.\")"
   ]
  },
  {
   "cell_type": "markdown",
   "id": "ae8b75df",
   "metadata": {},
   "source": [
    "# Correlation between review_taste and review_overall"
   ]
  },
  {
   "cell_type": "code",
   "execution_count": null,
   "id": "d920548c",
   "metadata": {},
   "outputs": [
    {
     "name": "stdout",
     "output_type": "stream",
     "text": [
      "Pearson Correlation Coefficient (r): 0.7972\n",
      "P-value: 0.0000\n",
      "Result: Reject the null hypothesis. There is a statistically significant correlation.\n",
      "\n",
      "------------------------------------------------------------\n",
      "\n"
     ]
    }
   ],
   "source": [
    "correlation_taste, p_value_taste = stats.pearsonr(df['review_taste'], df['review_overall'])\n",
    "print(f\"Pearson Correlation Coefficient (r): {correlation_taste:.4f}\")\n",
    "print(f\"P-value: {p_value_taste:.4f}\")\n",
    "\n",
    "if p_value_taste < alpha:\n",
    "    print(\"Result: Reject the null hypothesis. There is a statistically significant correlation.\")\n",
    "else:\n",
    "    print(\"Result: Fail to reject the null hypothesis. There is no statistically significant correlation.\")"
   ]
  },
  {
   "cell_type": "markdown",
   "id": "9bf7c825",
   "metadata": {},
   "source": [
    "# Correlation between review_aroma and review_overall"
   ]
  },
  {
   "cell_type": "code",
   "execution_count": null,
   "id": "551d40de",
   "metadata": {},
   "outputs": [
    {
     "name": "stdout",
     "output_type": "stream",
     "text": [
      "Pearson Correlation Coefficient (r): 0.6152\n",
      "P-value: 0.0000\n",
      "Result: Reject the null hypothesis. There is a statistically significant correlation.\n",
      "\n",
      "------------------------------------------------------------\n",
      "\n"
     ]
    }
   ],
   "source": [
    "correlation_aroma, p_value_aroma = stats.pearsonr(df['review_aroma'], df['review_overall'])\n",
    "print(f\"Pearson Correlation Coefficient (r): {correlation_aroma:.4f}\")\n",
    "print(f\"P-value: {p_value_aroma:.4f}\")\n",
    "\n",
    "if p_value_aroma < alpha:\n",
    "    print(\"Result: Reject the null hypothesis. There is a statistically significant correlation.\")\n",
    "else:\n",
    "    print(\"Result: Fail to reject the null hypothesis. There is no statistically significant correlation.\")\n",
    "    "
   ]
  },
  {
   "cell_type": "markdown",
   "id": "79fefbaa",
   "metadata": {},
   "source": [
    "# Correlation between review_appearance and review_overall"
   ]
  },
  {
   "cell_type": "code",
   "execution_count": null,
   "id": "3d1bc4f7",
   "metadata": {},
   "outputs": [
    {
     "name": "stdout",
     "output_type": "stream",
     "text": [
      "Pearson Correlation Coefficient (r): 0.4677\n",
      "P-value: 0.0000\n",
      "Result: Reject the null hypothesis. There is a statistically significant correlation.\n",
      "\n",
      "------------------------------------------------------------\n",
      "\n"
     ]
    }
   ],
   "source": [
    "correlation_appearance, p_value_appearance = stats.pearsonr(df['review_appearance'], df['review_overall'])\n",
    "print(f\"Pearson Correlation Coefficient (r): {correlation_appearance:.4f}\")\n",
    "print(f\"P-value: {p_value_appearance:.4f}\")\n",
    "\n",
    "if p_value_appearance < alpha:\n",
    "    print(\"Result: Reject the null hypothesis. There is a statistically significant correlation.\")\n",
    "else:\n",
    "    print(\"Result: Fail to reject the null hypothesis. There is no statistically significant correlation.\")"
   ]
  },
  {
   "cell_type": "code",
   "execution_count": 25,
   "id": "f38ecbfa",
   "metadata": {},
   "outputs": [],
   "source": [
    "df1=pd.read_csv('../Data/Clean/beer_reviews_all_columns.csv')\n",
    "df2=pd.read_csv('../Data/Clean/New_reviews.csv')\n",
    "df3=pd.read_csv('../Data/Clean/standard_beer_types_features_clean.csv')"
   ]
  },
  {
   "cell_type": "code",
   "execution_count": 27,
   "id": "c7621768",
   "metadata": {},
   "outputs": [
    {
     "data": {
      "text/plain": [
       "((503104, 7), (448, 5), (72, 5))"
      ]
     },
     "execution_count": 27,
     "metadata": {},
     "output_type": "execute_result"
    }
   ],
   "source": [
    "df1.shape, df2.shape, df3.shape"
   ]
  },
  {
   "cell_type": "code",
   "execution_count": 28,
   "id": "a03b8d17",
   "metadata": {},
   "outputs": [
    {
     "data": {
      "text/plain": [
       "(Index(['review_overall', 'review_aroma', 'review_appearance', 'style_id',\n",
       "        'review_palate', 'review_taste', 'year'],\n",
       "       dtype='object'),\n",
       " Index(['style_id', 'votes', 'review_overall', 'year', 'local_review'], dtype='object'),\n",
       " Index(['beer_style', 'color', 'bitterness', 'alcohol', 'style_id'], dtype='object'))"
      ]
     },
     "execution_count": 28,
     "metadata": {},
     "output_type": "execute_result"
    }
   ],
   "source": [
    "df1.columns, df2.columns, df3.columns"
   ]
  }
 ],
 "metadata": {
  "kernelspec": {
   "display_name": "Python 3",
   "language": "python",
   "name": "python3"
  },
  "language_info": {
   "codemirror_mode": {
    "name": "ipython",
    "version": 3
   },
   "file_extension": ".py",
   "mimetype": "text/x-python",
   "name": "python",
   "nbconvert_exporter": "python",
   "pygments_lexer": "ipython3",
   "version": "3.13.3"
  }
 },
 "nbformat": 4,
 "nbformat_minor": 5
}
