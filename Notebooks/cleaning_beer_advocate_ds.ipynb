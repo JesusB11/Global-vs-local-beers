{
 "cells": [
  {
   "cell_type": "code",
   "execution_count": 2,
   "id": "42cfe985",
   "metadata": {},
   "outputs": [],
   "source": [
    "import pandas as pd\n",
    "import numpy as np\n",
    "import datetime"
   ]
  },
  {
   "cell_type": "code",
   "execution_count": 2,
   "id": "9b17944b",
   "metadata": {},
   "outputs": [],
   "source": [
    "df=pd.read_csv('../Data/Raw/beer_reviews.csv')"
   ]
  },
  {
   "cell_type": "markdown",
   "id": "fb04d1a8",
   "metadata": {},
   "source": [
    "Deleting the styles that are not in the scrapped ds"
   ]
  },
  {
   "cell_type": "code",
   "execution_count": 3,
   "id": "391ea5c5",
   "metadata": {},
   "outputs": [],
   "source": [
    "styles_to_delete=['American Blonde Ale','Rye Beer', 'American Double / Imperial Pilsner', 'American Strong Ale', 'Belgian Dark Ale', \n",
    "                  'Belgian IPA', 'Bière de Champagne / Bière Brut', 'Black & Tan', 'Chile Beer', 'Czech Pilsener', 'Sahti', 'Rye Beer',\n",
    "                  'Dortmunder / Export Lager', 'English Strong Ale', 'Euro Dark Lager', 'Euro Pale Lager', 'Euro Strong Lager', \n",
    "                  'Extra Special / Strong Bitter (ESB)', 'Faro', 'Japanese Rice Lager', 'Keller Bier / Zwickel Bier', 'Light Lager',\n",
    "                  'Low Alcohol Beer', 'Rauchbier', 'Russian Imperial Stout', 'Winter Warmer', 'American Malt Liquor', 'Kristalweizen',\n",
    "                  'Eisbock', 'Foreign / Export Stout', 'American Wild Ale', 'Braggot', 'Flanders Oud Bruin', 'Happoshu', 'Kvass']\n",
    "\n",
    "df= df[~df['beer_style'].isin(styles_to_delete)]"
   ]
  },
  {
   "cell_type": "code",
   "execution_count": 4,
   "id": "c265d869",
   "metadata": {},
   "outputs": [
    {
     "data": {
      "text/plain": [
       "array(['Hefeweizen', 'German Pilsener', 'American Double / Imperial IPA',\n",
       "       'Herbed / Spiced Beer', 'Oatmeal Stout', 'American Pale Lager',\n",
       "       'American Pale Ale (APA)', 'American Porter',\n",
       "       'Belgian Strong Dark Ale', 'American IPA', 'American Stout',\n",
       "       'American Amber / Red Ale', 'Märzen / Oktoberfest',\n",
       "       'American Adjunct Lager', 'English Brown Ale',\n",
       "       'Scotch Ale / Wee Heavy', 'Fruit / Vegetable Beer',\n",
       "       'American Double / Imperial Stout', 'Belgian Pale Ale',\n",
       "       'English Bitter', 'English Porter', 'Irish Dry Stout',\n",
       "       'American Barleywine', 'Belgian Strong Pale Ale', 'Doppelbock',\n",
       "       'Maibock / Helles Bock', 'Pumpkin Ale', 'Weizenbock', 'Bock',\n",
       "       'English India Pale Ale (IPA)', 'Altbier', 'Kölsch',\n",
       "       'Munich Dunkel Lager', 'American Pale Wheat Ale',\n",
       "       'Milk / Sweet Stout', 'Schwarzbier', 'Vienna Lager',\n",
       "       'American Amber / Red Lager', 'Scottish Ale', 'Witbier',\n",
       "       'American Black Ale', 'Saison / Farmhouse Ale',\n",
       "       'English Barleywine', 'English Dark Mild Ale',\n",
       "       'California Common / Steam Beer', 'English Pale Ale', 'Tripel',\n",
       "       'American Brown Ale', 'Smoked Beer', 'Dubbel', 'Flanders Red Ale',\n",
       "       'Dunkelweizen', 'Roggenbier', 'Bière de Garde', 'Irish Red Ale',\n",
       "       'English Stout', 'Cream Ale',\n",
       "       'Scottish Gruit / Ancient Herbed Ale', 'Wheatwine',\n",
       "       'American Dark Wheat Ale', 'Baltic Porter', 'Munich Helles Lager',\n",
       "       'English Pale Mild Ale', 'Lambic - Fruit', 'Old Ale',\n",
       "       'Quadrupel (Quad)', 'Lambic - Unblended', 'Berliner Weissbier',\n",
       "       'Gueuze', 'Gose'], dtype=object)"
      ]
     },
     "execution_count": 4,
     "metadata": {},
     "output_type": "execute_result"
    }
   ],
   "source": [
    "df['beer_style'].unique()"
   ]
  },
  {
   "cell_type": "markdown",
   "id": "5047a752",
   "metadata": {},
   "source": [
    "Unifying the name with the styles in the scrapping DS"
   ]
  },
  {
   "cell_type": "code",
   "execution_count": 5,
   "id": "a1ac387a",
   "metadata": {},
   "outputs": [
    {
     "data": {
      "application/vnd.microsoft.datawrangler.viewer.v0+json": {
       "columns": [
        {
         "name": "index",
         "rawType": "object",
         "type": "string"
        },
        {
         "name": "0",
         "rawType": "int64",
         "type": "integer"
        }
       ],
       "ref": "bd12493a-8ce8-42d6-b079-c833261d4463",
       "rows": [
        [
         "index",
         "0"
        ],
        [
         "brewery_id",
         "0"
        ],
        [
         "brewery_name",
         "8"
        ],
        [
         "review_time",
         "0"
        ],
        [
         "review_overall",
         "0"
        ],
        [
         "review_aroma",
         "0"
        ],
        [
         "review_appearance",
         "0"
        ],
        [
         "review_profilename",
         "280"
        ],
        [
         "beer_style",
         "0"
        ],
        [
         "review_palate",
         "0"
        ],
        [
         "review_taste",
         "0"
        ],
        [
         "beer_name",
         "0"
        ],
        [
         "beer_abv",
         "56725"
        ],
        [
         "beer_beerid",
         "0"
        ]
       ],
       "shape": {
        "columns": 1,
        "rows": 14
       }
      },
      "text/plain": [
       "index                     0\n",
       "brewery_id                0\n",
       "brewery_name              8\n",
       "review_time               0\n",
       "review_overall            0\n",
       "review_aroma              0\n",
       "review_appearance         0\n",
       "review_profilename      280\n",
       "beer_style                0\n",
       "review_palate             0\n",
       "review_taste              0\n",
       "beer_name                 0\n",
       "beer_abv              56725\n",
       "beer_beerid               0\n",
       "dtype: int64"
      ]
     },
     "execution_count": 5,
     "metadata": {},
     "output_type": "execute_result"
    }
   ],
   "source": [
    "styles_mapping={'American Amber / Red Ale': 'Amber Ale', 'American Amber Ale': 'Amber Ale', 'American Amber / Red Lager': 'American Amber Lager', 'American Barleywine': 'American Barley Wine', 'American Black Ale': 'American Black Ale', 'American Brown Ale': 'American Brown Ale', 'Cream Ale': 'American Cream Ale', 'American Porter': 'American Imperial Porter', 'American Pale Lager': 'American Imperial Red Ale', 'California Common / Steam Beer': 'California Common', 'American Pale Wheat Ale': 'American Wheat', 'American Stout': 'American Stout', 'American Pale Ale (APA)': 'American Pale Ale', 'Berliner Weissbier': 'German Style Hefeweizen', 'American Double / Imperial IPA': 'American India Pale Ale', 'American IPA': 'American India Pale Ale', 'American Adjunct Lager': 'American Lager', 'American Double / Imperial Stout': 'American Imperial Stout', 'Wheatwine': 'American Style Wheat Wine Ale', 'American Dark Wheat Ale': 'American Style Wheat Wine Ale', 'Baltic Porter': 'Baltic Style Porter', 'Dubbel': 'Belgian Style Dubbel', 'Flanders Red Ale': 'Belgian Style Flanders', 'Lambic Fruit': 'belgian style lambic gueuze', 'Belgian Strong Dark Ale': 'Belgian Style Golden Strong Ale', 'Belgian Strong Pale Ale': 'Belgian Style Golden Strong Ale', 'Gueuze': 'Belgian Style Lambic Gueuze', 'Lambic Unblended': 'Belgian Style Lambic Gueuze', 'Belgian Pale Ale': 'Belgian Style Pale Ale', 'Quadrupel (Quad)': 'Belgian Style Quadrupel', 'Saison / Farmhouse Ale': 'Belgian Style Saison', 'Tripel': 'Belgian Style Tripel', 'Witbier': 'Belgian style wit', 'Belgian Style Witbier': 'Belgian style wit', 'French Style Biere de Garde': 'Biere de Garde', 'English Barleywine': 'British Style Barley Wine Ale', 'Gose': 'Contemporary Gose', 'English Bitter': 'English Style Bitter', 'English Brown Ale': 'English Style Brown Ale', 'English Porter': 'English Style Brown Porter', 'English Dark Mild Ale': 'English Style Dark Mild', 'English Pale Mild Ale': 'English Style Dark Mild', 'English Style Mild': 'English Style Dark Mild', 'English India Pale Ale (IPA)': 'English Style India Pale Ale', 'English Style IPA': 'English Style India Pale Ale', 'English Stout': 'English Style Oatmeal Stout', 'Oatmeal Stout': 'English Style Oatmeal Stout', 'Old Ale': 'English Style Old Ale', 'English Pale Ale': 'English Style Pale Ale (ESB)', 'Milk / Sweet Stout': 'English Style Sweet Stout (Milk Stout)', 'Fruit / Vegetable Beer': 'Fruit field or flavored', 'Fruit and Field Beer': 'Fruit field or flavored', 'Maibock / Helles Bock': 'german style heller bock maibock', 'Bock': 'German Style Bock', 'Altbier': 'German Style Brownaltbier', 'German Style Altbier': 'German Style Brownaltbier', 'Doppelbock': 'German Style Doppelbock', 'Munich Dunkel Lager': 'German Style Dunkel', 'Dunkelweizen': 'German Style Dunkelweizen', 'Roggenbier': 'German Style Dunkelweizen', 'Hefeweizen': 'German Style Hefeweizen', 'Munich Helles Lager': 'German Style Helles', 'Kölsch': 'German Style Kolsch', 'Märzen / Oktoberfest': 'German Style Marzen Oktoberfest', 'German Pilsner': 'German Style Pilsener', 'Schwarzbier': 'German Style Schwarzbier', 'Weizenbock': 'German Style Weizenbock', 'Herbed / Spiced Beer': 'Herb and Spice Beer', 'Scottish Gruit / Ancient Herbed Ale': 'Herb and Spice Beer', 'Irish Dry Stout': 'Irish Style Dry Stout', 'Irish Red Ale': 'Irish Style Red', 'Pumpkin Ale': 'Pumpkin Beer', 'Scotch Ale / Wee Heavy': 'Scotch Ale Wee Heavy', 'Smoked Beer': 'Smoke Porter', 'Scottish Ale': 'Scottish Style Ale', 'Vienna Lager': 'Vienna Style Lager', 'Bière de Garde': 'Biere de Garde', 'German Pilsener': 'German Style Pilsener', 'Lambic - Fruit': 'Belgian Style Lambic Gueuze', 'Lambic - Unblended': 'Belgian Style Lambic Gueuze'}\n",
    "df['beer_style']=df['beer_style'].map(styles_mapping)\n",
    "df.isna().sum()"
   ]
  },
  {
   "cell_type": "markdown",
   "id": "b2ffe03b",
   "metadata": {},
   "source": [
    "Changing the styles names to the ids."
   ]
  },
  {
   "cell_type": "code",
   "execution_count": 6,
   "id": "a70e6204",
   "metadata": {},
   "outputs": [
    {
     "data": {
      "application/vnd.microsoft.datawrangler.viewer.v0+json": {
       "columns": [
        {
         "name": "index",
         "rawType": "object",
         "type": "string"
        },
        {
         "name": "0",
         "rawType": "int64",
         "type": "integer"
        }
       ],
       "ref": "2f2bfc62-ecff-49bc-9b0a-04313076d7b2",
       "rows": [
        [
         "index",
         "0"
        ],
        [
         "brewery_id",
         "0"
        ],
        [
         "brewery_name",
         "8"
        ],
        [
         "review_time",
         "0"
        ],
        [
         "review_overall",
         "0"
        ],
        [
         "review_aroma",
         "0"
        ],
        [
         "review_appearance",
         "0"
        ],
        [
         "review_profilename",
         "280"
        ],
        [
         "beer_style",
         "0"
        ],
        [
         "review_palate",
         "0"
        ],
        [
         "review_taste",
         "0"
        ],
        [
         "beer_name",
         "0"
        ],
        [
         "beer_abv",
         "56725"
        ],
        [
         "beer_beerid",
         "0"
        ]
       ],
       "shape": {
        "columns": 1,
        "rows": 14
       }
      },
      "text/plain": [
       "index                     0\n",
       "brewery_id                0\n",
       "brewery_name              8\n",
       "review_time               0\n",
       "review_overall            0\n",
       "review_aroma              0\n",
       "review_appearance         0\n",
       "review_profilename      280\n",
       "beer_style                0\n",
       "review_palate             0\n",
       "review_taste              0\n",
       "beer_name                 0\n",
       "beer_abv              56725\n",
       "beer_beerid               0\n",
       "dtype: int64"
      ]
     },
     "execution_count": 6,
     "metadata": {},
     "output_type": "execute_result"
    }
   ],
   "source": [
    "map_id_style={'Amber Ale': 1, 'American Amber Lager': 2, 'American Barley Wine': 3, 'American Black Ale': 4, 'American Brown Ale': 5, 'American Cream Ale': 6, 'American Imperial Porter': 7, 'American Imperial Red Ale': 8, 'American Imperial Stout': 9, 'American India Pale Ale': 10, 'American Lager': 11, 'American Pale Ale': 12, 'American Stout': 13, 'American Style Wheat Wine Ale': 14, 'American Wheat': 15, 'Baltic Style Porter': 16, 'Belgian Style Dubbel': 18, 'Belgian Style Flanders': 19, 'Belgian Style Golden Strong Ale': 20, 'Belgian Style Lambic Gueuze': 21, 'Belgian Style Pale Ale': 22, 'Belgian Style Quadrupel': 23, 'Belgian Style Saison': 24, 'Belgian Style Tripel': 25, 'Belgian style wit': 26, 'British Style Barley Wine Ale': 30, 'California Common': 31, 'Contemporary Gose': 34, 'English Style Bitter': 35, 'English Style Brown Ale': 36, 'English Style Brown Porter': 37, 'English Style India Pale Ale': 38, 'English Style Dark Mild': 39, 'English Style Oatmeal Stout': 40, 'English Style Old Ale': 41, 'English Style Pale Ale (ESB)': 42, 'English Style Sweet Stout (Milk Stout)': 43, 'Biere de Garde': 45, 'Fruit field or flavored': 46, 'German Style Brownaltbier': 47, 'German Style Bock': 48, 'German Style Doppelbock': 49, 'German Style Dunkel': 50, 'German Style Dunkelweizen': 51, 'German Style Hefeweizen': 52, 'German Style Helles': 53, 'German Style Kolsch': 54, 'german style heller bock maibock': 55, 'German Style Pilsener': 56, 'German Style Schwarzbier': 57, 'German Style Weizenbock': 58, 'Herb and Spice Beer': 59, 'Irish Style Dry Stout': 62, 'Irish Style Red': 63, 'Pumpkin Beer': 65, 'Scotch Ale Wee Heavy': 67, 'Scottish Style Ale': 68, 'Smoke Porter': 70, 'Vienna Style Lager': 71, 'German Style Marzen Oktoberfest': 72}\n",
    "\n",
    "df['beer_style']=df['beer_style'].map(map_id_style)\n",
    "df.isna().sum()"
   ]
  },
  {
   "cell_type": "markdown",
   "id": "0366271d",
   "metadata": {},
   "source": [
    "Creating the year column to split the data in this way."
   ]
  },
  {
   "cell_type": "code",
   "execution_count": 7,
   "id": "35c90d42",
   "metadata": {},
   "outputs": [
    {
     "data": {
      "application/vnd.microsoft.datawrangler.viewer.v0+json": {
       "columns": [
        {
         "name": "index",
         "rawType": "object",
         "type": "string"
        },
        {
         "name": "0",
         "rawType": "int64",
         "type": "integer"
        }
       ],
       "ref": "77b2caa6-7ada-4367-9b6b-d094ec0f30e9",
       "rows": [
        [
         "index",
         "0"
        ],
        [
         "brewery_id",
         "0"
        ],
        [
         "brewery_name",
         "8"
        ],
        [
         "review_time",
         "0"
        ],
        [
         "review_overall",
         "0"
        ],
        [
         "review_aroma",
         "0"
        ],
        [
         "review_appearance",
         "0"
        ],
        [
         "review_profilename",
         "280"
        ],
        [
         "beer_style",
         "0"
        ],
        [
         "review_palate",
         "0"
        ],
        [
         "review_taste",
         "0"
        ],
        [
         "beer_name",
         "0"
        ],
        [
         "beer_abv",
         "56725"
        ],
        [
         "beer_beerid",
         "0"
        ],
        [
         "date",
         "0"
        ],
        [
         "year",
         "0"
        ]
       ],
       "shape": {
        "columns": 1,
        "rows": 16
       }
      },
      "text/plain": [
       "index                     0\n",
       "brewery_id                0\n",
       "brewery_name              8\n",
       "review_time               0\n",
       "review_overall            0\n",
       "review_aroma              0\n",
       "review_appearance         0\n",
       "review_profilename      280\n",
       "beer_style                0\n",
       "review_palate             0\n",
       "review_taste              0\n",
       "beer_name                 0\n",
       "beer_abv              56725\n",
       "beer_beerid               0\n",
       "date                      0\n",
       "year                      0\n",
       "dtype: int64"
      ]
     },
     "execution_count": 7,
     "metadata": {},
     "output_type": "execute_result"
    }
   ],
   "source": [
    "df['date']=pd.to_datetime(df['review_time'], unit='s')\n",
    "df['year']=df['date'].dt.year\n",
    "df.isna().sum()"
   ]
  },
  {
   "cell_type": "markdown",
   "id": "8238273e",
   "metadata": {},
   "source": [
    "Dropping extra columns that I won't use to make the file lighter"
   ]
  },
  {
   "cell_type": "code",
   "execution_count": 25,
   "id": "c23ae1b0",
   "metadata": {},
   "outputs": [
    {
     "data": {
      "text/plain": [
       "array([10, 59, 40,  7, 12, 20,  1, 11, 56, 46, 35, 62,  3,  9, 13, 55, 48,\n",
       "       47,  2, 72,  4, 24, 43, 52, 54, 57, 31, 67, 42, 65, 26, 22, 25, 70,\n",
       "       68, 37, 18, 19, 51, 49, 38,  8, 45,  5, 63, 15, 50, 71, 30,  6, 36,\n",
       "       39, 16, 53, 41, 23, 14, 21, 58, 34])"
      ]
     },
     "execution_count": 25,
     "metadata": {},
     "output_type": "execute_result"
    }
   ],
   "source": [
    "df['beer_style'].unique()"
   ]
  },
  {
   "cell_type": "code",
   "execution_count": 24,
   "id": "eae9a028",
   "metadata": {},
   "outputs": [
    {
     "data": {
      "application/vnd.microsoft.datawrangler.viewer.v0+json": {
       "columns": [
        {
         "name": "index",
         "rawType": "int64",
         "type": "integer"
        },
        {
         "name": "review_overall",
         "rawType": "float64",
         "type": "float"
        },
        {
         "name": "review_aroma",
         "rawType": "float64",
         "type": "float"
        },
        {
         "name": "review_appearance",
         "rawType": "float64",
         "type": "float"
        },
        {
         "name": "beer_style",
         "rawType": "int64",
         "type": "integer"
        },
        {
         "name": "review_palate",
         "rawType": "float64",
         "type": "float"
        },
        {
         "name": "review_taste",
         "rawType": "float64",
         "type": "float"
        },
        {
         "name": "year",
         "rawType": "int32",
         "type": "integer"
        }
       ],
       "ref": "1c28c868-6a98-4161-a40a-2e507eb4b911",
       "rows": [],
       "shape": {
        "columns": 7,
        "rows": 0
       }
      },
      "text/html": [
       "<div>\n",
       "<style scoped>\n",
       "    .dataframe tbody tr th:only-of-type {\n",
       "        vertical-align: middle;\n",
       "    }\n",
       "\n",
       "    .dataframe tbody tr th {\n",
       "        vertical-align: top;\n",
       "    }\n",
       "\n",
       "    .dataframe thead th {\n",
       "        text-align: right;\n",
       "    }\n",
       "</style>\n",
       "<table border=\"1\" class=\"dataframe\">\n",
       "  <thead>\n",
       "    <tr style=\"text-align: right;\">\n",
       "      <th></th>\n",
       "      <th>review_overall</th>\n",
       "      <th>review_aroma</th>\n",
       "      <th>review_appearance</th>\n",
       "      <th>beer_style</th>\n",
       "      <th>review_palate</th>\n",
       "      <th>review_taste</th>\n",
       "      <th>year</th>\n",
       "    </tr>\n",
       "  </thead>\n",
       "  <tbody>\n",
       "  </tbody>\n",
       "</table>\n",
       "</div>"
      ],
      "text/plain": [
       "Empty DataFrame\n",
       "Columns: [review_overall, review_aroma, review_appearance, beer_style, review_palate, review_taste, year]\n",
       "Index: []"
      ]
     },
     "execution_count": 24,
     "metadata": {},
     "output_type": "execute_result"
    }
   ],
   "source": [
    "df[df['beer_style']==32]"
   ]
  },
  {
   "cell_type": "code",
   "execution_count": null,
   "id": "b633646b",
   "metadata": {},
   "outputs": [
    {
     "data": {
      "application/vnd.microsoft.datawrangler.viewer.v0+json": {
       "columns": [
        {
         "name": "index",
         "rawType": "object",
         "type": "string"
        },
        {
         "name": "0",
         "rawType": "int64",
         "type": "integer"
        }
       ],
       "ref": "6f39548c-3de0-4c23-9124-534bfffef6d8",
       "rows": [
        [
         "review_overall",
         "0"
        ],
        [
         "review_aroma",
         "0"
        ],
        [
         "review_appearance",
         "0"
        ],
        [
         "beer_style",
         "0"
        ],
        [
         "review_palate",
         "0"
        ],
        [
         "review_taste",
         "0"
        ],
        [
         "year",
         "0"
        ]
       ],
       "shape": {
        "columns": 1,
        "rows": 7
       }
      },
      "text/plain": [
       "review_overall       0\n",
       "review_aroma         0\n",
       "review_appearance    0\n",
       "beer_style           0\n",
       "review_palate        0\n",
       "review_taste         0\n",
       "year                 0\n",
       "dtype: int64"
      ]
     },
     "execution_count": 9,
     "metadata": {},
     "output_type": "execute_result"
    }
   ],
   "source": [
    "more_columns_to_drop=['index', 'brewery_id', 'brewery_name', 'review_time', 'review_profilename', \n",
    "                      'beer_name', 'beer_abv', 'beer_beerid', 'date']\n",
    "df=df.drop(more_columns_to_drop, axis=1)"
   ]
  },
  {
   "cell_type": "markdown",
   "id": "af8431d9",
   "metadata": {},
   "source": [
    "I am shrinking the data by date. I am leaving everything from 20010, 2011 and 2012."
   ]
  },
  {
   "cell_type": "code",
   "execution_count": 10,
   "id": "007c83b4",
   "metadata": {},
   "outputs": [],
   "source": [
    "df=df[df['year']>2009]"
   ]
  },
  {
   "cell_type": "code",
   "execution_count": 11,
   "id": "cb742dfc",
   "metadata": {},
   "outputs": [
    {
     "name": "stdout",
     "output_type": "stream",
     "text": [
      "<class 'pandas.core.frame.DataFrame'>\n",
      "Index: 503104 entries, 4 to 1586604\n",
      "Data columns (total 7 columns):\n",
      " #   Column             Non-Null Count   Dtype  \n",
      "---  ------             --------------   -----  \n",
      " 0   review_overall     503104 non-null  float64\n",
      " 1   review_aroma       503104 non-null  float64\n",
      " 2   review_appearance  503104 non-null  float64\n",
      " 3   beer_style         503104 non-null  int64  \n",
      " 4   review_palate      503104 non-null  float64\n",
      " 5   review_taste       503104 non-null  float64\n",
      " 6   year               503104 non-null  int32  \n",
      "dtypes: float64(5), int32(1), int64(1)\n",
      "memory usage: 28.8 MB\n"
     ]
    }
   ],
   "source": [
    "df.info()"
   ]
  },
  {
   "cell_type": "code",
   "execution_count": null,
   "id": "e414fe3f",
   "metadata": {},
   "outputs": [],
   "source": [
    "# df.to_csv('../Data/Clean/beer_reviews_all_columns.csv',index=False)"
   ]
  },
  {
   "cell_type": "markdown",
   "id": "740adc1d",
   "metadata": {},
   "source": [
    "Spliting the DF into three. It is too big for Github"
   ]
  },
  {
   "cell_type": "code",
   "execution_count": 16,
   "id": "978d28ad",
   "metadata": {},
   "outputs": [
    {
     "data": {
      "application/vnd.microsoft.datawrangler.viewer.v0+json": {
       "columns": [
        {
         "name": "index",
         "rawType": "int64",
         "type": "integer"
        },
        {
         "name": "review_overall",
         "rawType": "float64",
         "type": "float"
        },
        {
         "name": "review_aroma",
         "rawType": "float64",
         "type": "float"
        },
        {
         "name": "review_appearance",
         "rawType": "float64",
         "type": "float"
        },
        {
         "name": "beer_style",
         "rawType": "int64",
         "type": "integer"
        },
        {
         "name": "review_palate",
         "rawType": "float64",
         "type": "float"
        },
        {
         "name": "review_taste",
         "rawType": "float64",
         "type": "float"
        },
        {
         "name": "year",
         "rawType": "int32",
         "type": "integer"
        }
       ],
       "ref": "1b6a0a9d-b330-4b0f-98aa-b41fd542a850",
       "rows": [
        [
         "4",
         "4.0",
         "4.5",
         "4.0",
         "10",
         "4.0",
         "4.5",
         "2010"
        ],
        [
         "5",
         "3.0",
         "3.5",
         "3.5",
         "59",
         "3.0",
         "3.5",
         "2012"
        ],
        [
         "6",
         "3.5",
         "3.5",
         "3.5",
         "59",
         "4.0",
         "4.0",
         "2011"
        ],
        [
         "7",
         "3.0",
         "2.5",
         "3.5",
         "59",
         "2.0",
         "3.5",
         "2011"
        ],
        [
         "8",
         "4.0",
         "3.0",
         "3.5",
         "59",
         "3.5",
         "4.0",
         "2010"
        ],
        [
         "9",
         "4.5",
         "3.5",
         "5.0",
         "59",
         "4.0",
         "4.0",
         "2010"
        ],
        [
         "11",
         "5.0",
         "5.0",
         "4.0",
         "59",
         "4.0",
         "4.0",
         "2010"
        ],
        [
         "12",
         "4.0",
         "4.0",
         "4.0",
         "59",
         "3.5",
         "4.0",
         "2010"
        ],
        [
         "13",
         "4.0",
         "4.5",
         "3.0",
         "59",
         "2.5",
         "3.0",
         "2010"
        ],
        [
         "14",
         "3.5",
         "4.0",
         "3.0",
         "59",
         "3.0",
         "4.0",
         "2010"
        ],
        [
         "15",
         "3.0",
         "3.0",
         "2.5",
         "40",
         "3.0",
         "3.0",
         "2011"
        ],
        [
         "66",
         "4.5",
         "4.5",
         "4.5",
         "7",
         "4.5",
         "5.0",
         "2011"
        ],
        [
         "95",
         "4.0",
         "4.0",
         "4.0",
         "12",
         "4.0",
         "3.5",
         "2010"
        ],
        [
         "104",
         "4.0",
         "4.0",
         "4.0",
         "12",
         "3.5",
         "4.0",
         "2010"
        ],
        [
         "115",
         "4.0",
         "4.0",
         "4.5",
         "20",
         "4.0",
         "3.5",
         "2011"
        ],
        [
         "126",
         "4.0",
         "3.5",
         "2.5",
         "12",
         "3.0",
         "4.5",
         "2010"
        ],
        [
         "141",
         "4.0",
         "4.0",
         "4.0",
         "12",
         "4.0",
         "4.0",
         "2012"
        ],
        [
         "142",
         "3.5",
         "4.0",
         "3.5",
         "12",
         "4.0",
         "3.5",
         "2011"
        ],
        [
         "143",
         "4.0",
         "4.5",
         "4.0",
         "12",
         "4.5",
         "4.0",
         "2011"
        ],
        [
         "144",
         "4.0",
         "4.0",
         "3.5",
         "12",
         "4.0",
         "3.5",
         "2010"
        ],
        [
         "145",
         "3.5",
         "3.5",
         "4.5",
         "12",
         "4.0",
         "3.0",
         "2011"
        ],
        [
         "146",
         "4.0",
         "3.5",
         "4.0",
         "12",
         "3.5",
         "4.0",
         "2011"
        ],
        [
         "147",
         "3.0",
         "2.5",
         "3.5",
         "12",
         "3.5",
         "3.0",
         "2011"
        ],
        [
         "148",
         "4.0",
         "3.5",
         "4.5",
         "12",
         "3.5",
         "4.0",
         "2011"
        ],
        [
         "149",
         "4.0",
         "4.0",
         "4.5",
         "12",
         "4.0",
         "4.0",
         "2011"
        ],
        [
         "150",
         "4.0",
         "4.0",
         "4.0",
         "12",
         "4.5",
         "4.0",
         "2011"
        ],
        [
         "151",
         "4.0",
         "3.5",
         "4.0",
         "12",
         "4.0",
         "4.0",
         "2011"
        ],
        [
         "152",
         "3.5",
         "3.5",
         "3.5",
         "12",
         "3.5",
         "4.0",
         "2011"
        ],
        [
         "153",
         "4.0",
         "3.5",
         "4.5",
         "12",
         "4.0",
         "4.0",
         "2011"
        ],
        [
         "154",
         "4.0",
         "4.0",
         "4.0",
         "12",
         "4.0",
         "4.0",
         "2010"
        ],
        [
         "155",
         "3.5",
         "3.5",
         "3.5",
         "12",
         "3.5",
         "4.0",
         "2011"
        ],
        [
         "156",
         "4.0",
         "3.5",
         "3.5",
         "12",
         "4.5",
         "4.0",
         "2011"
        ],
        [
         "157",
         "4.0",
         "4.0",
         "4.0",
         "12",
         "3.5",
         "4.5",
         "2011"
        ],
        [
         "158",
         "3.0",
         "3.0",
         "4.0",
         "12",
         "4.0",
         "3.0",
         "2011"
        ],
        [
         "159",
         "3.5",
         "3.5",
         "4.0",
         "12",
         "3.0",
         "3.5",
         "2011"
        ],
        [
         "160",
         "3.0",
         "3.5",
         "4.0",
         "12",
         "3.5",
         "2.5",
         "2011"
        ],
        [
         "161",
         "4.0",
         "4.0",
         "4.0",
         "12",
         "3.5",
         "3.5",
         "2011"
        ],
        [
         "162",
         "3.0",
         "3.5",
         "4.0",
         "12",
         "3.0",
         "3.0",
         "2011"
        ],
        [
         "163",
         "3.5",
         "3.5",
         "3.5",
         "12",
         "4.0",
         "3.5",
         "2011"
        ],
        [
         "164",
         "3.5",
         "3.5",
         "3.5",
         "12",
         "4.0",
         "4.0",
         "2011"
        ],
        [
         "165",
         "4.0",
         "4.0",
         "4.5",
         "12",
         "4.0",
         "4.0",
         "2011"
        ],
        [
         "166",
         "3.5",
         "3.5",
         "4.0",
         "12",
         "3.5",
         "3.5",
         "2011"
        ],
        [
         "167",
         "4.5",
         "5.0",
         "4.5",
         "12",
         "4.5",
         "4.0",
         "2011"
        ],
        [
         "168",
         "2.5",
         "3.5",
         "4.0",
         "12",
         "2.0",
         "2.5",
         "2011"
        ],
        [
         "169",
         "4.0",
         "3.5",
         "4.0",
         "12",
         "4.0",
         "4.5",
         "2011"
        ],
        [
         "170",
         "4.5",
         "2.0",
         "2.0",
         "12",
         "4.0",
         "4.0",
         "2011"
        ],
        [
         "171",
         "3.5",
         "3.5",
         "3.5",
         "12",
         "3.0",
         "3.5",
         "2011"
        ],
        [
         "172",
         "3.0",
         "3.5",
         "4.0",
         "12",
         "3.0",
         "4.0",
         "2011"
        ],
        [
         "173",
         "3.5",
         "4.0",
         "4.0",
         "12",
         "3.5",
         "4.0",
         "2010"
        ],
        [
         "174",
         "3.5",
         "3.5",
         "4.0",
         "12",
         "3.5",
         "4.0",
         "2011"
        ]
       ],
       "shape": {
        "columns": 7,
        "rows": 503104
       }
      },
      "text/html": [
       "<div>\n",
       "<style scoped>\n",
       "    .dataframe tbody tr th:only-of-type {\n",
       "        vertical-align: middle;\n",
       "    }\n",
       "\n",
       "    .dataframe tbody tr th {\n",
       "        vertical-align: top;\n",
       "    }\n",
       "\n",
       "    .dataframe thead th {\n",
       "        text-align: right;\n",
       "    }\n",
       "</style>\n",
       "<table border=\"1\" class=\"dataframe\">\n",
       "  <thead>\n",
       "    <tr style=\"text-align: right;\">\n",
       "      <th></th>\n",
       "      <th>review_overall</th>\n",
       "      <th>review_aroma</th>\n",
       "      <th>review_appearance</th>\n",
       "      <th>beer_style</th>\n",
       "      <th>review_palate</th>\n",
       "      <th>review_taste</th>\n",
       "      <th>year</th>\n",
       "    </tr>\n",
       "  </thead>\n",
       "  <tbody>\n",
       "    <tr>\n",
       "      <th>4</th>\n",
       "      <td>4.0</td>\n",
       "      <td>4.5</td>\n",
       "      <td>4.0</td>\n",
       "      <td>10</td>\n",
       "      <td>4.0</td>\n",
       "      <td>4.5</td>\n",
       "      <td>2010</td>\n",
       "    </tr>\n",
       "    <tr>\n",
       "      <th>5</th>\n",
       "      <td>3.0</td>\n",
       "      <td>3.5</td>\n",
       "      <td>3.5</td>\n",
       "      <td>59</td>\n",
       "      <td>3.0</td>\n",
       "      <td>3.5</td>\n",
       "      <td>2012</td>\n",
       "    </tr>\n",
       "    <tr>\n",
       "      <th>6</th>\n",
       "      <td>3.5</td>\n",
       "      <td>3.5</td>\n",
       "      <td>3.5</td>\n",
       "      <td>59</td>\n",
       "      <td>4.0</td>\n",
       "      <td>4.0</td>\n",
       "      <td>2011</td>\n",
       "    </tr>\n",
       "    <tr>\n",
       "      <th>7</th>\n",
       "      <td>3.0</td>\n",
       "      <td>2.5</td>\n",
       "      <td>3.5</td>\n",
       "      <td>59</td>\n",
       "      <td>2.0</td>\n",
       "      <td>3.5</td>\n",
       "      <td>2011</td>\n",
       "    </tr>\n",
       "    <tr>\n",
       "      <th>8</th>\n",
       "      <td>4.0</td>\n",
       "      <td>3.0</td>\n",
       "      <td>3.5</td>\n",
       "      <td>59</td>\n",
       "      <td>3.5</td>\n",
       "      <td>4.0</td>\n",
       "      <td>2010</td>\n",
       "    </tr>\n",
       "    <tr>\n",
       "      <th>...</th>\n",
       "      <td>...</td>\n",
       "      <td>...</td>\n",
       "      <td>...</td>\n",
       "      <td>...</td>\n",
       "      <td>...</td>\n",
       "      <td>...</td>\n",
       "      <td>...</td>\n",
       "    </tr>\n",
       "    <tr>\n",
       "      <th>1586600</th>\n",
       "      <td>3.5</td>\n",
       "      <td>4.0</td>\n",
       "      <td>3.5</td>\n",
       "      <td>65</td>\n",
       "      <td>3.0</td>\n",
       "      <td>3.5</td>\n",
       "      <td>2011</td>\n",
       "    </tr>\n",
       "    <tr>\n",
       "      <th>1586601</th>\n",
       "      <td>4.5</td>\n",
       "      <td>4.0</td>\n",
       "      <td>4.0</td>\n",
       "      <td>65</td>\n",
       "      <td>4.5</td>\n",
       "      <td>4.0</td>\n",
       "      <td>2010</td>\n",
       "    </tr>\n",
       "    <tr>\n",
       "      <th>1586602</th>\n",
       "      <td>4.0</td>\n",
       "      <td>4.0</td>\n",
       "      <td>4.0</td>\n",
       "      <td>65</td>\n",
       "      <td>4.0</td>\n",
       "      <td>4.0</td>\n",
       "      <td>2010</td>\n",
       "    </tr>\n",
       "    <tr>\n",
       "      <th>1586603</th>\n",
       "      <td>4.0</td>\n",
       "      <td>4.5</td>\n",
       "      <td>4.0</td>\n",
       "      <td>65</td>\n",
       "      <td>4.0</td>\n",
       "      <td>4.0</td>\n",
       "      <td>2010</td>\n",
       "    </tr>\n",
       "    <tr>\n",
       "      <th>1586604</th>\n",
       "      <td>4.0</td>\n",
       "      <td>4.5</td>\n",
       "      <td>4.5</td>\n",
       "      <td>65</td>\n",
       "      <td>3.5</td>\n",
       "      <td>3.5</td>\n",
       "      <td>2010</td>\n",
       "    </tr>\n",
       "  </tbody>\n",
       "</table>\n",
       "<p>503104 rows × 7 columns</p>\n",
       "</div>"
      ],
      "text/plain": [
       "         review_overall  review_aroma  review_appearance  beer_style  \\\n",
       "4                   4.0           4.5                4.0          10   \n",
       "5                   3.0           3.5                3.5          59   \n",
       "6                   3.5           3.5                3.5          59   \n",
       "7                   3.0           2.5                3.5          59   \n",
       "8                   4.0           3.0                3.5          59   \n",
       "...                 ...           ...                ...         ...   \n",
       "1586600             3.5           4.0                3.5          65   \n",
       "1586601             4.5           4.0                4.0          65   \n",
       "1586602             4.0           4.0                4.0          65   \n",
       "1586603             4.0           4.5                4.0          65   \n",
       "1586604             4.0           4.5                4.5          65   \n",
       "\n",
       "         review_palate  review_taste  year  \n",
       "4                  4.0           4.5  2010  \n",
       "5                  3.0           3.5  2012  \n",
       "6                  4.0           4.0  2011  \n",
       "7                  2.0           3.5  2011  \n",
       "8                  3.5           4.0  2010  \n",
       "...                ...           ...   ...  \n",
       "1586600            3.0           3.5  2011  \n",
       "1586601            4.5           4.0  2010  \n",
       "1586602            4.0           4.0  2010  \n",
       "1586603            4.0           4.0  2010  \n",
       "1586604            3.5           3.5  2010  \n",
       "\n",
       "[503104 rows x 7 columns]"
      ]
     },
     "execution_count": 16,
     "metadata": {},
     "output_type": "execute_result"
    }
   ],
   "source": [
    "df"
   ]
  },
  {
   "cell_type": "code",
   "execution_count": 17,
   "id": "1fd2a210",
   "metadata": {},
   "outputs": [],
   "source": [
    "# n_rows = len(df2)\n",
    "# part_size = n_rows // 3\n",
    "\n",
    "# # 2. Use .iloc[] to split the DataFrame into three parts\n",
    "# df_1 = df.iloc[:part_size]\n",
    "# df_2 = df.iloc[part_size:part_size * 2]\n",
    "# df_3 = df.iloc[part_size * 2:]"
   ]
  },
  {
   "cell_type": "code",
   "execution_count": 18,
   "id": "ed5b41be",
   "metadata": {},
   "outputs": [],
   "source": [
    "# df_1.to_csv('../Data/Raw/beer_reviews_1.csv',index=False)\n",
    "# df_2.to_csv('../Data/Raw/beer_reviews_2.csv',index=False)\n",
    "# df_3.to_csv('../Data/Raw/beer_reviews_3.csv',index=False)"
   ]
  }
 ],
 "metadata": {
  "kernelspec": {
   "display_name": "Python 3",
   "language": "python",
   "name": "python3"
  },
  "language_info": {
   "codemirror_mode": {
    "name": "ipython",
    "version": 3
   },
   "file_extension": ".py",
   "mimetype": "text/x-python",
   "name": "python",
   "nbconvert_exporter": "python",
   "pygments_lexer": "ipython3",
   "version": "3.13.3"
  }
 },
 "nbformat": 4,
 "nbformat_minor": 5
}
