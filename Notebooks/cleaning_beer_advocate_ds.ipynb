{
 "cells": [
  {
   "cell_type": "code",
   "execution_count": 1,
   "id": "42cfe985",
   "metadata": {},
   "outputs": [],
   "source": [
    "import pandas as pd\n",
    "import numpy as np\n",
    "import datetime"
   ]
  },
  {
   "cell_type": "code",
   "execution_count": 2,
   "id": "9b17944b",
   "metadata": {},
   "outputs": [],
   "source": [
    "df=pd.read_csv('../Data/Raw/beer_reviews.csv')"
   ]
  },
  {
   "cell_type": "markdown",
   "id": "fb04d1a8",
   "metadata": {},
   "source": [
    "Deleting the styles that are not in the scrapped ds"
   ]
  },
  {
   "cell_type": "code",
   "execution_count": 3,
   "id": "391ea5c5",
   "metadata": {},
   "outputs": [],
   "source": [
    "styles_to_delete=['American Blonde Ale','Rye Beer', 'American Double / Imperial Pilsner', 'American Strong Ale', 'Belgian Dark Ale', \n",
    "                  'Belgian IPA', 'Bière de Champagne / Bière Brut', 'Black & Tan', 'Chile Beer', 'Czech Pilsener', 'Sahti',\n",
    "                  'Dortmunder / Export Lager', 'English Strong Ale', 'Euro Dark Lager', 'Euro Pale Lager', 'Euro Strong Lager', \n",
    "                  'Extra Special / Strong Bitter (ESB)', 'Faro', 'Japanese Rice Lager', 'Keller Bier / Zwickel Bier', 'Light Lager',\n",
    "                  'Low Alcohol Beer', 'Rauchbier', 'Russian Imperial Stout', 'Winter Warmer', 'American Malt Liquor', 'Kristalweizen',\n",
    "                  'Eisbock', 'Foreign / Export Stout', 'American Wild Ale', 'Braggot', 'Flanders Oud Bruin', 'Happoshu', 'Kvass']\n"
   ]
  },
  {
   "cell_type": "code",
   "execution_count": 4,
   "id": "4228decc",
   "metadata": {},
   "outputs": [],
   "source": [
    "df= df[~df['beer_style'].isin(styles_to_delete)]\n"
   ]
  },
  {
   "cell_type": "markdown",
   "id": "5047a752",
   "metadata": {},
   "source": [
    "Unifying the name with the styles in the scrapping DS"
   ]
  },
  {
   "cell_type": "code",
   "execution_count": 5,
   "id": "a1ac387a",
   "metadata": {},
   "outputs": [],
   "source": [
    "styles_mapping={'American Amber / Red Ale': 'Amber Ale', 'American Amber / Red Lager': 'American Amber Lager',\n",
    "'American Barleywine': 'American Barley Wine', 'American Black Ale': 'American Black Ale',\n",
    "'American Brown Ale': 'American Brown Ale', 'Cream Ale': 'American Cream Ale', 'American Amber Ale':'Amber Ale',\n",
    "'American Porter': 'American Imperial Porter', 'American IPA': 'American India Pale Ale',\n",
    "'American Pale Lager': 'American Imperial Red Ale', 'American Stout': 'American Imperial Red Ale',\n",
    "'California Common / Steam Beer': 'American Imperial Red Ale', 'American Pale Ale (APA)': 'American Imperial Red Ale',\n",
    "'American Pale Wheat Ale': 'American Imperial Red Ale', 'Berliner Weissbier': 'American Imperial Red Ale',\n",
    "'American Double / Imperial IPA': 'American India Pale Ale', 'American Adjunct Lager': 'American Lager',\n",
    "'American Double / Imperial Stout': 'American Stout', 'American Dark Wheat Ale': 'American Style Wheat Wine Ale',\n",
    "'Wheatwine': 'American Style Wheat Wine Ale', 'Baltic Porter': 'Baltic Style Porter', 'Dubbel': 'Belgian Style Dubbel',\n",
    "'Flanders Red Ale': 'Belgian Style Flanders', 'Lambic Fruit': 'Belgian Style Fruit Lambic',\n",
    "'Belgian Strong Dark Ale': 'Belgian Style Golden Strong Ale',\n",
    "'Belgian Strong Pale Ale': 'Belgian Style Golden Strong Ale', 'Lambic Unblended': 'Belgian Style Lambic Gueuze',\n",
    "'Gueuze': 'Belgian Style Lambic Gueuze', 'Belgian Pale Ale': 'Belgian Style Pale Ale',\n",
    "'Quadrupel (Quad)': 'Belgian Style Quadrupel', 'Saison / Farmhouse Ale': 'Belgian Style Saison',\n",
    "'Tripel': 'Belgian Style Tripel', 'Witbier': 'Belgian style wit', 'Belgian Style Witbier': 'Belgian style wit',\n",
    "'English Barleywine': 'British Style Barley Wine Ale', 'Gose': 'Contemporary Gose',\n",
    "'English Bitter': 'English Style Bitter', 'English Brown Ale': 'English Style Brown Ale',\n",
    "'English Porter': 'English Style Brown Porter', 'English India Pale Ale (IPA)': 'English Style India Pale Ale', 'English Style IPA': 'English Style India Pale Ale',\n",
    "'English Dark Mild Ale': 'English style dark mild', 'English Pale Mild Ale': 'English Style Dark Mild', 'English Style Mild': 'English style dark mild',\n",
    "'English Stout': 'English Style Oatmeal Stout', 'Oatmeal Stout': 'English Style Oatmeal Stout',\n",
    "'Old Ale': 'English Style Old Ale', 'English Pale Ale': 'English Style Pale Ale (ESB)',\n",
    "'Milk / Sweet Stout': 'English Style Sweet Stout (Milk Stout)', 'French Style Biere de Garde': 'Bière de Garde',\n",
    "'Fruit / Vegetable Beer':'Fruit field or flavored', 'Fruit and Field Beer': 'Fruit field or flavored', 'Altbier': 'German Style Brownaltbier', 'German Style Altbier': 'German Style Brownaltbier', 'Bock': 'German Style Bock',\n",
    "'Doppelbock': 'German Style Doppelbock', 'Munich Dunkel Lager': 'German Style Dunkel',\n",
    "'Dunkelweizen': 'German Style Dunkelweizen', 'Roggenbier': 'German Style Dunkelweizen',\n",
    "'Hefeweizen': 'German Style Hefeweizen', 'Munich Helles Lager': 'German Style Helles',\n",
    "'Kölsch': 'German Style Kolsch', 'Maibock / Helles Bock': 'German Style Bock',\n",
    "'Märzen / Oktoberfest': 'German Style Marzen Oktoberfest', 'German Pilsner': 'German Style Pilsener',\n",
    "'Schwarzbier': 'German Style Schwarzbier', 'Weizenbock': 'German Style Weizenbock',\n",
    "'Herbed / Spiced Beer': 'Herb and Spice Beer', 'Scottish Gruit / Ancient Herbed Ale': 'Herb and Spice Beer',\n",
    "'Irish Dry Stout': 'Irish Style Dry Stout', 'Irish Red Ale': 'Irish Style Red', 'Pumpkin Ale': 'Pumpkin Beer',\n",
    "'Rye Beer': 'Rye Beer', 'Scotch Ale / Wee Heavy': 'Scotch Ale Wee Heavy', 'Scottish Ale': 'Scottish Style Ale',\n",
    "'Smoked Beer': 'Scottish Style Ale', 'Vienna Lager': 'Vienna Style Lager'}"
   ]
  },
  {
   "cell_type": "code",
   "execution_count": 6,
   "id": "ae0f5fd2",
   "metadata": {},
   "outputs": [
    {
     "data": {
      "text/plain": [
       "53"
      ]
     },
     "execution_count": 6,
     "metadata": {},
     "output_type": "execute_result"
    }
   ],
   "source": [
    "df['beer_style']=df['beer_style'].map(styles_mapping)\n",
    "df['beer_style'].nunique()"
   ]
  },
  {
   "cell_type": "code",
   "execution_count": 8,
   "id": "bb7c6034",
   "metadata": {},
   "outputs": [],
   "source": [
    "df=df.dropna()"
   ]
  },
  {
   "cell_type": "markdown",
   "id": "b2ffe03b",
   "metadata": {},
   "source": [
    "Changing the styles names to the ids."
   ]
  },
  {
   "cell_type": "code",
   "execution_count": 9,
   "id": "a70e6204",
   "metadata": {},
   "outputs": [],
   "source": [
    "map_id_style={'American India Pale Ale': 10, 'Herb and Spice Beer': 59, 'English Style Oatmeal Stout': 40, 'American Imperial Red Ale': 8, 'American Imperial Porter': 7, 'Belgian Style Golden Strong Ale': 20, 'Amber Ale': 1, 'German Style Marzen Oktoberfest': 72, 'American Lager': 11, 'English Style Brown Ale': 36, 'Fruit field or flavored': 46, 'Belgian Style Pale Ale': 22, 'English Style Bitter': 35, 'English Style Brown Porter': 37, 'Irish Style Dry Stout': 62, 'American Barley Wine': 3, 'American Stout': 13, 'German Style Doppelbock': 49, 'German Style Bock': 48, 'German Style Hefeweizen': 52, 'English Style India Pale Ale': 38, 'German Style Brownaltbier': 47, 'German Style Kolsch': 54, 'Pumpkin Beer': 65, 'English Style Sweet Stout (Milk Stout)': 43, 'German Style Schwarzbier': 57, 'German Style Dunkel': 50, 'Vienna Style Lager': 71, 'American Amber Lager': 2, 'Scottish Style Ale': 68, 'Belgian style wit': 26, 'American Black Ale': 4, 'Belgian Style Saison': 24, 'British Style Barley Wine Ale': 30, 'Scotch Ale Wee Heavy': 67, 'English Style Pale Ale (ESB)': 42, 'Belgian Style Tripel': 25, 'American Brown Ale': 5, 'Belgian Style Dubbel': 18, 'German Style Dunkelweizen': 51, 'Irish Style Red': 63, 'American Cream Ale': 6, 'English style dark mild': 39, 'German Style Weizenbock': 58, 'American Style Wheat Wine Ale': 14, 'German Style Helles': 53, 'English Style Dark Mild': 39, 'Baltic Style Porter': 16, 'English Style Old Ale': 41, 'Belgian Style Quadrupel': 23, 'Belgian Style Flanders': 19, 'Belgian Style Lambic Gueuze': 21, 'Contemporary Gose': 34, 'Vienna Style Lager': 71}\n",
    "\n",
    "df['beer_style']=df['beer_style'].map(map_id_style)"
   ]
  },
  {
   "cell_type": "markdown",
   "id": "0366271d",
   "metadata": {},
   "source": [
    "Creating the year column to split the data in this way."
   ]
  },
  {
   "cell_type": "code",
   "execution_count": 12,
   "id": "35c90d42",
   "metadata": {},
   "outputs": [],
   "source": [
    "df['date']=pd.to_datetime(df['review_time'], unit='s')\n",
    "df['year']=df['date'].dt.year\n"
   ]
  },
  {
   "cell_type": "markdown",
   "id": "8238273e",
   "metadata": {},
   "source": [
    "Dropping extra columns that I won't use to make the file lighter"
   ]
  },
  {
   "cell_type": "code",
   "execution_count": null,
   "id": "b633646b",
   "metadata": {},
   "outputs": [],
   "source": [
    "more_columns_to_drop=['brewery_id', \"index\", 'brewery_name', 'review_aroma', 'review_appearance', 'review_profilename', \n",
    "                      'review_palate', 'review_taste', 'beer_abv', 'beer_beerid','review_time', 'date']"
   ]
  },
  {
   "cell_type": "code",
   "execution_count": 14,
   "id": "fe8d9759",
   "metadata": {},
   "outputs": [],
   "source": [
    "df=df.drop(more_columns_to_drop, axis=1)"
   ]
  },
  {
   "cell_type": "markdown",
   "id": "af8431d9",
   "metadata": {},
   "source": [
    "I am shrinking the data by date. I am leaving everything from 20010, 2011 and 2012."
   ]
  },
  {
   "cell_type": "code",
   "execution_count": 16,
   "id": "007c83b4",
   "metadata": {},
   "outputs": [],
   "source": [
    "df=df[df['year']>2009]"
   ]
  },
  {
   "cell_type": "code",
   "execution_count": 17,
   "id": "ef38ac05",
   "metadata": {},
   "outputs": [],
   "source": [
    "df.to_csv('../Data/Clean/beer_reviews.csv',index=False)"
   ]
  },
  {
   "cell_type": "code",
   "execution_count": null,
   "id": "e414fe3f",
   "metadata": {},
   "outputs": [],
   "source": [
    "# df=pd.read_csv('../Data/Clean/beer_reviews.csv')"
   ]
  },
  {
   "cell_type": "code",
   "execution_count": 19,
   "id": "6bc098a5",
   "metadata": {},
   "outputs": [],
   "source": [
    "df2=pd.read_csv('../Data/Raw/beer_reviews.csv')"
   ]
  },
  {
   "cell_type": "markdown",
   "id": "740adc1d",
   "metadata": {},
   "source": [
    "Spliting the DF into three. It is too big for Github"
   ]
  },
  {
   "cell_type": "code",
   "execution_count": 21,
   "id": "1fd2a210",
   "metadata": {},
   "outputs": [],
   "source": [
    "n_rows = len(df2)\n",
    "part_size = n_rows // 3\n",
    "\n",
    "# 2. Use .iloc[] to split the DataFrame into three parts\n",
    "df_1 = df.iloc[:part_size]\n",
    "df_2 = df.iloc[part_size:part_size * 2]\n",
    "df_3 = df.iloc[part_size * 2:]"
   ]
  },
  {
   "cell_type": "code",
   "execution_count": 22,
   "id": "ed5b41be",
   "metadata": {},
   "outputs": [],
   "source": [
    "df_1.to_csv('../Data/Raw/beer_reviews_1.csv',index=False)\n",
    "df_2.to_csv('../Data/Raw/beer_reviews_2.csv',index=False)\n",
    "df_3.to_csv('../Data/Raw/beer_reviews_3.csv',index=False)"
   ]
  }
 ],
 "metadata": {
  "kernelspec": {
   "display_name": "Python 3",
   "language": "python",
   "name": "python3"
  },
  "language_info": {
   "codemirror_mode": {
    "name": "ipython",
    "version": 3
   },
   "file_extension": ".py",
   "mimetype": "text/x-python",
   "name": "python",
   "nbconvert_exporter": "python",
   "pygments_lexer": "ipython3",
   "version": "3.13.3"
  }
 },
 "nbformat": 4,
 "nbformat_minor": 5
}
