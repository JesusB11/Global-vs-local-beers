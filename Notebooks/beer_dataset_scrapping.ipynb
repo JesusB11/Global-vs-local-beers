{
 "cells": [
  {
   "cell_type": "code",
   "execution_count": 38,
   "id": "1eadda6e",
   "metadata": {},
   "outputs": [],
   "source": [
    "import requests\n",
    "from bs4 import BeautifulSoup\n",
    "import pandas as pd\n",
    "import numpy as np\n",
    "import time"
   ]
  },
  {
   "cell_type": "markdown",
   "id": "cef60ab1",
   "metadata": {},
   "source": [
    "Creating the soup"
   ]
  },
  {
   "cell_type": "code",
   "execution_count": 37,
   "id": "5b75a170",
   "metadata": {},
   "outputs": [],
   "source": [
    "url = \"https://www.craftbeer.com/styles/american-amber-lager\"\n",
    "response = requests.get(url)\n",
    "soup = BeautifulSoup(response.content, \"html.parser\")"
   ]
  },
  {
   "cell_type": "markdown",
   "id": "476df1bf",
   "metadata": {},
   "source": [
    "Scrapping the website leaving 3 sec between page to scrap. I am getting the ABV, SRM and IBU"
   ]
  },
  {
   "cell_type": "code",
   "execution_count": null,
   "id": "a51e1cac",
   "metadata": {},
   "outputs": [],
   "source": [
    "beers_to_scrape2 = ['Amber-Ale','American-Amber-Lager','American-Barley-Wine','American-Black-Ale','American-Brett','American-Brown-Ale','American-Cream-Ale',\n",
    "                    'American-Imperial-Porter','American-Imperial-Red-Ale','American-Imperial-Stout','american-india-pale-ale','American-Lager','American-Pale-Ale','American-Sour',\n",
    "                    'American-Stout','American-Style-Wheat-Wine-Ale','American-Wheat','Baltic-Style-Porter','Barrel-Aged-Beer','Belgian-Style-Blonde-Ale',\n",
    "                    'Belgian-Style-Dubbel','Belgian-Style-Flanders','Belgian-Style-Fruit-Lambic','Belgian-Style-Golden-Strong-Ale','belgian-style-lambic-gueuze',\n",
    "                    'Belgian-Style-Pale-Ale','Belgian-Style-Quadrupel','Belgian-Style-Saison','Belgian-Style-Tripel','belgian-style-wit','Berliner-Style-Weisse',\n",
    "                    'Blonde-Ale','Bohemian-Style-Pilsener','British-Style-Barley-Wine-Ale','California-Common','Chocolate-Beer','Coffee-Beer','Contemporary-Gose',\n",
    "                    'English-Style-Bitter','English-Style-Brown-Ale','English-Style-Brown-Porter','english-style-india-pale-ale','english-style-dark-mild','English-Style-Oatmeal-Stout',\n",
    "                    'English-Style-Old-Ale','English-Style-Pale-Ale-(ESB)','English-Style-Sweet-Stout-(Milk-Stout)','European-Style-Export','biere-de-garde',\n",
    "                    'fruit-field-or-flavored','german-style-brownaltbier','German-Style-Bock','German-Style-Doppelbock','German-Style-Dunkel','German-Style-Dunkelweizen',\n",
    "                    'German-Style-Hefeweizen','German-Style-Helles','German-Style-Kolsch','german-style-heller-bock-maibock', 'German-Style-Pilsener','German-Style-Schwarzbier','German-Style-Weizenbock','gluten-free','Herb-and-Spice-Beer','Honey-Beer',\n",
    "                    'Imperial-India-Pale-Ale', 'Irish-Style-Dry-Stout','irish-style-red','New-England-IPA','Pumpkin-Beer','Robust-Porter','Rye-Beer',\n",
    "                    'scotch-ale-wee-heavy','Scottish-Style-Ale','Session-Beer','Smoke-Beer','Smoke-Porter','Specialty-Beer','Vienna-Style-Lager','german-style-marzen-oktoberfest'] \n",
    "\n",
    "list_dict_beers_data=[]\n",
    "link= \"https://www.craftbeer.com/styles/\"\n",
    "\n",
    "\n",
    "\n",
    "for beer in beers_to_scrape2:\n",
    "    beer_page = f\"{link}{beer}\" #This is creating the link to the page based on the beers to scrape a for the list beers_to_scrape\n",
    "    home_response = requests.get(beer_page)\n",
    "    soup_home = BeautifulSoup(home_response.content, \"html.parser\") #this is creating the soup for all beers\n",
    "    color_biterness_alcohol=soup_home.select(\".slider-container label a span\") #Creates a list with all three characteristics\n",
    "    \n",
    "            #Defining the dict inside the loop so it creates a new one on every loop.\n",
    "   \n",
    "    dict_beers_data={\"beer_style\": None,\"color\": None, \"bitterness\": None, \"alcohol\":None}\n",
    "    #getting the info from the list \n",
    "    dict_beers_data[\"beer_style\"]=beer\n",
    "    dict_beers_data[\"color\"]=color_biterness_alcohol[0].text[0:5]\n",
    "    dict_beers_data[\"bitterness\"]=color_biterness_alcohol[1].text[0:7]\n",
    "    dict_beers_data[\"alcohol\"]=color_biterness_alcohol[2].text[0:7]\n",
    "    list_dict_beers_data.append(dict_beers_data)\n",
    "    \n",
    "    time.sleep(3)#resting 3 sec in between beers \n",
    "# print(list_dict_beers_data)   "
   ]
  },
  {
   "cell_type": "markdown",
   "id": "2d72f1cd",
   "metadata": {},
   "source": [
    "Checking that I got all 80 beers info"
   ]
  },
  {
   "cell_type": "code",
   "execution_count": 47,
   "id": "98183744",
   "metadata": {},
   "outputs": [
    {
     "data": {
      "text/plain": [
       "80"
      ]
     },
     "execution_count": 47,
     "metadata": {},
     "output_type": "execute_result"
    }
   ],
   "source": [
    "len(list_dict_beers_data)\n"
   ]
  },
  {
   "cell_type": "markdown",
   "id": "b6f67d94",
   "metadata": {},
   "source": [
    "Creating the DF and saving it in the raw folder."
   ]
  },
  {
   "cell_type": "code",
   "execution_count": 76,
   "id": "882799e7",
   "metadata": {},
   "outputs": [],
   "source": [
    "df_beers_data = pd.DataFrame(list_dict_beers_data)\n",
    "df_beers_data.to_csv('../Data/Raw/standard_beer_types_features.csv',index=False)"
   ]
  },
  {
   "cell_type": "code",
   "execution_count": 77,
   "id": "a332a50c",
   "metadata": {},
   "outputs": [
    {
     "data": {
      "text/plain": [
       "80"
      ]
     },
     "execution_count": 77,
     "metadata": {},
     "output_type": "execute_result"
    }
   ],
   "source": [
    "df_beers_data['beer_style'].nunique()"
   ]
  },
  {
   "cell_type": "markdown",
   "id": "bfeba41a",
   "metadata": {},
   "source": [
    "Cleaning the file"
   ]
  },
  {
   "cell_type": "code",
   "execution_count": 78,
   "id": "8f178831",
   "metadata": {},
   "outputs": [],
   "source": [
    "df_beers_data=df_beers_data.drop_duplicates().reset_index(drop=True)\n",
    "df_beers_data['color']=df_beers_data['color'].replace('Varie','N/A')\n",
    "df_beers_data['bitterness']=df_beers_data['bitterness'].replace('Varies-','N/A')\n",
    "df_beers_data['alcohol']=df_beers_data['alcohol'].replace('Varies-','N/A')"
   ]
  },
  {
   "cell_type": "markdown",
   "id": "d62fd12e",
   "metadata": {},
   "source": [
    "Obtaining only the numbers using reggex and converting them into float."
   ]
  },
  {
   "cell_type": "code",
   "execution_count": 79,
   "id": "164086a9",
   "metadata": {},
   "outputs": [],
   "source": [
    "color=df_beers_data['color'].str.extract(r'(\\d+)-(\\d+)').astype(float)\n",
    "bitterness=df_beers_data['bitterness'].str.extract(r'(\\d+)-(\\d+)').astype(float)\n",
    "alcohol=df_beers_data['alcohol'].str.extract(r'(\\d+)-(\\d+)').astype(float)"
   ]
  },
  {
   "cell_type": "markdown",
   "id": "4a05bd91",
   "metadata": {},
   "source": [
    "Creating bins (categories) as the numbers vary and are not an specific one. The other option was to keep the mean but this seems easier to understand"
   ]
  },
  {
   "cell_type": "code",
   "execution_count": 81,
   "id": "4d1285a6",
   "metadata": {},
   "outputs": [],
   "source": [
    "color_bins = [-np.inf, 10, 20, 30, np.inf]\n",
    "color_labels = ['Gold', 'Light brown', 'Light dark', 'Dark']\n",
    "df_beers_data['color'] = pd.cut(df_beers_data['color'], bins=color_bins, labels=color_labels, right=True)\n",
    "\n",
    "bitterness_bins = [-np.inf, 19, 50, np.inf]\n",
    "bitterness_labels = ['Low', 'Moderate', 'High']\n",
    "\n",
    "df_beers_data['bitterness'] = pd.cut(df_beers_data['bitterness'], bins=bitterness_bins, labels=bitterness_labels, right=True)\n",
    "\n",
    "alcohol_bins = [-np.inf, 4.1, 6.6, np.inf]\n",
    "alcohol_labels = ['Light', 'Regular', 'Strong']\n",
    "\n",
    "df_beers_data['alcohol'] = pd.cut(df_beers_data['alcohol'], bins=alcohol_bins, labels=alcohol_labels, right=True)"
   ]
  },
  {
   "cell_type": "code",
   "execution_count": 83,
   "id": "3d2e8d49",
   "metadata": {},
   "outputs": [],
   "source": [
    "df_beers_data=df_beers_data.dropna()"
   ]
  },
  {
   "cell_type": "markdown",
   "id": "70966bf8",
   "metadata": {},
   "source": [
    "Creating the id for the styles that I will use to link with the other DS"
   ]
  },
  {
   "cell_type": "code",
   "execution_count": 85,
   "id": "504f726a",
   "metadata": {},
   "outputs": [],
   "source": [
    "df_beers_data['style_id']=np.arange(1, 73)\n"
   ]
  },
  {
   "cell_type": "code",
   "execution_count": 108,
   "id": "1b7e0769",
   "metadata": {},
   "outputs": [],
   "source": [
    "df_beers_data['beer_style']=df_beers_data['beer_style'].str.replace(\"-\",\" \")"
   ]
  },
  {
   "cell_type": "code",
   "execution_count": 118,
   "id": "3388a965",
   "metadata": {},
   "outputs": [
    {
     "data": {
      "application/vnd.microsoft.datawrangler.viewer.v0+json": {
       "columns": [
        {
         "name": "index",
         "rawType": "int64",
         "type": "integer"
        },
        {
         "name": "beer_style",
         "rawType": "object",
         "type": "string"
        },
        {
         "name": "color",
         "rawType": "category",
         "type": "unknown"
        },
        {
         "name": "bitterness",
         "rawType": "category",
         "type": "unknown"
        },
        {
         "name": "alcohol",
         "rawType": "category",
         "type": "unknown"
        },
        {
         "name": "style_id",
         "rawType": "int64",
         "type": "integer"
        }
       ],
       "ref": "b8bb257a-5901-4498-8653-d98746cfeb5c",
       "rows": [
        [
         "0",
         "Amber Ale",
         "Light brown",
         "Moderate",
         "Regular",
         "1"
        ],
        [
         "1",
         "American Amber Lager",
         "Gold",
         "Moderate",
         "Regular",
         "2"
        ],
        [
         "2",
         "American Barley Wine",
         "Light brown",
         "High",
         "Strong",
         "3"
        ],
        [
         "3",
         "American Black Ale",
         "Dark",
         "High",
         "Regular",
         "4"
        ],
        [
         "5",
         "American Brown Ale",
         "Light dark",
         "Moderate",
         "Light",
         "5"
        ],
        [
         "6",
         "American Cream Ale",
         "Gold",
         "Low",
         "Light",
         "6"
        ],
        [
         "7",
         "American Imperial Porter",
         "Dark",
         "Moderate",
         "Strong",
         "7"
        ],
        [
         "8",
         "American Imperial Red Ale",
         "Light brown",
         "High",
         "Regular",
         "8"
        ],
        [
         "9",
         "American Imperial Stout",
         "Dark",
         "High",
         "Strong",
         "9"
        ],
        [
         "10",
         "american india pale ale",
         "Gold",
         "High",
         "Regular",
         "10"
        ],
        [
         "11",
         "American Lager",
         "Gold",
         "Low",
         "Light",
         "11"
        ],
        [
         "12",
         "American Pale Ale",
         "Gold",
         "Moderate",
         "Regular",
         "12"
        ],
        [
         "14",
         "American Stout",
         "Dark",
         "Moderate",
         "Strong",
         "13"
        ],
        [
         "15",
         "American Style Wheat Wine Ale",
         "Gold",
         "High",
         "Strong",
         "14"
        ],
        [
         "16",
         "American Wheat",
         "Gold",
         "Moderate",
         "Regular",
         "15"
        ],
        [
         "17",
         "Baltic Style Porter",
         "Dark",
         "Moderate",
         "Strong",
         "16"
        ],
        [
         "19",
         "Belgian Style Blonde Ale",
         "Gold",
         "Moderate",
         "Regular",
         "17"
        ],
        [
         "20",
         "Belgian Style Dubbel",
         "Light dark",
         "Moderate",
         "Regular",
         "18"
        ],
        [
         "21",
         "Belgian Style Flanders",
         "Light brown",
         "Low",
         "Strong",
         "19"
        ],
        [
         "23",
         "Belgian Style Golden Strong Ale",
         "Gold",
         "Moderate",
         "Strong",
         "20"
        ],
        [
         "24",
         "belgian style lambic gueuze",
         "Gold",
         "Low",
         "Light",
         "21"
        ],
        [
         "25",
         "Belgian Style Pale Ale",
         "Gold",
         "Moderate",
         "Regular",
         "22"
        ],
        [
         "26",
         "Belgian Style Quadrupel",
         "Light brown",
         "Moderate",
         "Regular",
         "23"
        ],
        [
         "27",
         "Belgian Style Saison",
         "Gold",
         "Moderate",
         "Regular",
         "24"
        ],
        [
         "28",
         "Belgian Style Tripel",
         "Gold",
         "Moderate",
         "Regular",
         "25"
        ],
        [
         "29",
         "belgian style wit",
         "Gold",
         "Low",
         "Regular",
         "26"
        ],
        [
         "30",
         "Berliner Style Weisse",
         "Gold",
         "Low",
         "Regular",
         "27"
        ],
        [
         "31",
         "Blonde Ale",
         "Gold",
         "Moderate",
         "Light",
         "28"
        ],
        [
         "32",
         "Bohemian Style Pilsener",
         "Gold",
         "Moderate",
         "Light",
         "29"
        ],
        [
         "33",
         "British Style Barley Wine Ale",
         "Light brown",
         "Moderate",
         "Strong",
         "30"
        ],
        [
         "34",
         "California Common",
         "Light brown",
         "Moderate",
         "Regular",
         "31"
        ],
        [
         "35",
         "Chocolate Beer",
         "Dark",
         "Moderate",
         "Strong",
         "32"
        ],
        [
         "36",
         "Coffee Beer",
         "Light dark",
         "Moderate",
         "Strong",
         "33"
        ],
        [
         "37",
         "Contemporary Gose",
         "Gold",
         "Low",
         "Regular",
         "34"
        ],
        [
         "38",
         "English Style Bitter",
         "Gold",
         "Moderate",
         "Light",
         "35"
        ],
        [
         "39",
         "English Style Brown Ale",
         "Light brown",
         "Moderate",
         "Regular",
         "36"
        ],
        [
         "40",
         "English Style Brown Porter",
         "Light dark",
         "Moderate",
         "Regular",
         "37"
        ],
        [
         "41",
         "english style india pale ale",
         "Gold",
         "Moderate",
         "Regular",
         "38"
        ],
        [
         "42",
         "english style dark mild",
         "Light dark",
         "Low",
         "Light",
         "39"
        ],
        [
         "43",
         "English Style Oatmeal Stout",
         "Dark",
         "Moderate",
         "Strong",
         "40"
        ],
        [
         "44",
         "English Style Old Ale",
         "Light dark",
         "Moderate",
         "Regular",
         "41"
        ],
        [
         "45",
         "English Style Pale Ale (ESB)",
         "Light brown",
         "Moderate",
         "Regular",
         "42"
        ],
        [
         "46",
         "English Style Sweet Stout (Milk Stout)",
         "Dark",
         "Moderate",
         "Regular",
         "43"
        ],
        [
         "47",
         "European Style Export",
         "Gold",
         "Moderate",
         "Light",
         "44"
        ],
        [
         "48",
         "biere de garde",
         "Light brown",
         "Moderate",
         "Regular",
         "45"
        ],
        [
         "49",
         "fruit field or flavored",
         "Light dark",
         "Moderate",
         "Strong",
         "46"
        ],
        [
         "50",
         "german style brownaltbier",
         "Light brown",
         "Moderate",
         "Regular",
         "47"
        ],
        [
         "51",
         "German Style Bock",
         "Light dark",
         "Moderate",
         "Regular",
         "48"
        ],
        [
         "52",
         "German Style Doppelbock",
         "Light dark",
         "Moderate",
         "Regular",
         "49"
        ],
        [
         "53",
         "German Style Dunkel",
         "Light brown",
         "Moderate",
         "Regular",
         "50"
        ]
       ],
       "shape": {
        "columns": 5,
        "rows": 72
       }
      },
      "text/html": [
       "<div>\n",
       "<style scoped>\n",
       "    .dataframe tbody tr th:only-of-type {\n",
       "        vertical-align: middle;\n",
       "    }\n",
       "\n",
       "    .dataframe tbody tr th {\n",
       "        vertical-align: top;\n",
       "    }\n",
       "\n",
       "    .dataframe thead th {\n",
       "        text-align: right;\n",
       "    }\n",
       "</style>\n",
       "<table border=\"1\" class=\"dataframe\">\n",
       "  <thead>\n",
       "    <tr style=\"text-align: right;\">\n",
       "      <th></th>\n",
       "      <th>beer_style</th>\n",
       "      <th>color</th>\n",
       "      <th>bitterness</th>\n",
       "      <th>alcohol</th>\n",
       "      <th>style_id</th>\n",
       "    </tr>\n",
       "  </thead>\n",
       "  <tbody>\n",
       "    <tr>\n",
       "      <th>0</th>\n",
       "      <td>Amber Ale</td>\n",
       "      <td>Light brown</td>\n",
       "      <td>Moderate</td>\n",
       "      <td>Regular</td>\n",
       "      <td>1</td>\n",
       "    </tr>\n",
       "    <tr>\n",
       "      <th>1</th>\n",
       "      <td>American Amber Lager</td>\n",
       "      <td>Gold</td>\n",
       "      <td>Moderate</td>\n",
       "      <td>Regular</td>\n",
       "      <td>2</td>\n",
       "    </tr>\n",
       "    <tr>\n",
       "      <th>2</th>\n",
       "      <td>American Barley Wine</td>\n",
       "      <td>Light brown</td>\n",
       "      <td>High</td>\n",
       "      <td>Strong</td>\n",
       "      <td>3</td>\n",
       "    </tr>\n",
       "    <tr>\n",
       "      <th>3</th>\n",
       "      <td>American Black Ale</td>\n",
       "      <td>Dark</td>\n",
       "      <td>High</td>\n",
       "      <td>Regular</td>\n",
       "      <td>4</td>\n",
       "    </tr>\n",
       "    <tr>\n",
       "      <th>5</th>\n",
       "      <td>American Brown Ale</td>\n",
       "      <td>Light dark</td>\n",
       "      <td>Moderate</td>\n",
       "      <td>Light</td>\n",
       "      <td>5</td>\n",
       "    </tr>\n",
       "    <tr>\n",
       "      <th>...</th>\n",
       "      <td>...</td>\n",
       "      <td>...</td>\n",
       "      <td>...</td>\n",
       "      <td>...</td>\n",
       "      <td>...</td>\n",
       "    </tr>\n",
       "    <tr>\n",
       "      <th>73</th>\n",
       "      <td>Scottish Style Ale</td>\n",
       "      <td>Light brown</td>\n",
       "      <td>Low</td>\n",
       "      <td>Regular</td>\n",
       "      <td>68</td>\n",
       "    </tr>\n",
       "    <tr>\n",
       "      <th>74</th>\n",
       "      <td>Session Beer</td>\n",
       "      <td>Dark</td>\n",
       "      <td>Moderate</td>\n",
       "      <td>Regular</td>\n",
       "      <td>69</td>\n",
       "    </tr>\n",
       "    <tr>\n",
       "      <th>76</th>\n",
       "      <td>Smoke Porter</td>\n",
       "      <td>Light brown</td>\n",
       "      <td>Moderate</td>\n",
       "      <td>Regular</td>\n",
       "      <td>70</td>\n",
       "    </tr>\n",
       "    <tr>\n",
       "      <th>78</th>\n",
       "      <td>Vienna Style Lager</td>\n",
       "      <td>Light brown</td>\n",
       "      <td>Moderate</td>\n",
       "      <td>Regular</td>\n",
       "      <td>71</td>\n",
       "    </tr>\n",
       "    <tr>\n",
       "      <th>79</th>\n",
       "      <td>german style marzen oktoberfest</td>\n",
       "      <td>Gold</td>\n",
       "      <td>Moderate</td>\n",
       "      <td>Light</td>\n",
       "      <td>72</td>\n",
       "    </tr>\n",
       "  </tbody>\n",
       "</table>\n",
       "<p>72 rows × 5 columns</p>\n",
       "</div>"
      ],
      "text/plain": [
       "                         beer_style        color bitterness  alcohol  style_id\n",
       "0                         Amber Ale  Light brown   Moderate  Regular         1\n",
       "1              American Amber Lager         Gold   Moderate  Regular         2\n",
       "2              American Barley Wine  Light brown       High   Strong         3\n",
       "3                American Black Ale         Dark       High  Regular         4\n",
       "5                American Brown Ale   Light dark   Moderate    Light         5\n",
       "..                              ...          ...        ...      ...       ...\n",
       "73               Scottish Style Ale  Light brown        Low  Regular        68\n",
       "74                     Session Beer         Dark   Moderate  Regular        69\n",
       "76                     Smoke Porter  Light brown   Moderate  Regular        70\n",
       "78               Vienna Style Lager  Light brown   Moderate  Regular        71\n",
       "79  german style marzen oktoberfest         Gold   Moderate    Light        72\n",
       "\n",
       "[72 rows x 5 columns]"
      ]
     },
     "execution_count": 118,
     "metadata": {},
     "output_type": "execute_result"
    }
   ],
   "source": [
    "df_beers_data"
   ]
  },
  {
   "cell_type": "code",
   "execution_count": null,
   "id": "dcd67b8c",
   "metadata": {},
   "outputs": [],
   "source": [
    "# df_beers_data.to_csv('../Data/Clean/standard_beer_types_features_clean.csv',index=False)"
   ]
  }
 ],
 "metadata": {
  "kernelspec": {
   "display_name": "Python 3",
   "language": "python",
   "name": "python3"
  },
  "language_info": {
   "codemirror_mode": {
    "name": "ipython",
    "version": 3
   },
   "file_extension": ".py",
   "mimetype": "text/x-python",
   "name": "python",
   "nbconvert_exporter": "python",
   "pygments_lexer": "ipython3",
   "version": "3.13.3"
  }
 },
 "nbformat": 4,
 "nbformat_minor": 5
}
