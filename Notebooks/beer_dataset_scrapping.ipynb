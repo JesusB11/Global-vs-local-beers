{
 "cells": [
  {
   "cell_type": "code",
   "execution_count": 154,
   "id": "1eadda6e",
   "metadata": {},
   "outputs": [],
   "source": [
    "import requests\n",
    "from bs4 import BeautifulSoup\n",
    "import pandas as pd\n",
    "import numpy as np"
   ]
  },
  {
   "cell_type": "code",
   "execution_count": 4,
   "id": "5b75a170",
   "metadata": {},
   "outputs": [],
   "source": [
    "url = \"https://www.craftbeer.com/styles/american-amber-lager\"\n",
    "response = requests.get(url)\n",
    "soup = BeautifulSoup(response.content, \"html.parser\")"
   ]
  },
  {
   "cell_type": "code",
   "execution_count": 75,
   "id": "a51e1cac",
   "metadata": {},
   "outputs": [
    {
     "name": "stdout",
     "output_type": "stream",
     "text": [
      "[{'beer_style': 'Amber-Ale', 'color': '11-18', 'bitterness': '25-45 I', 'alcohol': '4.4-6.1'}, {'beer_style': 'Amber-Ale', 'color': '11-18', 'bitterness': '25-45 I', 'alcohol': '4.4-6.1'}, {'beer_style': 'Amber-Ale', 'color': '11-18', 'bitterness': '25-45 I', 'alcohol': '4.4-6.1'}, {'beer_style': 'American-Amber-Lager', 'color': '6-14 ', 'bitterness': '18-30 I', 'alcohol': '4.8-5.4'}, {'beer_style': 'American-Amber-Lager', 'color': '6-14 ', 'bitterness': '18-30 I', 'alcohol': '4.8-5.4'}, {'beer_style': 'American-Amber-Lager', 'color': '6-14 ', 'bitterness': '18-30 I', 'alcohol': '4.8-5.4'}, {'beer_style': 'American-Barley-Wine', 'color': '11-18', 'bitterness': '60-100 ', 'alcohol': '8.5-12.'}, {'beer_style': 'American-Barley-Wine', 'color': '11-18', 'bitterness': '60-100 ', 'alcohol': '8.5-12.'}, {'beer_style': 'American-Barley-Wine', 'color': '11-18', 'bitterness': '60-100 ', 'alcohol': '8.5-12.'}, {'beer_style': 'American-Black-Ale', 'color': '34-38', 'bitterness': '50-70 I', 'alcohol': '6-7.5% '}, {'beer_style': 'American-Black-Ale', 'color': '34-38', 'bitterness': '50-70 I', 'alcohol': '6-7.5% '}, {'beer_style': 'American-Black-Ale', 'color': '34-38', 'bitterness': '50-70 I', 'alcohol': '6-7.5% '}, {'beer_style': 'American-Brett', 'color': 'Varie', 'bitterness': 'Varies-', 'alcohol': 'Varies-'}, {'beer_style': 'American-Brett', 'color': 'Varie', 'bitterness': 'Varies-', 'alcohol': 'Varies-'}, {'beer_style': 'American-Brett', 'color': 'Varie', 'bitterness': 'Varies-', 'alcohol': 'Varies-'}, {'beer_style': 'American-Brown-Ale', 'color': '15-26', 'bitterness': '25-45 I', 'alcohol': '4.2-6.3'}, {'beer_style': 'American-Brown-Ale', 'color': '15-26', 'bitterness': '25-45 I', 'alcohol': '4.2-6.3'}, {'beer_style': 'American-Brown-Ale', 'color': '15-26', 'bitterness': '25-45 I', 'alcohol': '4.2-6.3'}, {'beer_style': 'American-Cream-Ale', 'color': '2-5 S', 'bitterness': '10-22 I', 'alcohol': '4.3-5.7'}, {'beer_style': 'American-Cream-Ale', 'color': '2-5 S', 'bitterness': '10-22 I', 'alcohol': '4.3-5.7'}, {'beer_style': 'American-Cream-Ale', 'color': '2-5 S', 'bitterness': '10-22 I', 'alcohol': '4.3-5.7'}, {'beer_style': 'American-Imperial-Porter', 'color': '39-40', 'bitterness': '35-50 I', 'alcohol': '7-12%  '}, {'beer_style': 'American-Imperial-Porter', 'color': '39-40', 'bitterness': '35-50 I', 'alcohol': '7-12%  '}, {'beer_style': 'American-Imperial-Porter', 'color': '39-40', 'bitterness': '35-50 I', 'alcohol': '7-12%  '}, {'beer_style': 'American-Imperial-Red-Ale', 'color': '10-17', 'bitterness': '55-85 I', 'alcohol': '8.0-10.'}, {'beer_style': 'American-Imperial-Red-Ale', 'color': '10-17', 'bitterness': '55-85 I', 'alcohol': '8.0-10.'}, {'beer_style': 'American-Imperial-Red-Ale', 'color': '10-17', 'bitterness': '55-85 I', 'alcohol': '8.0-10.'}, {'beer_style': 'American-Imperial-Stout', 'color': '39-40', 'bitterness': '50-80 I', 'alcohol': '7-12%  '}, {'beer_style': 'American-Imperial-Stout', 'color': '39-40', 'bitterness': '50-80 I', 'alcohol': '7-12%  '}, {'beer_style': 'American-Imperial-Stout', 'color': '39-40', 'bitterness': '50-80 I', 'alcohol': '7-12%  '}, {'beer_style': 'american-india-pale-ale', 'color': '6-12 ', 'bitterness': '50-70 I', 'alcohol': '6.3-7.5'}, {'beer_style': 'american-india-pale-ale', 'color': '6-12 ', 'bitterness': '50-70 I', 'alcohol': '6.3-7.5'}, {'beer_style': 'american-india-pale-ale', 'color': '6-12 ', 'bitterness': '50-70 I', 'alcohol': '6.3-7.5'}, {'beer_style': 'American-Lager', 'color': '2-4 S', 'bitterness': '5-19 IB', 'alcohol': '4.1-5.1'}, {'beer_style': 'American-Lager', 'color': '2-4 S', 'bitterness': '5-19 IB', 'alcohol': '4.1-5.1'}, {'beer_style': 'American-Lager', 'color': '2-4 S', 'bitterness': '5-19 IB', 'alcohol': '4.1-5.1'}, {'beer_style': 'American-Pale-Ale', 'color': '6-14 ', 'bitterness': '30-50 I', 'alcohol': '4.4-5.4'}, {'beer_style': 'American-Pale-Ale', 'color': '6-14 ', 'bitterness': '30-50 I', 'alcohol': '4.4-5.4'}, {'beer_style': 'American-Pale-Ale', 'color': '6-14 ', 'bitterness': '30-50 I', 'alcohol': '4.4-5.4'}, {'beer_style': 'American-Sour', 'color': '1-40 ', 'bitterness': 'Varies-', 'alcohol': 'Varies-'}, {'beer_style': 'American-Sour', 'color': '1-40 ', 'bitterness': 'Varies-', 'alcohol': 'Varies-'}, {'beer_style': 'American-Sour', 'color': '1-40 ', 'bitterness': 'Varies-', 'alcohol': 'Varies-'}, {'beer_style': 'American-Stout', 'color': '40-45', 'bitterness': '35-60 I', 'alcohol': '5.7-8.9'}, {'beer_style': 'American-Stout', 'color': '40-45', 'bitterness': '35-60 I', 'alcohol': '5.7-8.9'}, {'beer_style': 'American-Stout', 'color': '40-45', 'bitterness': '35-60 I', 'alcohol': '5.7-8.9'}, {'beer_style': 'American-Style-Wheat-Wine-Ale', 'color': '5-15 ', 'bitterness': '45-85 I', 'alcohol': '8.5-12.'}, {'beer_style': 'American-Style-Wheat-Wine-Ale', 'color': '5-15 ', 'bitterness': '45-85 I', 'alcohol': '8.5-12.'}, {'beer_style': 'American-Style-Wheat-Wine-Ale', 'color': '5-15 ', 'bitterness': '45-85 I', 'alcohol': '8.5-12.'}, {'beer_style': 'American-Wheat', 'color': '2-10 ', 'bitterness': '10-35 I', 'alcohol': '3.5-5.6'}, {'beer_style': 'American-Wheat', 'color': '2-10 ', 'bitterness': '10-35 I', 'alcohol': '3.5-5.6'}, {'beer_style': 'American-Wheat', 'color': '2-10 ', 'bitterness': '10-35 I', 'alcohol': '3.5-5.6'}, {'beer_style': 'Baltic-Style-Porter', 'color': '39-40', 'bitterness': '35-40 I', 'alcohol': '7.6-9.3'}, {'beer_style': 'Baltic-Style-Porter', 'color': '39-40', 'bitterness': '35-40 I', 'alcohol': '7.6-9.3'}, {'beer_style': 'Baltic-Style-Porter', 'color': '39-40', 'bitterness': '35-40 I', 'alcohol': '7.6-9.3'}, {'beer_style': 'Barrel-Aged-Beer', 'color': '1-40 ', 'bitterness': 'Varies-', 'alcohol': 'Varies-'}, {'beer_style': 'Barrel-Aged-Beer', 'color': '1-40 ', 'bitterness': 'Varies-', 'alcohol': 'Varies-'}, {'beer_style': 'Barrel-Aged-Beer', 'color': '1-40 ', 'bitterness': 'Varies-', 'alcohol': 'Varies-'}, {'beer_style': 'Belgian-Style-Blonde-Ale', 'color': '4-7 S', 'bitterness': '15-30 I', 'alcohol': '6.3-7.9'}, {'beer_style': 'Belgian-Style-Blonde-Ale', 'color': '4-7 S', 'bitterness': '15-30 I', 'alcohol': '6.3-7.9'}, {'beer_style': 'Belgian-Style-Blonde-Ale', 'color': '4-7 S', 'bitterness': '15-30 I', 'alcohol': '6.3-7.9'}, {'beer_style': 'Belgian-Style-Dubbel', 'color': '16-36', 'bitterness': '20-35 I', 'alcohol': '6.3-7.6'}, {'beer_style': 'Belgian-Style-Dubbel', 'color': '16-36', 'bitterness': '20-35 I', 'alcohol': '6.3-7.6'}, {'beer_style': 'Belgian-Style-Dubbel', 'color': '16-36', 'bitterness': '20-35 I', 'alcohol': '6.3-7.6'}, {'beer_style': 'Belgian-Style-Flanders', 'color': '12-25', 'bitterness': '5-18 IB', 'alcohol': '4.8-6.6'}, {'beer_style': 'Belgian-Style-Flanders', 'color': '12-25', 'bitterness': '5-18 IB', 'alcohol': '4.8-6.6'}, {'beer_style': 'Belgian-Style-Flanders', 'color': '12-25', 'bitterness': '5-18 IB', 'alcohol': '4.8-6.6'}, {'beer_style': 'Belgian-Style-Fruit-Lambic', 'color': 'Varie', 'bitterness': '15-21 I', 'alcohol': '5.0-8.9'}, {'beer_style': 'Belgian-Style-Fruit-Lambic', 'color': 'Varie', 'bitterness': '15-21 I', 'alcohol': '5.0-8.9'}, {'beer_style': 'Belgian-Style-Fruit-Lambic', 'color': 'Varie', 'bitterness': '15-21 I', 'alcohol': '5.0-8.9'}, {'beer_style': 'Belgian-Style-Golden-Strong-Ale', 'color': '3-10 ', 'bitterness': '20-50 I', 'alcohol': '7-11%  '}, {'beer_style': 'Belgian-Style-Golden-Strong-Ale', 'color': '3-10 ', 'bitterness': '20-50 I', 'alcohol': '7-11%  '}, {'beer_style': 'Belgian-Style-Golden-Strong-Ale', 'color': '3-10 ', 'bitterness': '20-50 I', 'alcohol': '7-11%  '}, {'beer_style': 'belgian-style-lambic-gueuze', 'color': '6-13 ', 'bitterness': '9-23 IB', 'alcohol': '5.0-8.9'}, {'beer_style': 'belgian-style-lambic-gueuze', 'color': '6-13 ', 'bitterness': '9-23 IB', 'alcohol': '5.0-8.9'}, {'beer_style': 'belgian-style-lambic-gueuze', 'color': '6-13 ', 'bitterness': '9-23 IB', 'alcohol': '5.0-8.9'}, {'beer_style': 'Belgian-Style-Pale-Ale', 'color': '6-12 ', 'bitterness': '20-30 I', 'alcohol': '4-6%  A'}, {'beer_style': 'Belgian-Style-Pale-Ale', 'color': '6-12 ', 'bitterness': '20-30 I', 'alcohol': '4-6%  A'}, {'beer_style': 'Belgian-Style-Pale-Ale', 'color': '6-12 ', 'bitterness': '20-30 I', 'alcohol': '4-6%  A'}, {'beer_style': 'Belgian-Style-Quadrupel', 'color': '8-20 ', 'bitterness': '25-50 I', 'alcohol': '7.2-11.'}, {'beer_style': 'Belgian-Style-Quadrupel', 'color': '8-20 ', 'bitterness': '25-50 I', 'alcohol': '7.2-11.'}, {'beer_style': 'Belgian-Style-Quadrupel', 'color': '8-20 ', 'bitterness': '25-50 I', 'alcohol': '7.2-11.'}, {'beer_style': 'Belgian-Style-Saison', 'color': '3-7 S', 'bitterness': '20-38 I', 'alcohol': '4.4-6.8'}, {'beer_style': 'Belgian-Style-Saison', 'color': '3-7 S', 'bitterness': '20-38 I', 'alcohol': '4.4-6.8'}, {'beer_style': 'Belgian-Style-Saison', 'color': '3-7 S', 'bitterness': '20-38 I', 'alcohol': '4.4-6.8'}, {'beer_style': 'Belgian-Style-Tripel', 'color': '4-7 S', 'bitterness': '20-45 I', 'alcohol': '7.1-10.'}, {'beer_style': 'Belgian-Style-Tripel', 'color': '4-7 S', 'bitterness': '20-45 I', 'alcohol': '7.1-10.'}, {'beer_style': 'Belgian-Style-Tripel', 'color': '4-7 S', 'bitterness': '20-45 I', 'alcohol': '7.1-10.'}, {'beer_style': 'belgian-style-wit', 'color': '2-4 S', 'bitterness': '10-17 I', 'alcohol': '4.8-5.6'}, {'beer_style': 'belgian-style-wit', 'color': '2-4 S', 'bitterness': '10-17 I', 'alcohol': '4.8-5.6'}, {'beer_style': 'belgian-style-wit', 'color': '2-4 S', 'bitterness': '10-17 I', 'alcohol': '4.8-5.6'}, {'beer_style': 'Berliner-Style-Weisse', 'color': '2-4 S', 'bitterness': '3-6 IBU', 'alcohol': '2.8-3.4'}, {'beer_style': 'Berliner-Style-Weisse', 'color': '2-4 S', 'bitterness': '3-6 IBU', 'alcohol': '2.8-3.4'}, {'beer_style': 'Berliner-Style-Weisse', 'color': '2-4 S', 'bitterness': '3-6 IBU', 'alcohol': '2.8-3.4'}, {'beer_style': 'Blonde-Ale', 'color': '3-7 S', 'bitterness': '15-25 I', 'alcohol': '4.1-5.1'}, {'beer_style': 'Blonde-Ale', 'color': '3-7 S', 'bitterness': '15-25 I', 'alcohol': '4.1-5.1'}, {'beer_style': 'Blonde-Ale', 'color': '3-7 S', 'bitterness': '15-25 I', 'alcohol': '4.1-5.1'}, {'beer_style': 'Bohemian-Style-Pilsener', 'color': '3-7 S', 'bitterness': '30-45 I', 'alcohol': '4.1-5.1'}, {'beer_style': 'Bohemian-Style-Pilsener', 'color': '3-7 S', 'bitterness': '30-45 I', 'alcohol': '4.1-5.1'}, {'beer_style': 'Bohemian-Style-Pilsener', 'color': '3-7 S', 'bitterness': '30-45 I', 'alcohol': '4.1-5.1'}, {'beer_style': 'British-Style-Barley-Wine-Ale', 'color': '14-22', 'bitterness': '40-60 I', 'alcohol': '8.5-12%'}, {'beer_style': 'British-Style-Barley-Wine-Ale', 'color': '14-22', 'bitterness': '40-60 I', 'alcohol': '8.5-12%'}, {'beer_style': 'British-Style-Barley-Wine-Ale', 'color': '14-22', 'bitterness': '40-60 I', 'alcohol': '8.5-12%'}, {'beer_style': 'California-Common', 'color': '8-15 ', 'bitterness': '35-45 I', 'alcohol': '4.6-5.7'}, {'beer_style': 'California-Common', 'color': '8-15 ', 'bitterness': '35-45 I', 'alcohol': '4.6-5.7'}, {'beer_style': 'California-Common', 'color': '8-15 ', 'bitterness': '35-45 I', 'alcohol': '4.6-5.7'}, {'beer_style': 'Chocolate-Beer', 'color': '12-50', 'bitterness': '15-40 I', 'alcohol': '2.5-12%'}, {'beer_style': 'Chocolate-Beer', 'color': '12-50', 'bitterness': '15-40 I', 'alcohol': '2.5-12%'}, {'beer_style': 'Chocolate-Beer', 'color': '12-50', 'bitterness': '15-40 I', 'alcohol': '2.5-12%'}, {'beer_style': 'Coffee-Beer', 'color': '4-50 ', 'bitterness': '15-45 I', 'alcohol': '2.5-12%'}, {'beer_style': 'Coffee-Beer', 'color': '4-50 ', 'bitterness': '15-45 I', 'alcohol': '2.5-12%'}, {'beer_style': 'Coffee-Beer', 'color': '4-50 ', 'bitterness': '15-45 I', 'alcohol': '2.5-12%'}, {'beer_style': 'Contemporary-Gose', 'color': '3-9 S', 'bitterness': '5-15 IB', 'alcohol': '4.4-5.4'}, {'beer_style': 'Contemporary-Gose', 'color': '3-9 S', 'bitterness': '5-15 IB', 'alcohol': '4.4-5.4'}, {'beer_style': 'Contemporary-Gose', 'color': '3-9 S', 'bitterness': '5-15 IB', 'alcohol': '4.4-5.4'}, {'beer_style': 'English-Style-Bitter', 'color': '5-12 ', 'bitterness': '20-35 I', 'alcohol': '3-4.2% '}, {'beer_style': 'English-Style-Bitter', 'color': '5-12 ', 'bitterness': '20-35 I', 'alcohol': '3-4.2% '}, {'beer_style': 'English-Style-Bitter', 'color': '5-12 ', 'bitterness': '20-35 I', 'alcohol': '3-4.2% '}, {'beer_style': 'English-Style-Brown-Ale', 'color': '12-17', 'bitterness': '15-25 I', 'alcohol': '4-5.5% '}, {'beer_style': 'English-Style-Brown-Ale', 'color': '12-17', 'bitterness': '15-25 I', 'alcohol': '4-5.5% '}, {'beer_style': 'English-Style-Brown-Ale', 'color': '12-17', 'bitterness': '15-25 I', 'alcohol': '4-5.5% '}, {'beer_style': 'English-Style-Brown-Porter', 'color': '20-35', 'bitterness': '20-30 I', 'alcohol': '4.5-6% '}, {'beer_style': 'English-Style-Brown-Porter', 'color': '20-35', 'bitterness': '20-30 I', 'alcohol': '4.5-6% '}, {'beer_style': 'English-Style-Brown-Porter', 'color': '20-35', 'bitterness': '20-30 I', 'alcohol': '4.5-6% '}, {'beer_style': 'english-style-india-pale-ale', 'color': '6-14 ', 'bitterness': '35-63 I', 'alcohol': '5-7%  A'}, {'beer_style': 'english-style-india-pale-ale', 'color': '6-14 ', 'bitterness': '35-63 I', 'alcohol': '5-7%  A'}, {'beer_style': 'english-style-india-pale-ale', 'color': '6-14 ', 'bitterness': '35-63 I', 'alcohol': '5-7%  A'}, {'beer_style': 'english-style-dark-mild', 'color': '17-34', 'bitterness': '10-24 I', 'alcohol': '3.2-4% '}, {'beer_style': 'english-style-dark-mild', 'color': '17-34', 'bitterness': '10-24 I', 'alcohol': '3.2-4% '}, {'beer_style': 'english-style-dark-mild', 'color': '17-34', 'bitterness': '10-24 I', 'alcohol': '3.2-4% '}, {'beer_style': 'English-Style-Oatmeal-Stout', 'color': '20-50', 'bitterness': '20-40 I', 'alcohol': '3.8-6% '}, {'beer_style': 'English-Style-Oatmeal-Stout', 'color': '20-50', 'bitterness': '20-40 I', 'alcohol': '3.8-6% '}, {'beer_style': 'English-Style-Oatmeal-Stout', 'color': '20-50', 'bitterness': '20-40 I', 'alcohol': '3.8-6% '}, {'beer_style': 'English-Style-Old-Ale', 'color': '12-30', 'bitterness': '30-65 I', 'alcohol': '6.3-9.1'}, {'beer_style': 'English-Style-Old-Ale', 'color': '12-30', 'bitterness': '30-65 I', 'alcohol': '6.3-9.1'}, {'beer_style': 'English-Style-Old-Ale', 'color': '12-30', 'bitterness': '30-65 I', 'alcohol': '6.3-9.1'}, {'beer_style': 'English-Style-Pale-Ale-(ESB)', 'color': '5-16 ', 'bitterness': '20-40 I', 'alcohol': '4.5-5.5'}, {'beer_style': 'English-Style-Pale-Ale-(ESB)', 'color': '5-16 ', 'bitterness': '20-40 I', 'alcohol': '4.5-5.5'}, {'beer_style': 'English-Style-Pale-Ale-(ESB)', 'color': '5-16 ', 'bitterness': '20-40 I', 'alcohol': '4.5-5.5'}, {'beer_style': 'English-Style-Sweet-Stout-(Milk-Stout)', 'color': '40-40', 'bitterness': '15-25 I', 'alcohol': '3-6%  A'}, {'beer_style': 'English-Style-Sweet-Stout-(Milk-Stout)', 'color': '40-40', 'bitterness': '15-25 I', 'alcohol': '3-6%  A'}, {'beer_style': 'English-Style-Sweet-Stout-(Milk-Stout)', 'color': '40-40', 'bitterness': '15-25 I', 'alcohol': '3-6%  A'}, {'beer_style': 'European-Style-Export', 'color': '3-6 S', 'bitterness': '23-29 I', 'alcohol': '5.1-6.1'}, {'beer_style': 'European-Style-Export', 'color': '3-6 S', 'bitterness': '23-29 I', 'alcohol': '5.1-6.1'}, {'beer_style': 'European-Style-Export', 'color': '3-6 S', 'bitterness': '23-29 I', 'alcohol': '5.1-6.1'}, {'beer_style': 'biere-de-garde', 'color': '7-16 ', 'bitterness': '20-30 I', 'alcohol': '4.4-8% '}, {'beer_style': 'biere-de-garde', 'color': '7-16 ', 'bitterness': '20-30 I', 'alcohol': '4.4-8% '}, {'beer_style': 'biere-de-garde', 'color': '7-16 ', 'bitterness': '20-30 I', 'alcohol': '4.4-8% '}, {'beer_style': 'fruit-field-or-flavored', 'color': '5-50 ', 'bitterness': '5-45 IB', 'alcohol': '2.5-12%'}, {'beer_style': 'fruit-field-or-flavored', 'color': '5-50 ', 'bitterness': '5-45 IB', 'alcohol': '2.5-12%'}, {'beer_style': 'fruit-field-or-flavored', 'color': '5-50 ', 'bitterness': '5-45 IB', 'alcohol': '2.5-12%'}, {'beer_style': 'german-style-brownaltbier', 'color': '11-19', 'bitterness': '25-52 I', 'alcohol': '4.6-5.6'}, {'beer_style': 'german-style-brownaltbier', 'color': '11-19', 'bitterness': '25-52 I', 'alcohol': '4.6-5.6'}, {'beer_style': 'german-style-brownaltbier', 'color': '11-19', 'bitterness': '25-52 I', 'alcohol': '4.6-5.6'}, {'beer_style': 'German-Style-Bock', 'color': '20-30', 'bitterness': '20-30 I', 'alcohol': '6.3-7.5'}, {'beer_style': 'German-Style-Bock', 'color': '20-30', 'bitterness': '20-30 I', 'alcohol': '6.3-7.5'}, {'beer_style': 'German-Style-Bock', 'color': '20-30', 'bitterness': '20-30 I', 'alcohol': '6.3-7.5'}, {'beer_style': 'German-Style-Doppelbock', 'color': '12-30', 'bitterness': '17-27 I', 'alcohol': '6.6-7.9'}, {'beer_style': 'German-Style-Doppelbock', 'color': '12-30', 'bitterness': '17-27 I', 'alcohol': '6.6-7.9'}, {'beer_style': 'German-Style-Doppelbock', 'color': '12-30', 'bitterness': '17-27 I', 'alcohol': '6.6-7.9'}, {'beer_style': 'German-Style-Dunkel', 'color': '15-17', 'bitterness': '16-25 I', 'alcohol': '4.8-5.3'}, {'beer_style': 'German-Style-Dunkel', 'color': '15-17', 'bitterness': '16-25 I', 'alcohol': '4.8-5.3'}, {'beer_style': 'German-Style-Dunkel', 'color': '15-17', 'bitterness': '16-25 I', 'alcohol': '4.8-5.3'}, {'beer_style': 'German-Style-Dunkelweizen', 'color': '10-25', 'bitterness': '10-15 I', 'alcohol': '4.8-5.4'}, {'beer_style': 'German-Style-Dunkelweizen', 'color': '10-25', 'bitterness': '10-15 I', 'alcohol': '4.8-5.4'}, {'beer_style': 'German-Style-Dunkelweizen', 'color': '10-25', 'bitterness': '10-15 I', 'alcohol': '4.8-5.4'}, {'beer_style': 'German-Style-Hefeweizen', 'color': '3-9 S', 'bitterness': '10-15 I', 'alcohol': '4.9-5.6'}, {'beer_style': 'German-Style-Hefeweizen', 'color': '3-9 S', 'bitterness': '10-15 I', 'alcohol': '4.9-5.6'}, {'beer_style': 'German-Style-Hefeweizen', 'color': '3-9 S', 'bitterness': '10-15 I', 'alcohol': '4.9-5.6'}, {'beer_style': 'German-Style-Helles', 'color': '4-5.5', 'bitterness': '18-25 I', 'alcohol': '4.8-5.6'}, {'beer_style': 'German-Style-Helles', 'color': '4-5.5', 'bitterness': '18-25 I', 'alcohol': '4.8-5.6'}, {'beer_style': 'German-Style-Helles', 'color': '4-5.5', 'bitterness': '18-25 I', 'alcohol': '4.8-5.6'}, {'beer_style': 'German-Style-Kolsch', 'color': '3-6 S', 'bitterness': '18-28 I', 'alcohol': '4.8-5.3'}, {'beer_style': 'German-Style-Kolsch', 'color': '3-6 S', 'bitterness': '18-28 I', 'alcohol': '4.8-5.3'}, {'beer_style': 'German-Style-Kolsch', 'color': '3-6 S', 'bitterness': '18-28 I', 'alcohol': '4.8-5.3'}, {'beer_style': 'german-style-heller-bock-maibock', 'color': '4-9 S', 'bitterness': '20-38 I', 'alcohol': '6-8%  A'}, {'beer_style': 'german-style-heller-bock-maibock', 'color': '4-9 S', 'bitterness': '20-38 I', 'alcohol': '6-8%  A'}, {'beer_style': 'german-style-heller-bock-maibock', 'color': '4-9 S', 'bitterness': '20-38 I', 'alcohol': '6-8%  A'}, {'beer_style': 'German-Style-Pilsener', 'color': '3-4 S', 'bitterness': '25-50 I', 'alcohol': '4.6-5.3'}, {'beer_style': 'German-Style-Pilsener', 'color': '3-4 S', 'bitterness': '25-50 I', 'alcohol': '4.6-5.3'}, {'beer_style': 'German-Style-Pilsener', 'color': '3-4 S', 'bitterness': '25-50 I', 'alcohol': '4.6-5.3'}, {'beer_style': 'German-Style-Schwarzbier', 'color': '25-30', 'bitterness': '22-30 I', 'alcohol': '3.8-4.9'}, {'beer_style': 'German-Style-Schwarzbier', 'color': '25-30', 'bitterness': '22-30 I', 'alcohol': '3.8-4.9'}, {'beer_style': 'German-Style-Schwarzbier', 'color': '25-30', 'bitterness': '22-30 I', 'alcohol': '3.8-4.9'}, {'beer_style': 'German-Style-Weizenbock', 'color': '4.5-3', 'bitterness': '15-35 I', 'alcohol': '7-9.5% '}, {'beer_style': 'German-Style-Weizenbock', 'color': '4.5-3', 'bitterness': '15-35 I', 'alcohol': '7-9.5% '}, {'beer_style': 'German-Style-Weizenbock', 'color': '4.5-3', 'bitterness': '15-35 I', 'alcohol': '7-9.5% '}, {'beer_style': 'gluten-free', 'color': '1-40 ', 'bitterness': 'Varies-', 'alcohol': 'Varies-'}, {'beer_style': 'gluten-free', 'color': '1-40 ', 'bitterness': 'Varies-', 'alcohol': 'Varies-'}, {'beer_style': 'gluten-free', 'color': '1-40 ', 'bitterness': 'Varies-', 'alcohol': 'Varies-'}, {'beer_style': 'Herb-and-Spice-Beer', 'color': '5-50 ', 'bitterness': '5-40 IB', 'alcohol': '2.5-12%'}, {'beer_style': 'Herb-and-Spice-Beer', 'color': '5-50 ', 'bitterness': '5-40 IB', 'alcohol': '2.5-12%'}, {'beer_style': 'Herb-and-Spice-Beer', 'color': '5-50 ', 'bitterness': '5-40 IB', 'alcohol': '2.5-12%'}, {'beer_style': 'Honey-Beer', 'color': '1-50 ', 'bitterness': '1-100 I', 'alcohol': '2.5-12%'}, {'beer_style': 'Honey-Beer', 'color': '1-50 ', 'bitterness': '1-100 I', 'alcohol': '2.5-12%'}, {'beer_style': 'Honey-Beer', 'color': '1-50 ', 'bitterness': '1-100 I', 'alcohol': '2.5-12%'}, {'beer_style': 'Imperial-India-Pale-Ale', 'color': '2-9 S', 'bitterness': '65-100 ', 'alcohol': '7.6-10.'}, {'beer_style': 'Imperial-India-Pale-Ale', 'color': '2-9 S', 'bitterness': '65-100 ', 'alcohol': '7.6-10.'}, {'beer_style': 'Imperial-India-Pale-Ale', 'color': '2-9 S', 'bitterness': '65-100 ', 'alcohol': '7.6-10.'}, {'beer_style': 'Irish-Style-Dry-Stout', 'color': '35-40', 'bitterness': '30-40 I', 'alcohol': '3.8-5% '}, {'beer_style': 'Irish-Style-Dry-Stout', 'color': '35-40', 'bitterness': '30-40 I', 'alcohol': '3.8-5% '}, {'beer_style': 'Irish-Style-Dry-Stout', 'color': '35-40', 'bitterness': '30-40 I', 'alcohol': '3.8-5% '}, {'beer_style': 'irish-style-red', 'color': '11-18', 'bitterness': '20-28 I', 'alcohol': '4.0-4.8'}, {'beer_style': 'irish-style-red', 'color': '11-18', 'bitterness': '20-28 I', 'alcohol': '4.0-4.8'}, {'beer_style': 'irish-style-red', 'color': '11-18', 'bitterness': '20-28 I', 'alcohol': '4.0-4.8'}, {'beer_style': 'New-England-IPA', 'color': '3-7 S', 'bitterness': '30-50 I', 'alcohol': '6.3-7.5'}, {'beer_style': 'New-England-IPA', 'color': '3-7 S', 'bitterness': '30-50 I', 'alcohol': '6.3-7.5'}, {'beer_style': 'New-England-IPA', 'color': '3-7 S', 'bitterness': '30-50 I', 'alcohol': '6.3-7.5'}, {'beer_style': 'Pumpkin-Beer', 'color': '5-50 ', 'bitterness': '5-70 IB', 'alcohol': '2.3-12%'}, {'beer_style': 'Pumpkin-Beer', 'color': '5-50 ', 'bitterness': '5-70 IB', 'alcohol': '2.3-12%'}, {'beer_style': 'Pumpkin-Beer', 'color': '5-50 ', 'bitterness': '5-70 IB', 'alcohol': '2.3-12%'}, {'beer_style': 'Robust-Porter', 'color': '30-40', 'bitterness': '25-40 I', 'alcohol': '5.1-6.6'}, {'beer_style': 'Robust-Porter', 'color': '30-40', 'bitterness': '25-40 I', 'alcohol': '5.1-6.6'}, {'beer_style': 'Robust-Porter', 'color': '30-40', 'bitterness': '25-40 I', 'alcohol': '5.1-6.6'}, {'beer_style': 'Rye-Beer', 'color': '1-40 ', 'bitterness': 'Varies-', 'alcohol': 'Varies-'}, {'beer_style': 'Rye-Beer', 'color': '1-40 ', 'bitterness': 'Varies-', 'alcohol': 'Varies-'}, {'beer_style': 'Rye-Beer', 'color': '1-40 ', 'bitterness': 'Varies-', 'alcohol': 'Varies-'}, {'beer_style': 'scotch-ale-wee-heavy', 'color': '15-30', 'bitterness': '25-35 I', 'alcohol': '6.2-8% '}, {'beer_style': 'scotch-ale-wee-heavy', 'color': '15-30', 'bitterness': '25-35 I', 'alcohol': '6.2-8% '}, {'beer_style': 'scotch-ale-wee-heavy', 'color': '15-30', 'bitterness': '25-35 I', 'alcohol': '6.2-8% '}, {'beer_style': 'Scottish-Style-Ale', 'color': '6-19 ', 'bitterness': '9-25 IB', 'alcohol': '2.8-5.3'}, {'beer_style': 'Scottish-Style-Ale', 'color': '6-19 ', 'bitterness': '9-25 IB', 'alcohol': '2.8-5.3'}, {'beer_style': 'Scottish-Style-Ale', 'color': '6-19 ', 'bitterness': '9-25 IB', 'alcohol': '2.8-5.3'}, {'beer_style': 'Session-Beer', 'color': '2-100', 'bitterness': '10-35 I', 'alcohol': '3.5-5.0'}, {'beer_style': 'Session-Beer', 'color': '2-100', 'bitterness': '10-35 I', 'alcohol': '3.5-5.0'}, {'beer_style': 'Session-Beer', 'color': '2-100', 'bitterness': '10-35 I', 'alcohol': '3.5-5.0'}, {'beer_style': 'Smoke-Beer', 'color': 'Varie', 'bitterness': 'Varies-', 'alcohol': 'Varies-'}, {'beer_style': 'Smoke-Beer', 'color': 'Varie', 'bitterness': 'Varies-', 'alcohol': 'Varies-'}, {'beer_style': 'Smoke-Beer', 'color': 'Varie', 'bitterness': 'Varies-', 'alcohol': 'Varies-'}, {'beer_style': 'Smoke-Porter', 'color': '19-20', 'bitterness': '20-40 I', 'alcohol': '5.1-8.9'}, {'beer_style': 'Smoke-Porter', 'color': '19-20', 'bitterness': '20-40 I', 'alcohol': '5.1-8.9'}, {'beer_style': 'Smoke-Porter', 'color': '19-20', 'bitterness': '20-40 I', 'alcohol': '5.1-8.9'}, {'beer_style': 'Specialty-Beer', 'color': 'Varie', 'bitterness': '1-100 I', 'alcohol': '2.5-25%'}, {'beer_style': 'Specialty-Beer', 'color': 'Varie', 'bitterness': '1-100 I', 'alcohol': '2.5-25%'}, {'beer_style': 'Specialty-Beer', 'color': 'Varie', 'bitterness': '1-100 I', 'alcohol': '2.5-25%'}, {'beer_style': 'Vienna-Style-Lager', 'color': '12-16', 'bitterness': '22-28 I', 'alcohol': '4.5-5.5'}, {'beer_style': 'Vienna-Style-Lager', 'color': '12-16', 'bitterness': '22-28 I', 'alcohol': '4.5-5.5'}, {'beer_style': 'Vienna-Style-Lager', 'color': '12-16', 'bitterness': '22-28 I', 'alcohol': '4.5-5.5'}]\n"
     ]
    }
   ],
   "source": [
    "input_link = \"https://www.craftbeer.com/styles/\"\n",
    "\n",
    "if input_link != \"https://www.craftbeer.com/styles/\":\n",
    "    print(\"This function is only desinged to work with the link 'https://www.craftbeer.com/styles/'\")\n",
    "else:\n",
    "    beers_to_scrape=[\"American-Amber-Ale\"]\n",
    "    beers_to_scrape2 = ['Amber-Ale','American-Amber-Lager','American-Barley-Wine','American-Black-Ale','American-Brett','American-Brown-Ale','American-Cream-Ale',\n",
    "                        'American-Imperial-Porter','American-Imperial-Red-Ale','American-Imperial-Stout','american-india-pale-ale','American-Lager','American-Pale-Ale','American-Sour',\n",
    "                        'American-Stout','American-Style-Wheat-Wine-Ale','American-Wheat','Baltic-Style-Porter','Barrel-Aged-Beer','Belgian-Style-Blonde-Ale',\n",
    "                        'Belgian-Style-Dubbel','Belgian-Style-Flanders','Belgian-Style-Fruit-Lambic','Belgian-Style-Golden-Strong-Ale','belgian-style-lambic-gueuze',\n",
    "                        'Belgian-Style-Pale-Ale','Belgian-Style-Quadrupel','Belgian-Style-Saison','Belgian-Style-Tripel','belgian-style-wit','Berliner-Style-Weisse',\n",
    "                        'Blonde-Ale','Bohemian-Style-Pilsener','British-Style-Barley-Wine-Ale','California-Common','Chocolate-Beer','Coffee-Beer','Contemporary-Gose',\n",
    "                        'English-Style-Bitter','English-Style-Brown-Ale','English-Style-Brown-Porter','english-style-india-pale-ale','english-style-dark-mild','English-Style-Oatmeal-Stout',\n",
    "                        'English-Style-Old-Ale','English-Style-Pale-Ale-(ESB)','English-Style-Sweet-Stout-(Milk-Stout)','European-Style-Export','biere-de-garde',\n",
    "                        'fruit-field-or-flavored','german-style-brownaltbier','German-Style-Bock','German-Style-Doppelbock','German-Style-Dunkel','German-Style-Dunkelweizen',\n",
    "                        'German-Style-Hefeweizen','German-Style-Helles','German-Style-Kolsch','german-style-heller-bock-maibock','German-Style-Marzen-/-Oktoberfest',\n",
    "                        'German-Style-Pilsener','German-Style-Schwarzbier','German-Style-Weizenbock','gluten-free','Herb-and-Spice-Beer','Honey-Beer',\n",
    "                        'Imperial-India-Pale-Ale', 'Irish-Style-Dry-Stout','irish-style-red','New-England-IPA','Pumpkin-Beer','Robust-Porter','Rye-Beer',\n",
    "                        'scotch-ale-wee-heavy','Scottish-Style-Ale','Session-Beer','Smoke-Beer','Smoke-Porter','Specialty-Beer','Vienna-Style-Lager'] \n",
    "    \n",
    "    list_dict_beers_data=[]\n",
    "    link= \"https://www.craftbeer.com/styles/\"\n",
    "\n",
    "    \n",
    "\n",
    "    for beer in beers_to_scrape2:\n",
    "        beer_page = f\"{link}{beer}\" #This is creating the link to the page based on the beers to scrape a for the list beers_to_scrape\n",
    "        home_response = requests.get(beer_page)\n",
    "        soup_home = BeautifulSoup(home_response.content, \"html.parser\") #this is creating the soup for all 50 websites\n",
    "        color_biterness_alcohol=soup_home.select(\".slider-container label a span\") #Creates a list with all three characteristics\n",
    "        # print(f\"{beer}: {home_response}\")\n",
    "\n",
    "        for a in color_biterness_alcohol:\n",
    "                #Defining the dict inside the loop so it creates a new one on every loop.\n",
    "\n",
    "            dict_beers_data={\"beer_style\": None,\"color\": None, \"bitterness\": None, \"alcohol\":None}\n",
    "            dict_beers_data[\"beer_style\"]=beer\n",
    "            dict_beers_data[\"color\"]=color_biterness_alcohol[0].text[0:5]\n",
    "            dict_beers_data[\"bitterness\"]=color_biterness_alcohol[1].text[0:7]\n",
    "            dict_beers_data[\"alcohol\"]=color_biterness_alcohol[2].text[0:7]\n",
    "            list_dict_beers_data.append(dict_beers_data)\n",
    "print(list_dict_beers_data)\n",
    "        \n",
    "\n",
    "        "
   ]
  },
  {
   "cell_type": "code",
   "execution_count": 183,
   "id": "882799e7",
   "metadata": {},
   "outputs": [],
   "source": [
    "df_beers_data = pd.DataFrame(list_dict_beers_data)\n",
    "df_beers_data.to_csv('../Data/Raw/standard_beer_types_features.csv')"
   ]
  },
  {
   "cell_type": "code",
   "execution_count": 173,
   "id": "8f178831",
   "metadata": {},
   "outputs": [],
   "source": [
    "df_beers_data=df_beers_data.drop_duplicates().reset_index(drop=True)\n",
    "df_beers_data['color']=df_beers_data['color'].replace('Varie','N/A')\n",
    "df_beers_data['bitterness']=df_beers_data['bitterness'].replace('Varies-','N/A')\n",
    "df_beers_data['alcohol']=df_beers_data['alcohol'].replace('Varies-','N/A')"
   ]
  },
  {
   "cell_type": "code",
   "execution_count": 174,
   "id": "164086a9",
   "metadata": {},
   "outputs": [],
   "source": [
    "color=df_beers_data['color'].str.extract(r'(\\d+)-(\\d+)').astype(float)\n",
    "bitterness=df_beers_data['bitterness'].str.extract(r'(\\d+)-(\\d+)').astype(float)\n",
    "alcohol=df_beers_data['alcohol'].str.extract(r'(\\d+)-(\\d+)').astype(float)"
   ]
  },
  {
   "cell_type": "code",
   "execution_count": 175,
   "id": "ff1e7037",
   "metadata": {},
   "outputs": [],
   "source": [
    "df_beers_data['bitterness']=bitterness.mean(axis=1).astype(float)\n",
    "df_beers_data['color']=color.mean(axis=1).astype(float)\n",
    "df_beers_data['alcohol']=alcohol.mean(axis=1).astype(float)"
   ]
  },
  {
   "cell_type": "code",
   "execution_count": 177,
   "id": "4d1285a6",
   "metadata": {},
   "outputs": [],
   "source": [
    "color_bins = [-np.inf, 10, 20, 30, np.inf]\n",
    "color_labels = ['Gold', 'Light brown', 'Light dark', 'Dark']\n",
    "df_beers_data['color'] = pd.cut(df_beers_data['color'], bins=color_bins, labels=color_labels, right=True)\n",
    "\n",
    "bitterness_bins = [-np.inf, 19, 50, np.inf]\n",
    "bitterness_labels = ['Low', 'Moderate', 'High']\n",
    "\n",
    "df_beers_data['bitterness'] = pd.cut(df_beers_data['bitterness'], bins=bitterness_bins, labels=bitterness_labels, right=True)\n",
    "\n",
    "alcohol_bins = [-np.inf, 4.1, 6.6, np.inf]\n",
    "alcohol_labels = ['Light', 'Regular', 'Strong']\n",
    "\n",
    "df_beers_data['alcohol'] = pd.cut(df_beers_data['alcohol'], bins=alcohol_bins, labels=alcohol_labels, right=True)"
   ]
  },
  {
   "cell_type": "code",
   "execution_count": 182,
   "id": "dcd67b8c",
   "metadata": {},
   "outputs": [],
   "source": [
    "df_beers_data.to_csv('../Data/Clean/standard_beer_types_features.csv')"
   ]
  }
 ],
 "metadata": {
  "kernelspec": {
   "display_name": "Python 3",
   "language": "python",
   "name": "python3"
  },
  "language_info": {
   "codemirror_mode": {
    "name": "ipython",
    "version": 3
   },
   "file_extension": ".py",
   "mimetype": "text/x-python",
   "name": "python",
   "nbconvert_exporter": "python",
   "pygments_lexer": "ipython3",
   "version": "3.13.3"
  }
 },
 "nbformat": 4,
 "nbformat_minor": 5
}
