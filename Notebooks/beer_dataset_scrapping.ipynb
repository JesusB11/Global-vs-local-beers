{
 "cells": [
  {
   "cell_type": "code",
   "execution_count": 1,
   "id": "1eadda6e",
   "metadata": {},
   "outputs": [],
   "source": [
    "import requests\n",
    "from bs4 import BeautifulSoup\n",
    "import pandas as pd\n",
    "import numpy as np\n",
    "import time"
   ]
  },
  {
   "cell_type": "markdown",
   "id": "cef60ab1",
   "metadata": {},
   "source": [
    "Creating the soup"
   ]
  },
  {
   "cell_type": "code",
   "execution_count": 37,
   "id": "5b75a170",
   "metadata": {},
   "outputs": [],
   "source": [
    "url = \"https://www.craftbeer.com/styles/american-amber-lager\"\n",
    "response = requests.get(url)\n",
    "soup = BeautifulSoup(response.content, \"html.parser\")"
   ]
  },
  {
   "cell_type": "markdown",
   "id": "476df1bf",
   "metadata": {},
   "source": [
    "Scrapping the website leaving 3 sec between page to scrap. I am getting the ABV, SRM and IBU"
   ]
  },
  {
   "cell_type": "code",
   "execution_count": null,
   "id": "a51e1cac",
   "metadata": {},
   "outputs": [],
   "source": [
    "beers_to_scrape2 = ['Amber-Ale','American-Amber-Lager','American-Barley-Wine','American-Black-Ale','American-Brett','American-Brown-Ale','American-Cream-Ale',\n",
    "                    'American-Imperial-Porter','American-Imperial-Red-Ale','American-Imperial-Stout','american-india-pale-ale','American-Lager','American-Pale-Ale','American-Sour',\n",
    "                    'American-Stout','American-Style-Wheat-Wine-Ale','American-Wheat','Baltic-Style-Porter','Barrel-Aged-Beer','Belgian-Style-Blonde-Ale',\n",
    "                    'Belgian-Style-Dubbel','Belgian-Style-Flanders','Belgian-Style-Fruit-Lambic','Belgian-Style-Golden-Strong-Ale','belgian-style-lambic-gueuze',\n",
    "                    'Belgian-Style-Pale-Ale','Belgian-Style-Quadrupel','Belgian-Style-Saison','Belgian-Style-Tripel','belgian-style-wit','Berliner-Style-Weisse',\n",
    "                    'Blonde-Ale','Bohemian-Style-Pilsener','British-Style-Barley-Wine-Ale','California-Common','Chocolate-Beer','Coffee-Beer','Contemporary-Gose',\n",
    "                    'English-Style-Bitter','English-Style-Brown-Ale','English-Style-Brown-Porter','english-style-india-pale-ale','english-style-dark-mild','English-Style-Oatmeal-Stout',\n",
    "                    'English-Style-Old-Ale','English-Style-Pale-Ale-(ESB)','English-Style-Sweet-Stout-(Milk-Stout)','European-Style-Export','biere-de-garde',\n",
    "                    'fruit-field-or-flavored','german-style-brownaltbier','German-Style-Bock','German-Style-Doppelbock','German-Style-Dunkel','German-Style-Dunkelweizen',\n",
    "                    'German-Style-Hefeweizen','German-Style-Helles','German-Style-Kolsch','german-style-heller-bock-maibock', 'German-Style-Pilsener','German-Style-Schwarzbier','German-Style-Weizenbock','gluten-free','Herb-and-Spice-Beer','Honey-Beer',\n",
    "                    'Imperial-India-Pale-Ale', 'Irish-Style-Dry-Stout','irish-style-red','New-England-IPA','Pumpkin-Beer','Robust-Porter','Rye-Beer',\n",
    "                    'scotch-ale-wee-heavy','Scottish-Style-Ale','Session-Beer','Smoke-Beer','Smoke-Porter','Specialty-Beer','Vienna-Style-Lager','german-style-marzen-oktoberfest'] \n",
    "\n",
    "list_dict_beers_data=[]\n",
    "link= \"https://www.craftbeer.com/styles/\"\n",
    "\n",
    "\n",
    "\n",
    "for beer in beers_to_scrape2:\n",
    "    beer_page = f\"{link}{beer}\" #This is creating the link to the page based on the beers to scrape a for the list beers_to_scrape\n",
    "    home_response = requests.get(beer_page)\n",
    "    soup_home = BeautifulSoup(home_response.content, \"html.parser\") #this is creating the soup for all beers\n",
    "    color_biterness_alcohol=soup_home.select(\".slider-container label a span\") #Creates a list with all three characteristics\n",
    "    \n",
    "            #Defining the dict inside the loop so it creates a new one on every loop.\n",
    "   \n",
    "    dict_beers_data={\"beer_style\": None,\"color\": None, \"bitterness\": None, \"alcohol\":None}\n",
    "    #getting the info from the list \n",
    "    dict_beers_data[\"beer_style\"]=beer\n",
    "    dict_beers_data[\"color\"]=color_biterness_alcohol[0].text[0:5]\n",
    "    dict_beers_data[\"bitterness\"]=color_biterness_alcohol[1].text[0:7]\n",
    "    dict_beers_data[\"alcohol\"]=color_biterness_alcohol[2].text[0:7]\n",
    "    list_dict_beers_data.append(dict_beers_data)\n",
    "    \n",
    "    time.sleep(3)#resting 3 sec in between beers \n",
    "# print(list_dict_beers_data)   "
   ]
  },
  {
   "cell_type": "markdown",
   "id": "2d72f1cd",
   "metadata": {},
   "source": [
    "Checking that I got all 80 beers info"
   ]
  },
  {
   "cell_type": "code",
   "execution_count": 47,
   "id": "98183744",
   "metadata": {},
   "outputs": [
    {
     "data": {
      "text/plain": [
       "80"
      ]
     },
     "execution_count": 47,
     "metadata": {},
     "output_type": "execute_result"
    }
   ],
   "source": [
    "len(list_dict_beers_data)\n"
   ]
  },
  {
   "cell_type": "markdown",
   "id": "b6f67d94",
   "metadata": {},
   "source": [
    "Creating the DF and saving it in the raw folder."
   ]
  },
  {
   "cell_type": "code",
   "execution_count": 76,
   "id": "882799e7",
   "metadata": {},
   "outputs": [],
   "source": [
    "df_beers_data = pd.DataFrame(list_dict_beers_data)\n",
    "df_beers_data.to_csv('../Data/Raw/standard_beer_types_features.csv',index=False)"
   ]
  },
  {
   "cell_type": "code",
   "execution_count": 77,
   "id": "a332a50c",
   "metadata": {},
   "outputs": [
    {
     "data": {
      "text/plain": [
       "80"
      ]
     },
     "execution_count": 77,
     "metadata": {},
     "output_type": "execute_result"
    }
   ],
   "source": [
    "df_beers_data['beer_style'].nunique()"
   ]
  },
  {
   "cell_type": "markdown",
   "id": "bfeba41a",
   "metadata": {},
   "source": [
    "Cleaning the file"
   ]
  },
  {
   "cell_type": "code",
   "execution_count": 78,
   "id": "8f178831",
   "metadata": {},
   "outputs": [],
   "source": [
    "df_beers_data=df_beers_data.drop_duplicates().reset_index(drop=True)\n",
    "df_beers_data['color']=df_beers_data['color'].replace('Varie','N/A')\n",
    "df_beers_data['bitterness']=df_beers_data['bitterness'].replace('Varies-','N/A')\n",
    "df_beers_data['alcohol']=df_beers_data['alcohol'].replace('Varies-','N/A')"
   ]
  },
  {
   "cell_type": "markdown",
   "id": "d62fd12e",
   "metadata": {},
   "source": [
    "Obtaining only the numbers using reggex and converting them into float."
   ]
  },
  {
   "cell_type": "code",
   "execution_count": 79,
   "id": "164086a9",
   "metadata": {},
   "outputs": [],
   "source": [
    "color=df_beers_data['color'].str.extract(r'(\\d+)-(\\d+)').astype(float)\n",
    "bitterness=df_beers_data['bitterness'].str.extract(r'(\\d+)-(\\d+)').astype(float)\n",
    "alcohol=df_beers_data['alcohol'].str.extract(r'(\\d+)-(\\d+)').astype(float)"
   ]
  },
  {
   "cell_type": "markdown",
   "id": "4a05bd91",
   "metadata": {},
   "source": [
    "Creating bins (categories) as the numbers vary and are not an specific one. The other option was to keep the mean but this seems easier to understand"
   ]
  },
  {
   "cell_type": "code",
   "execution_count": 81,
   "id": "4d1285a6",
   "metadata": {},
   "outputs": [],
   "source": [
    "color_bins = [-np.inf, 10, 20, 30, np.inf]\n",
    "color_labels = ['Gold', 'Light brown', 'Light dark', 'Dark']\n",
    "df_beers_data['color'] = pd.cut(df_beers_data['color'], bins=color_bins, labels=color_labels, right=True)\n",
    "\n",
    "bitterness_bins = [-np.inf, 19, 50, np.inf]\n",
    "bitterness_labels = ['Low', 'Moderate', 'High']\n",
    "\n",
    "df_beers_data['bitterness'] = pd.cut(df_beers_data['bitterness'], bins=bitterness_bins, labels=bitterness_labels, right=True)\n",
    "\n",
    "alcohol_bins = [-np.inf, 4.1, 6.6, np.inf]\n",
    "alcohol_labels = ['Light', 'Regular', 'Strong']\n",
    "\n",
    "df_beers_data['alcohol'] = pd.cut(df_beers_data['alcohol'], bins=alcohol_bins, labels=alcohol_labels, right=True)"
   ]
  },
  {
   "cell_type": "code",
   "execution_count": 83,
   "id": "3d2e8d49",
   "metadata": {},
   "outputs": [],
   "source": [
    "df_beers_data=df_beers_data.dropna()"
   ]
  },
  {
   "cell_type": "markdown",
   "id": "70966bf8",
   "metadata": {},
   "source": [
    "Creating the id for the styles that I will use to link with the other DS"
   ]
  },
  {
   "cell_type": "code",
   "execution_count": 85,
   "id": "504f726a",
   "metadata": {},
   "outputs": [],
   "source": [
    "df_beers_data['style_id']=np.arange(1, 73)\n"
   ]
  },
  {
   "cell_type": "code",
   "execution_count": 108,
   "id": "1b7e0769",
   "metadata": {},
   "outputs": [],
   "source": [
    "df_beers_data['beer_style']=df_beers_data['beer_style'].str.replace(\"-\",\" \")"
   ]
  },
  {
   "cell_type": "code",
   "execution_count": null,
   "id": "3388a965",
   "metadata": {},
   "outputs": [
    {
     "data": {
      "application/vnd.microsoft.datawrangler.viewer.v0+json": {
       "columns": [
        {
         "name": "index",
         "rawType": "int64",
         "type": "integer"
        },
        {
         "name": "beer_style",
         "rawType": "object",
         "type": "string"
        },
        {
         "name": "color",
         "rawType": "category",
         "type": "unknown"
        },
        {
         "name": "bitterness",
         "rawType": "category",
         "type": "unknown"
        },
        {
         "name": "alcohol",
         "rawType": "category",
         "type": "unknown"
        },
        {
         "name": "style_id",
         "rawType": "int64",
         "type": "integer"
        }
       ],
       "ref": "f3c3c2fd-0d4d-447d-9175-f67a3031838e",
       "rows": [
        [
         "10",
         "american india pale ale",
         "Gold",
         "High",
         "Regular",
         "10"
        ]
       ],
       "shape": {
        "columns": 5,
        "rows": 1
       }
      },
      "text/html": [
       "<div>\n",
       "<style scoped>\n",
       "    .dataframe tbody tr th:only-of-type {\n",
       "        vertical-align: middle;\n",
       "    }\n",
       "\n",
       "    .dataframe tbody tr th {\n",
       "        vertical-align: top;\n",
       "    }\n",
       "\n",
       "    .dataframe thead th {\n",
       "        text-align: right;\n",
       "    }\n",
       "</style>\n",
       "<table border=\"1\" class=\"dataframe\">\n",
       "  <thead>\n",
       "    <tr style=\"text-align: right;\">\n",
       "      <th></th>\n",
       "      <th>beer_style</th>\n",
       "      <th>color</th>\n",
       "      <th>bitterness</th>\n",
       "      <th>alcohol</th>\n",
       "      <th>style_id</th>\n",
       "    </tr>\n",
       "  </thead>\n",
       "  <tbody>\n",
       "    <tr>\n",
       "      <th>10</th>\n",
       "      <td>american india pale ale</td>\n",
       "      <td>Gold</td>\n",
       "      <td>High</td>\n",
       "      <td>Regular</td>\n",
       "      <td>10</td>\n",
       "    </tr>\n",
       "  </tbody>\n",
       "</table>\n",
       "</div>"
      ],
      "text/plain": [
       "                 beer_style color bitterness  alcohol  style_id\n",
       "10  american india pale ale  Gold       High  Regular        10"
      ]
     },
     "execution_count": 131,
     "metadata": {},
     "output_type": "execute_result"
    }
   ],
   "source": []
  },
  {
   "cell_type": "code",
   "execution_count": 121,
   "id": "dcd67b8c",
   "metadata": {},
   "outputs": [],
   "source": [
    "df_beers_data.to_csv('../Data/Clean/standard_beer_types_features_clean.csv',index=False)"
   ]
  },
  {
   "cell_type": "code",
   "execution_count": 2,
   "id": "65745bdd",
   "metadata": {},
   "outputs": [],
   "source": [
    "df=pd.read_csv('../Data/Clean/standard_beer_types_features_clean.csv')"
   ]
  },
  {
   "cell_type": "code",
   "execution_count": 3,
   "id": "d2bf66b7",
   "metadata": {},
   "outputs": [
    {
     "data": {
      "text/plain": [
       "array(['Amber Ale', 'American Amber Lager', 'American Barley Wine',\n",
       "       'American Black Ale', 'American Brown Ale', 'American Cream Ale',\n",
       "       'American Imperial Porter', 'American Imperial Red Ale',\n",
       "       'American Imperial Stout', 'american india pale ale',\n",
       "       'American Lager', 'American Pale Ale', 'American Stout',\n",
       "       'American Style Wheat Wine Ale', 'American Wheat',\n",
       "       'Baltic Style Porter', 'Belgian Style Blonde Ale',\n",
       "       'Belgian Style Dubbel', 'Belgian Style Flanders',\n",
       "       'Belgian Style Golden Strong Ale', 'belgian style lambic gueuze',\n",
       "       'Belgian Style Pale Ale', 'Belgian Style Quadrupel',\n",
       "       'Belgian Style Saison', 'Belgian Style Tripel',\n",
       "       'belgian style wit', 'Berliner Style Weisse', 'Blonde Ale',\n",
       "       'Bohemian Style Pilsener', 'British Style Barley Wine Ale',\n",
       "       'California Common', 'Chocolate Beer', 'Coffee Beer',\n",
       "       'Contemporary Gose', 'English Style Bitter',\n",
       "       'English Style Brown Ale', 'English Style Brown Porter',\n",
       "       'english style india pale ale', 'english style dark mild',\n",
       "       'English Style Oatmeal Stout', 'English Style Old Ale',\n",
       "       'English Style Pale Ale (ESB)',\n",
       "       'English Style Sweet Stout (Milk Stout)', 'European Style Export',\n",
       "       'biere de garde', 'fruit field or flavored',\n",
       "       'german style brownaltbier', 'German Style Bock',\n",
       "       'German Style Doppelbock', 'German Style Dunkel',\n",
       "       'German Style Dunkelweizen', 'German Style Hefeweizen',\n",
       "       'German Style Helles', 'German Style Kolsch',\n",
       "       'german style heller bock maibock', 'German Style Pilsener',\n",
       "       'German Style Schwarzbier', 'German Style Weizenbock',\n",
       "       'Herb and Spice Beer', 'Honey Beer', 'Imperial India Pale Ale',\n",
       "       'Irish Style Dry Stout', 'irish style red', 'New England IPA',\n",
       "       'Pumpkin Beer', 'Robust Porter', 'scotch ale wee heavy',\n",
       "       'Scottish Style Ale', 'Session Beer', 'Smoke Porter',\n",
       "       'Vienna Style Lager', 'german style marzen oktoberfest'],\n",
       "      dtype=object)"
      ]
     },
     "execution_count": 3,
     "metadata": {},
     "output_type": "execute_result"
    }
   ],
   "source": [
    "df['beer_style'].unique()"
   ]
  }
 ],
 "metadata": {
  "kernelspec": {
   "display_name": "Python 3",
   "language": "python",
   "name": "python3"
  },
  "language_info": {
   "codemirror_mode": {
    "name": "ipython",
    "version": 3
   },
   "file_extension": ".py",
   "mimetype": "text/x-python",
   "name": "python",
   "nbconvert_exporter": "python",
   "pygments_lexer": "ipython3",
   "version": "3.13.3"
  }
 },
 "nbformat": 4,
 "nbformat_minor": 5
}
